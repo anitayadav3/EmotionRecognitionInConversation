{
  "nbformat": 4,
  "nbformat_minor": 0,
  "metadata": {
    "colab": {
      "name": "ERC_Using_ALBERT.ipynb",
      "provenance": [],
      "collapsed_sections": [],
      "authorship_tag": "ABX9TyPcfG6lsM6hLhUWxRlgPf9K",
      "include_colab_link": true
    },
    "kernelspec": {
      "name": "python3",
      "display_name": "Python 3"
    },
    "accelerator": "GPU"
  },
  "cells": [
    {
      "cell_type": "markdown",
      "metadata": {
        "id": "view-in-github",
        "colab_type": "text"
      },
      "source": [
        "<a href=\"https://colab.research.google.com/github/anitayadav3/EmotionRecognitionInConversation/blob/master/ERC_Using_ALBERT.ipynb\" target=\"_parent\"><img src=\"https://colab.research.google.com/assets/colab-badge.svg\" alt=\"Open In Colab\"/></a>"
      ]
    },
    {
      "cell_type": "code",
      "metadata": {
        "colab": {
          "base_uri": "https://localhost:8080/"
        },
        "id": "u85NAkwDfyKV",
        "outputId": "87fffe3a-d584-4a60-b128-0b818efa3431"
      },
      "source": [
        "import numpy as np # linear algebra\r\n",
        "import pandas as pd # data processing, CSV file I/O (e.g. pd.read_csv)\r\n",
        "import numpy as np\r\n",
        "import re\r\n",
        "import nltk\r\n",
        "from nltk.corpus import stopwords\r\n",
        "nltk.download('stopwords')\r\n",
        "nltk.download('punkt')\r\n",
        "from nltk.tokenize import word_tokenize\r\n",
        "import pandas as pd\r\n",
        "import tensorflow as tf\r\n",
        "from tensorflow.keras.layers import Dense, Input, GRU, Dropout\r\n",
        "from tensorflow.keras.optimizers import Adam\r\n",
        "from tensorflow.keras.models import Model\r\n",
        "from tensorflow.keras.callbacks import ModelCheckpoint\r\n",
        "import tensorflow_hub as hub\r\n",
        "import pickle\r\n",
        "from sklearn.metrics import f1_score\r\n",
        "from sklearn.metrics import accuracy_score\r\n",
        "from keras.utils.np_utils import to_categorical  \r\n",
        "import string\r\n",
        "import requests"
      ],
      "execution_count": 1,
      "outputs": [
        {
          "output_type": "stream",
          "text": [
            "[nltk_data] Downloading package stopwords to /root/nltk_data...\n",
            "[nltk_data]   Unzipping corpora/stopwords.zip.\n",
            "[nltk_data] Downloading package punkt to /root/nltk_data...\n",
            "[nltk_data]   Unzipping tokenizers/punkt.zip.\n"
          ],
          "name": "stdout"
        }
      ]
    },
    {
      "cell_type": "code",
      "metadata": {
        "colab": {
          "base_uri": "https://localhost:8080/"
        },
        "id": "SV2MONG3gFU3",
        "outputId": "f0f3f2cb-0e64-464a-d1a8-00be56ce4d1c"
      },
      "source": [
        "!wget --quiet https://raw.githubusercontent.com/tensorflow/models/master/official/nlp/bert/tokenization.py\r\n",
        "!pip install sentencepiece"
      ],
      "execution_count": 2,
      "outputs": [
        {
          "output_type": "stream",
          "text": [
            "Collecting sentencepiece\n",
            "\u001b[?25l  Downloading https://files.pythonhosted.org/packages/14/67/e42bd1181472c95c8cda79305df848264f2a7f62740995a46945d9797b67/sentencepiece-0.1.95-cp36-cp36m-manylinux2014_x86_64.whl (1.2MB)\n",
            "\r\u001b[K     |▎                               | 10kB 21.9MB/s eta 0:00:01\r\u001b[K     |▌                               | 20kB 15.0MB/s eta 0:00:01\r\u001b[K     |▉                               | 30kB 12.3MB/s eta 0:00:01\r\u001b[K     |█                               | 40kB 12.0MB/s eta 0:00:01\r\u001b[K     |█▍                              | 51kB 8.5MB/s eta 0:00:01\r\u001b[K     |█▋                              | 61kB 8.4MB/s eta 0:00:01\r\u001b[K     |██                              | 71kB 9.0MB/s eta 0:00:01\r\u001b[K     |██▏                             | 81kB 10.0MB/s eta 0:00:01\r\u001b[K     |██▌                             | 92kB 8.8MB/s eta 0:00:01\r\u001b[K     |██▊                             | 102kB 8.2MB/s eta 0:00:01\r\u001b[K     |███                             | 112kB 8.2MB/s eta 0:00:01\r\u001b[K     |███▎                            | 122kB 8.2MB/s eta 0:00:01\r\u001b[K     |███▌                            | 133kB 8.2MB/s eta 0:00:01\r\u001b[K     |███▉                            | 143kB 8.2MB/s eta 0:00:01\r\u001b[K     |████                            | 153kB 8.2MB/s eta 0:00:01\r\u001b[K     |████▍                           | 163kB 8.2MB/s eta 0:00:01\r\u001b[K     |████▋                           | 174kB 8.2MB/s eta 0:00:01\r\u001b[K     |█████                           | 184kB 8.2MB/s eta 0:00:01\r\u001b[K     |█████▏                          | 194kB 8.2MB/s eta 0:00:01\r\u001b[K     |█████▌                          | 204kB 8.2MB/s eta 0:00:01\r\u001b[K     |█████▊                          | 215kB 8.2MB/s eta 0:00:01\r\u001b[K     |██████                          | 225kB 8.2MB/s eta 0:00:01\r\u001b[K     |██████▎                         | 235kB 8.2MB/s eta 0:00:01\r\u001b[K     |██████▌                         | 245kB 8.2MB/s eta 0:00:01\r\u001b[K     |██████▉                         | 256kB 8.2MB/s eta 0:00:01\r\u001b[K     |███████                         | 266kB 8.2MB/s eta 0:00:01\r\u001b[K     |███████▍                        | 276kB 8.2MB/s eta 0:00:01\r\u001b[K     |███████▋                        | 286kB 8.2MB/s eta 0:00:01\r\u001b[K     |████████                        | 296kB 8.2MB/s eta 0:00:01\r\u001b[K     |████████▏                       | 307kB 8.2MB/s eta 0:00:01\r\u001b[K     |████████▍                       | 317kB 8.2MB/s eta 0:00:01\r\u001b[K     |████████▊                       | 327kB 8.2MB/s eta 0:00:01\r\u001b[K     |█████████                       | 337kB 8.2MB/s eta 0:00:01\r\u001b[K     |█████████▎                      | 348kB 8.2MB/s eta 0:00:01\r\u001b[K     |█████████▌                      | 358kB 8.2MB/s eta 0:00:01\r\u001b[K     |█████████▉                      | 368kB 8.2MB/s eta 0:00:01\r\u001b[K     |██████████                      | 378kB 8.2MB/s eta 0:00:01\r\u001b[K     |██████████▍                     | 389kB 8.2MB/s eta 0:00:01\r\u001b[K     |██████████▋                     | 399kB 8.2MB/s eta 0:00:01\r\u001b[K     |███████████                     | 409kB 8.2MB/s eta 0:00:01\r\u001b[K     |███████████▏                    | 419kB 8.2MB/s eta 0:00:01\r\u001b[K     |███████████▍                    | 430kB 8.2MB/s eta 0:00:01\r\u001b[K     |███████████▊                    | 440kB 8.2MB/s eta 0:00:01\r\u001b[K     |████████████                    | 450kB 8.2MB/s eta 0:00:01\r\u001b[K     |████████████▎                   | 460kB 8.2MB/s eta 0:00:01\r\u001b[K     |████████████▌                   | 471kB 8.2MB/s eta 0:00:01\r\u001b[K     |████████████▉                   | 481kB 8.2MB/s eta 0:00:01\r\u001b[K     |█████████████                   | 491kB 8.2MB/s eta 0:00:01\r\u001b[K     |█████████████▍                  | 501kB 8.2MB/s eta 0:00:01\r\u001b[K     |█████████████▋                  | 512kB 8.2MB/s eta 0:00:01\r\u001b[K     |█████████████▉                  | 522kB 8.2MB/s eta 0:00:01\r\u001b[K     |██████████████▏                 | 532kB 8.2MB/s eta 0:00:01\r\u001b[K     |██████████████▍                 | 542kB 8.2MB/s eta 0:00:01\r\u001b[K     |██████████████▊                 | 552kB 8.2MB/s eta 0:00:01\r\u001b[K     |███████████████                 | 563kB 8.2MB/s eta 0:00:01\r\u001b[K     |███████████████▎                | 573kB 8.2MB/s eta 0:00:01\r\u001b[K     |███████████████▌                | 583kB 8.2MB/s eta 0:00:01\r\u001b[K     |███████████████▉                | 593kB 8.2MB/s eta 0:00:01\r\u001b[K     |████████████████                | 604kB 8.2MB/s eta 0:00:01\r\u001b[K     |████████████████▍               | 614kB 8.2MB/s eta 0:00:01\r\u001b[K     |████████████████▋               | 624kB 8.2MB/s eta 0:00:01\r\u001b[K     |████████████████▉               | 634kB 8.2MB/s eta 0:00:01\r\u001b[K     |█████████████████▏              | 645kB 8.2MB/s eta 0:00:01\r\u001b[K     |█████████████████▍              | 655kB 8.2MB/s eta 0:00:01\r\u001b[K     |█████████████████▊              | 665kB 8.2MB/s eta 0:00:01\r\u001b[K     |██████████████████              | 675kB 8.2MB/s eta 0:00:01\r\u001b[K     |██████████████████▎             | 686kB 8.2MB/s eta 0:00:01\r\u001b[K     |██████████████████▌             | 696kB 8.2MB/s eta 0:00:01\r\u001b[K     |██████████████████▉             | 706kB 8.2MB/s eta 0:00:01\r\u001b[K     |███████████████████             | 716kB 8.2MB/s eta 0:00:01\r\u001b[K     |███████████████████▎            | 727kB 8.2MB/s eta 0:00:01\r\u001b[K     |███████████████████▋            | 737kB 8.2MB/s eta 0:00:01\r\u001b[K     |███████████████████▉            | 747kB 8.2MB/s eta 0:00:01\r\u001b[K     |████████████████████▏           | 757kB 8.2MB/s eta 0:00:01\r\u001b[K     |████████████████████▍           | 768kB 8.2MB/s eta 0:00:01\r\u001b[K     |████████████████████▊           | 778kB 8.2MB/s eta 0:00:01\r\u001b[K     |█████████████████████           | 788kB 8.2MB/s eta 0:00:01\r\u001b[K     |█████████████████████▎          | 798kB 8.2MB/s eta 0:00:01\r\u001b[K     |█████████████████████▌          | 808kB 8.2MB/s eta 0:00:01\r\u001b[K     |█████████████████████▉          | 819kB 8.2MB/s eta 0:00:01\r\u001b[K     |██████████████████████          | 829kB 8.2MB/s eta 0:00:01\r\u001b[K     |██████████████████████▎         | 839kB 8.2MB/s eta 0:00:01\r\u001b[K     |██████████████████████▋         | 849kB 8.2MB/s eta 0:00:01\r\u001b[K     |██████████████████████▉         | 860kB 8.2MB/s eta 0:00:01\r\u001b[K     |███████████████████████▏        | 870kB 8.2MB/s eta 0:00:01\r\u001b[K     |███████████████████████▍        | 880kB 8.2MB/s eta 0:00:01\r\u001b[K     |███████████████████████▊        | 890kB 8.2MB/s eta 0:00:01\r\u001b[K     |████████████████████████        | 901kB 8.2MB/s eta 0:00:01\r\u001b[K     |████████████████████████▎       | 911kB 8.2MB/s eta 0:00:01\r\u001b[K     |████████████████████████▌       | 921kB 8.2MB/s eta 0:00:01\r\u001b[K     |████████████████████████▊       | 931kB 8.2MB/s eta 0:00:01\r\u001b[K     |█████████████████████████       | 942kB 8.2MB/s eta 0:00:01\r\u001b[K     |█████████████████████████▎      | 952kB 8.2MB/s eta 0:00:01\r\u001b[K     |█████████████████████████▋      | 962kB 8.2MB/s eta 0:00:01\r\u001b[K     |█████████████████████████▉      | 972kB 8.2MB/s eta 0:00:01\r\u001b[K     |██████████████████████████▏     | 983kB 8.2MB/s eta 0:00:01\r\u001b[K     |██████████████████████████▍     | 993kB 8.2MB/s eta 0:00:01\r\u001b[K     |██████████████████████████▊     | 1.0MB 8.2MB/s eta 0:00:01\r\u001b[K     |███████████████████████████     | 1.0MB 8.2MB/s eta 0:00:01\r\u001b[K     |███████████████████████████▎    | 1.0MB 8.2MB/s eta 0:00:01\r\u001b[K     |███████████████████████████▌    | 1.0MB 8.2MB/s eta 0:00:01\r\u001b[K     |███████████████████████████▊    | 1.0MB 8.2MB/s eta 0:00:01\r\u001b[K     |████████████████████████████    | 1.1MB 8.2MB/s eta 0:00:01\r\u001b[K     |████████████████████████████▎   | 1.1MB 8.2MB/s eta 0:00:01\r\u001b[K     |████████████████████████████▋   | 1.1MB 8.2MB/s eta 0:00:01\r\u001b[K     |████████████████████████████▉   | 1.1MB 8.2MB/s eta 0:00:01\r\u001b[K     |█████████████████████████████▏  | 1.1MB 8.2MB/s eta 0:00:01\r\u001b[K     |█████████████████████████████▍  | 1.1MB 8.2MB/s eta 0:00:01\r\u001b[K     |█████████████████████████████▊  | 1.1MB 8.2MB/s eta 0:00:01\r\u001b[K     |██████████████████████████████  | 1.1MB 8.2MB/s eta 0:00:01\r\u001b[K     |██████████████████████████████▏ | 1.1MB 8.2MB/s eta 0:00:01\r\u001b[K     |██████████████████████████████▌ | 1.1MB 8.2MB/s eta 0:00:01\r\u001b[K     |██████████████████████████████▊ | 1.2MB 8.2MB/s eta 0:00:01\r\u001b[K     |███████████████████████████████ | 1.2MB 8.2MB/s eta 0:00:01\r\u001b[K     |███████████████████████████████▎| 1.2MB 8.2MB/s eta 0:00:01\r\u001b[K     |███████████████████████████████▋| 1.2MB 8.2MB/s eta 0:00:01\r\u001b[K     |███████████████████████████████▉| 1.2MB 8.2MB/s eta 0:00:01\r\u001b[K     |████████████████████████████████| 1.2MB 8.2MB/s \n",
            "\u001b[?25hInstalling collected packages: sentencepiece\n",
            "Successfully installed sentencepiece-0.1.95\n"
          ],
          "name": "stdout"
        }
      ]
    },
    {
      "cell_type": "code",
      "metadata": {
        "id": "jkDacbr2gHpj"
      },
      "source": [
        "import tokenization"
      ],
      "execution_count": 3,
      "outputs": []
    },
    {
      "cell_type": "code",
      "metadata": {
        "id": "y_tvwqFIgLNH"
      },
      "source": [
        "def albert_encode(texts, tokenizer, max_len=512):\r\n",
        "    all_tokens = []\r\n",
        "    all_masks = []\r\n",
        "    all_segments = []\r\n",
        "    \r\n",
        "    for text in texts:\r\n",
        "        text = tokenizer.tokenize(text)\r\n",
        "            \r\n",
        "        text = text[:max_len-2]\r\n",
        "        input_sequence = [\"[CLS]\"] + text + [\"[SEP]\"]\r\n",
        "        pad_len = max_len - len(input_sequence)\r\n",
        "        \r\n",
        "        tokens = tokenizer.convert_tokens_to_ids(input_sequence)\r\n",
        "        tokens += [0] * pad_len\r\n",
        "        pad_masks = [1] * len(input_sequence) + [0] * pad_len\r\n",
        "        segment_ids = [0] * max_len\r\n",
        "        \r\n",
        "        all_tokens.append(tokens)\r\n",
        "        all_masks.append(pad_masks)\r\n",
        "        all_segments.append(segment_ids)\r\n",
        "    \r\n",
        "    return np.array(all_tokens), np.array(all_masks), np.array(all_segments)"
      ],
      "execution_count": 7,
      "outputs": []
    },
    {
      "cell_type": "code",
      "metadata": {
        "id": "mKZV5kD8gR1p"
      },
      "source": [
        "def build_model(bert_layer, max_len=512):\r\n",
        "    input_word_ids = Input(shape=(max_len,), dtype=tf.int32, name=\"input_word_ids\")\r\n",
        "    input_mask = Input(shape=(max_len,), dtype=tf.int32, name=\"input_mask\")\r\n",
        "    segment_ids = Input(shape=(max_len,), dtype=tf.int32, name=\"segment_ids\")\r\n",
        "\r\n",
        "    pooled_output, sequence_output = bert_layer([input_word_ids, input_mask, segment_ids])\r\n",
        "    clf_output = pooled_output\r\n",
        "    out = Dense(100, activation='relu')(clf_output)\r\n",
        "    out = Dense(100, activation='relu')(out)\r\n",
        "    out = Dense(6, activation='softmax')(out)\r\n",
        "    \r\n",
        "    model = Model(inputs=[input_word_ids, input_mask, segment_ids], outputs=out)\r\n",
        "    model.compile(Adam(lr=2e-6), loss='binary_crossentropy', metrics=['accuracy'])\r\n",
        "    \r\n",
        "    return model"
      ],
      "execution_count": 6,
      "outputs": []
    },
    {
      "cell_type": "code",
      "metadata": {
        "colab": {
          "base_uri": "https://localhost:8080/"
        },
        "id": "GIrjcaWCgkOU",
        "outputId": "887b8bde-e562-495d-c2f5-b4f5142d0e2f"
      },
      "source": [
        "%%time\r\n",
        "module_url = \"https://tfhub.dev/tensorflow/albert_en_base/1\"\r\n",
        "albert_layer = hub.KerasLayer(module_url, trainable=True)"
      ],
      "execution_count": 9,
      "outputs": [
        {
          "output_type": "stream",
          "text": [
            "CPU times: user 2.83 s, sys: 213 ms, total: 3.05 s\n",
            "Wall time: 3.07 s\n"
          ],
          "name": "stdout"
        }
      ]
    },
    {
      "cell_type": "code",
      "metadata": {
        "colab": {
          "base_uri": "https://localhost:8080/"
        },
        "id": "80TC8H9ig9BC",
        "outputId": "6f72e885-aa7e-4207-bcab-b7990b759b90"
      },
      "source": [
        "from google.colab import drive\r\n",
        "drive.mount('/content/gdrive')"
      ],
      "execution_count": 11,
      "outputs": [
        {
          "output_type": "stream",
          "text": [
            "Mounted at /content/gdrive\n"
          ],
          "name": "stdout"
        }
      ]
    },
    {
      "cell_type": "code",
      "metadata": {
        "id": "o3ooCMpwg4eI"
      },
      "source": [
        "with open('/content/gdrive/My Drive/iemocap/train/sentences.pkl', 'rb') as f:\r\n",
        "    data = pickle.load(f)\r\n",
        "with open('/content/gdrive/My Drive/iemocap/train/labels.pkl', 'rb') as f:\r\n",
        "    labels = pickle.load(f)\r\n",
        "with open('/content/gdrive/My Drive/iemocap/test/sentences.pkl', 'rb') as f:\r\n",
        "    test_data = pickle.load(f)\r\n",
        "with open('/content/gdrive/My Drive/iemocap/test/labels.pkl', 'rb') as f:\r\n",
        "    test_labels = pickle.load(f)\r\n",
        "with open('/content/gdrive/MyDrive/iemocap/train/conversation_length.pkl', 'rb') as f:\r\n",
        "    train_convlen = pickle.load(f)\r\n",
        "with open('/content/gdrive/MyDrive/iemocap/test/conversation_length.pkl', 'rb') as f:\r\n",
        "    test_convlen = pickle.load(f)"
      ],
      "execution_count": 12,
      "outputs": []
    },
    {
      "cell_type": "code",
      "metadata": {
        "id": "HrrPRJsPhHSN"
      },
      "source": [
        "def preprocessing(data,labels):\r\n",
        "  processed_data=[]\r\n",
        "  processed_label=[]\r\n",
        "  for i in range(0,len(data)):\r\n",
        "    for j in range(0,len(data[i])):\r\n",
        "      intermediate_data=[]\r\n",
        "      intermediate_label=[]\r\n",
        "      for k in range(0,len(data[i][j])):\r\n",
        "        text=data[i][j][k]\r\n",
        "        if text != '<eos>'and text!='<pad>':\r\n",
        "          intermediate_data.append(text)\r\n",
        "      processed_data.append(intermediate_data)\r\n",
        "  for i in labels:\r\n",
        "    for j in i:\r\n",
        "      processed_label.append(j)\r\n",
        "  return processed_data,processed_label"
      ],
      "execution_count": 14,
      "outputs": []
    },
    {
      "cell_type": "code",
      "metadata": {
        "id": "Ql_n8_RbhJZI"
      },
      "source": [
        "processed_data,processed_label = preprocessing(data,labels)\r\n",
        "test_processed_data,test_processed_label = preprocessing(test_data,test_labels)"
      ],
      "execution_count": 15,
      "outputs": []
    },
    {
      "cell_type": "code",
      "metadata": {
        "id": "1gcgSkwUhLi-"
      },
      "source": [
        "for i in range(0,len(processed_data)):\r\n",
        "  processed_data[i]= ' '.join(processed_data[i])\r\n",
        "for i in range(0,len(test_processed_data)):\r\n",
        "  test_processed_data[i]=' '.join(test_processed_data[i])"
      ],
      "execution_count": 16,
      "outputs": []
    },
    {
      "cell_type": "code",
      "metadata": {
        "id": "vJYPge5shNtA"
      },
      "source": [
        "processed_data,processed_label=arrange_sentences(train_convlen,processed_data,processed_label)\r\n",
        "test_processed_data,test_processed_label=arrange_sentences(test_convlen,test_processed_data,test_processed_label)"
      ],
      "execution_count": 17,
      "outputs": []
    },
    {
      "cell_type": "code",
      "metadata": {
        "id": "xF81CfkYhQMm"
      },
      "source": [
        "processed_data=np.asarray(processed_data)\r\n",
        "test_processed_data=np.asarray(test_processed_data)\r\n",
        "Y=to_categorical(processed_label, num_classes=6)\r\n",
        "test_Y=to_categorical(test_processed_label, num_classes=6)"
      ],
      "execution_count": 18,
      "outputs": []
    },
    {
      "cell_type": "code",
      "metadata": {
        "id": "yZ3PZNpwhiOA"
      },
      "source": [
        "sp_model_file = albert_layer.resolved_object.sp_model_file.asset_path.numpy()\r\n",
        "tokenizer = tokenization.FullSentencePieceTokenizer(sp_model_file)"
      ],
      "execution_count": 20,
      "outputs": []
    },
    {
      "cell_type": "code",
      "metadata": {
        "id": "A2Tp2T9VhoOM"
      },
      "source": [
        "train_input = albert_encode(processed_data, tokenizer, max_len=160)\r\n",
        "test_input = albert_encode(test_processed_data, tokenizer, max_len=160)\r\n",
        "train_labels = Y\r\n",
        "test_labels = test_Y"
      ],
      "execution_count": 21,
      "outputs": []
    },
    {
      "cell_type": "code",
      "metadata": {
        "colab": {
          "base_uri": "https://localhost:8080/"
        },
        "id": "VN4120MLht2o",
        "outputId": "bd411d63-4815-4d1f-8eaf-c784b6128969"
      },
      "source": [
        "model = build_model(albert_layer, max_len=160)\r\n",
        "model.summary()"
      ],
      "execution_count": 22,
      "outputs": [
        {
          "output_type": "stream",
          "text": [
            "Model: \"model\"\n",
            "__________________________________________________________________________________________________\n",
            "Layer (type)                    Output Shape         Param #     Connected to                     \n",
            "==================================================================================================\n",
            "input_word_ids (InputLayer)     [(None, 160)]        0                                            \n",
            "__________________________________________________________________________________________________\n",
            "input_mask (InputLayer)         [(None, 160)]        0                                            \n",
            "__________________________________________________________________________________________________\n",
            "segment_ids (InputLayer)        [(None, 160)]        0                                            \n",
            "__________________________________________________________________________________________________\n",
            "keras_layer (KerasLayer)        [(None, 768), (None, 11683584    input_word_ids[0][0]             \n",
            "                                                                 input_mask[0][0]                 \n",
            "                                                                 segment_ids[0][0]                \n",
            "__________________________________________________________________________________________________\n",
            "dense (Dense)                   (None, 100)          76900       keras_layer[0][0]                \n",
            "__________________________________________________________________________________________________\n",
            "dense_1 (Dense)                 (None, 100)          10100       dense[0][0]                      \n",
            "__________________________________________________________________________________________________\n",
            "dense_2 (Dense)                 (None, 6)            606         dense_1[0][0]                    \n",
            "==================================================================================================\n",
            "Total params: 11,771,190\n",
            "Trainable params: 11,771,190\n",
            "Non-trainable params: 0\n",
            "__________________________________________________________________________________________________\n"
          ],
          "name": "stdout"
        }
      ]
    },
    {
      "cell_type": "code",
      "metadata": {
        "colab": {
          "base_uri": "https://localhost:8080/"
        },
        "id": "99MfPQVahyc-",
        "outputId": "c56be86d-7af9-4691-80ae-aa3ff360f283"
      },
      "source": [
        "train_history = model.fit(\r\n",
        "    train_input, train_labels,\r\n",
        "    epochs=6,\r\n",
        "    batch_size=1\r\n",
        ")\r\n",
        "\r\n",
        "model.save('model.h5')"
      ],
      "execution_count": null,
      "outputs": [
        {
          "output_type": "stream",
          "text": [
            "Epoch 1/6\n",
            "4699/4699 [==============================] - 224s 45ms/step - loss: 0.4810 - accuracy: 0.2279\n",
            "Epoch 2/6\n",
            "4699/4699 [==============================] - 219s 47ms/step - loss: 0.3950 - accuracy: 0.3970\n",
            "Epoch 3/6\n",
            "4699/4699 [==============================] - 221s 47ms/step - loss: 0.3403 - accuracy: 0.5349\n",
            "Epoch 4/6\n",
            "4699/4699 [==============================] - 221s 47ms/step - loss: 0.2907 - accuracy: 0.6261\n",
            "Epoch 5/6\n",
            "4699/4699 [==============================] - 220s 47ms/step - loss: 0.4119 - accuracy: 0.3715\n",
            "Epoch 6/6\n",
            "3071/4699 [==================>...........] - ETA: 1:16 - loss: 0.3677 - accuracy: 0.4664"
          ],
          "name": "stdout"
        }
      ]
    },
    {
      "cell_type": "code",
      "metadata": {
        "id": "EVVjJiLZh060"
      },
      "source": [
        "y_pred=model.predict(test_input, batch_size=1)"
      ],
      "execution_count": null,
      "outputs": []
    },
    {
      "cell_type": "code",
      "metadata": {
        "id": "dBXDsjjqh3IC"
      },
      "source": [
        "y_pred1=np.argmax(y_pred,axis=1)\r\n",
        "test_processed_label=np.asarray(test_processed_label)\r\n",
        "print(\"Accuracy : \" + str(accuracy_score(test_processed_label, y_pred1)))\r\n",
        "print(\"Weighted F1-score : \" + str(f1_score(test_processed_label, y_pred1, average='weighted')))"
      ],
      "execution_count": null,
      "outputs": []
    }
  ]
}
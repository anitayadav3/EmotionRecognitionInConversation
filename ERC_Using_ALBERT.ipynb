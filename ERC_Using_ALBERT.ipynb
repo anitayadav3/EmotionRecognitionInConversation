{
  "nbformat": 4,
  "nbformat_minor": 0,
  "metadata": {
    "colab": {
      "name": "ERC_Using_ALBERT.ipynb",
      "provenance": [],
      "collapsed_sections": [],
      "authorship_tag": "ABX9TyNvb8+YN/RWfmRFv6hZofdd",
      "include_colab_link": true
    },
    "kernelspec": {
      "name": "python3",
      "display_name": "Python 3"
    },
    "accelerator": "GPU"
  },
  "cells": [
    {
      "cell_type": "markdown",
      "metadata": {
        "id": "view-in-github",
        "colab_type": "text"
      },
      "source": [
        "<a href=\"https://colab.research.google.com/github/anitayadav3/EmotionRecognitionInConversation/blob/master/ERC_Using_ALBERT.ipynb\" target=\"_parent\"><img src=\"https://colab.research.google.com/assets/colab-badge.svg\" alt=\"Open In Colab\"/></a>"
      ]
    },
    {
      "cell_type": "code",
      "metadata": {
        "colab": {
          "base_uri": "https://localhost:8080/"
        },
        "id": "u85NAkwDfyKV",
        "outputId": "ef548b4b-b724-4d9d-bfda-7bb8ad74b442"
      },
      "source": [
        "import numpy as np # linear algebra\r\n",
        "import pandas as pd # data processing, CSV file I/O (e.g. pd.read_csv)\r\n",
        "import numpy as np\r\n",
        "import re\r\n",
        "import nltk\r\n",
        "from nltk.corpus import stopwords\r\n",
        "nltk.download('stopwords')\r\n",
        "nltk.download('punkt')\r\n",
        "from nltk.tokenize import word_tokenize\r\n",
        "import pandas as pd\r\n",
        "import tensorflow as tf\r\n",
        "from tensorflow.keras.layers import Dense, Input, GRU, Dropout\r\n",
        "from tensorflow.keras.optimizers import Adam\r\n",
        "from tensorflow.keras.models import Model\r\n",
        "from tensorflow.keras.callbacks import ModelCheckpoint\r\n",
        "import tensorflow_hub as hub\r\n",
        "import pickle\r\n",
        "from sklearn.metrics import f1_score\r\n",
        "from sklearn.metrics import accuracy_score\r\n",
        "from keras.utils.np_utils import to_categorical  \r\n",
        "import string\r\n",
        "import requests"
      ],
      "execution_count": 12,
      "outputs": [
        {
          "output_type": "stream",
          "text": [
            "[nltk_data] Downloading package stopwords to /root/nltk_data...\n",
            "[nltk_data]   Package stopwords is already up-to-date!\n",
            "[nltk_data] Downloading package punkt to /root/nltk_data...\n",
            "[nltk_data]   Package punkt is already up-to-date!\n"
          ],
          "name": "stdout"
        }
      ]
    },
    {
      "cell_type": "code",
      "metadata": {
        "colab": {
          "base_uri": "https://localhost:8080/"
        },
        "id": "SV2MONG3gFU3",
        "outputId": "8c8931c5-cf91-4dd8-df28-82739a026582"
      },
      "source": [
        "!wget --quiet https://raw.githubusercontent.com/tensorflow/models/master/official/nlp/bert/tokenization.py\r\n",
        "!pip install sentencepiece"
      ],
      "execution_count": 13,
      "outputs": [
        {
          "output_type": "stream",
          "text": [
            "Requirement already satisfied: sentencepiece in /usr/local/lib/python3.7/dist-packages (0.1.95)\n"
          ],
          "name": "stdout"
        }
      ]
    },
    {
      "cell_type": "code",
      "metadata": {
        "id": "jkDacbr2gHpj"
      },
      "source": [
        "import tokenization"
      ],
      "execution_count": 14,
      "outputs": []
    },
    {
      "cell_type": "code",
      "metadata": {
        "id": "y_tvwqFIgLNH"
      },
      "source": [
        "def albert_encode(texts, tokenizer, max_len=512):\r\n",
        "    all_tokens = []\r\n",
        "    all_masks = []\r\n",
        "    all_segments = []\r\n",
        "    \r\n",
        "    for text in texts:\r\n",
        "        text = tokenizer.tokenize(text)\r\n",
        "            \r\n",
        "        text = text[:max_len-2]\r\n",
        "        input_sequence = [\"[CLS]\"] + text + [\"[SEP]\"]\r\n",
        "        pad_len = max_len - len(input_sequence)\r\n",
        "        \r\n",
        "        tokens = tokenizer.convert_tokens_to_ids(input_sequence)\r\n",
        "        tokens += [0] * pad_len\r\n",
        "        pad_masks = [1] * len(input_sequence) + [0] * pad_len\r\n",
        "        segment_ids = [0] * max_len\r\n",
        "        \r\n",
        "        all_tokens.append(tokens)\r\n",
        "        all_masks.append(pad_masks)\r\n",
        "        all_segments.append(segment_ids)\r\n",
        "    \r\n",
        "    return np.array(all_tokens), np.array(all_masks), np.array(all_segments)"
      ],
      "execution_count": 15,
      "outputs": []
    },
    {
      "cell_type": "code",
      "metadata": {
        "id": "mKZV5kD8gR1p"
      },
      "source": [
        "def build_model(bert_layer, max_len=512):\r\n",
        "    input_word_ids = Input(shape=(max_len,), dtype=tf.int32, name=\"input_word_ids\")\r\n",
        "    input_mask = Input(shape=(max_len,), dtype=tf.int32, name=\"input_mask\")\r\n",
        "    segment_ids = Input(shape=(max_len,), dtype=tf.int32, name=\"segment_ids\")\r\n",
        "\r\n",
        "    pooled_output, sequence_output = bert_layer([input_word_ids, input_mask, segment_ids])\r\n",
        "    clf_output = pooled_output\r\n",
        "    out = Dense(100, activation='relu')(clf_output)\r\n",
        "    out = Dense(100, activation='relu')(out)\r\n",
        "    out = Dense(6, activation='softmax')(out)\r\n",
        "    \r\n",
        "    model = Model(inputs=[input_word_ids, input_mask, segment_ids], outputs=out)\r\n",
        "    model.compile(Adam(lr=2e-6), loss='binary_crossentropy', metrics=['accuracy'])\r\n",
        "    \r\n",
        "    return model"
      ],
      "execution_count": 16,
      "outputs": []
    },
    {
      "cell_type": "code",
      "metadata": {
        "colab": {
          "base_uri": "https://localhost:8080/"
        },
        "id": "GIrjcaWCgkOU",
        "outputId": "525a657b-ba70-4926-fff1-540d8329c001"
      },
      "source": [
        "%%time\r\n",
        "module_url = \"https://tfhub.dev/tensorflow/albert_en_base/1\"\r\n",
        "albert_layer = hub.KerasLayer(module_url, trainable=True)"
      ],
      "execution_count": 17,
      "outputs": [
        {
          "output_type": "stream",
          "text": [
            "CPU times: user 2.93 s, sys: 224 ms, total: 3.16 s\n",
            "Wall time: 3.16 s\n"
          ],
          "name": "stdout"
        }
      ]
    },
    {
      "cell_type": "code",
      "metadata": {
        "colab": {
          "base_uri": "https://localhost:8080/"
        },
        "id": "80TC8H9ig9BC",
        "outputId": "a4ecd826-a28b-4279-8779-67ea2aea9358"
      },
      "source": [
        "from google.colab import drive\r\n",
        "drive.mount('/content/gdrive')"
      ],
      "execution_count": 7,
      "outputs": [
        {
          "output_type": "stream",
          "text": [
            "Go to this URL in a browser: https://accounts.google.com/o/oauth2/auth?client_id=947318989803-6bn6qk8qdgf4n4g3pfee6491hc0brc4i.apps.googleusercontent.com&redirect_uri=urn%3aietf%3awg%3aoauth%3a2.0%3aoob&scope=email%20https%3a%2f%2fwww.googleapis.com%2fauth%2fdocs.test%20https%3a%2f%2fwww.googleapis.com%2fauth%2fdrive%20https%3a%2f%2fwww.googleapis.com%2fauth%2fdrive.photos.readonly%20https%3a%2f%2fwww.googleapis.com%2fauth%2fpeopleapi.readonly%20https%3a%2f%2fwww.googleapis.com%2fauth%2fdrive.activity.readonly&response_type=code\n",
            "\n",
            "Enter your authorization code:\n",
            "4/1AY0e-g5vm4WrhimAEiT2v474oeSQT98THWrrrJcgYmeEMPYmFj-xbTvOYpM\n",
            "Mounted at /content/gdrive\n"
          ],
          "name": "stdout"
        }
      ]
    },
    {
      "cell_type": "code",
      "metadata": {
        "id": "o3ooCMpwg4eI"
      },
      "source": [
        "with open('/content/gdrive/My Drive/iemocap/train/sentences.pkl', 'rb') as f:\r\n",
        "    data = pickle.load(f)\r\n",
        "with open('/content/gdrive/My Drive/iemocap/train/labels.pkl', 'rb') as f:\r\n",
        "    labels = pickle.load(f)\r\n",
        "with open('/content/gdrive/My Drive/iemocap/test/sentences.pkl', 'rb') as f:\r\n",
        "    test_data = pickle.load(f)\r\n",
        "with open('/content/gdrive/My Drive/iemocap/test/labels.pkl', 'rb') as f:\r\n",
        "    test_labels = pickle.load(f)\r\n",
        "with open('/content/gdrive/MyDrive/iemocap/train/conversation_length.pkl', 'rb') as f:\r\n",
        "    train_convlen = pickle.load(f)\r\n",
        "with open('/content/gdrive/MyDrive/iemocap/test/conversation_length.pkl', 'rb') as f:\r\n",
        "    test_convlen = pickle.load(f)"
      ],
      "execution_count": 8,
      "outputs": []
    },
    {
      "cell_type": "code",
      "metadata": {
        "id": "HrrPRJsPhHSN"
      },
      "source": [
        "def preprocessing(data,labels):\r\n",
        "  processed_data=[]\r\n",
        "  processed_label=[]\r\n",
        "  for i in range(0,len(data)):\r\n",
        "    for j in range(0,len(data[i])):\r\n",
        "      intermediate_data=[]\r\n",
        "      intermediate_label=[]\r\n",
        "      for k in range(0,len(data[i][j])):\r\n",
        "        text=data[i][j][k]\r\n",
        "        if text != '<eos>'and text!='<pad>':\r\n",
        "          intermediate_data.append(text)\r\n",
        "      processed_data.append(intermediate_data)\r\n",
        "  for i in labels:\r\n",
        "    for j in i:\r\n",
        "      processed_label.append(j)\r\n",
        "  return processed_data,processed_label"
      ],
      "execution_count": 9,
      "outputs": []
    },
    {
      "cell_type": "code",
      "metadata": {
        "id": "Ql_n8_RbhJZI"
      },
      "source": [
        "processed_data,processed_label = preprocessing(data,labels)\r\n",
        "test_processed_data,test_processed_label = preprocessing(test_data,test_labels)"
      ],
      "execution_count": 10,
      "outputs": []
    },
    {
      "cell_type": "code",
      "metadata": {
        "id": "1gcgSkwUhLi-"
      },
      "source": [
        "for i in range(0,len(processed_data)):\r\n",
        "  processed_data[i]= ' '.join(processed_data[i])\r\n",
        "for i in range(0,len(test_processed_data)):\r\n",
        "  test_processed_data[i]=' '.join(test_processed_data[i])"
      ],
      "execution_count": 11,
      "outputs": []
    },
    {
      "cell_type": "code",
      "metadata": {
        "id": "DI63awAHnqWF"
      },
      "source": [
        "def arrange_sentences(data,data2,data3):\r\n",
        "  startlen=0\r\n",
        "  final_sentences=[]\r\n",
        "  final_labels=[]\r\n",
        "  for i in data:\r\n",
        "    odd_sentences=[]\r\n",
        "    odd_labels=[]\r\n",
        "    for j in range(0,i):\r\n",
        "      if j%2==0:\r\n",
        "        final_sentences.append(data2[startlen])\r\n",
        "        final_labels.append(data3[startlen])\r\n",
        "        startlen=startlen+1\r\n",
        "      else:\r\n",
        "        odd_sentences.append(data2[startlen])\r\n",
        "        odd_labels.append(data3[startlen])\r\n",
        "        startlen=startlen+1\r\n",
        "    for i in range(0,len(odd_sentences)):\r\n",
        "      final_sentences.append(odd_sentences[i])\r\n",
        "      final_labels.append(odd_labels[i])\r\n",
        "  return final_sentences,final_labels"
      ],
      "execution_count": 35,
      "outputs": []
    },
    {
      "cell_type": "code",
      "metadata": {
        "id": "vJYPge5shNtA"
      },
      "source": [
        "processed_data,processed_label=arrange_sentences(train_convlen,processed_data,processed_label)"
      ],
      "execution_count": 36,
      "outputs": []
    },
    {
      "cell_type": "code",
      "metadata": {
        "id": "hZqMX5PK24n3"
      },
      "source": [
        "import pickle\r\n",
        "with open('arrange_processed_data.pkl', 'wb') as f:\r\n",
        "  pickle.dump(processed_data, f)\r\n",
        "with open('arrange_processed_label.pkl', 'wb') as f:\r\n",
        "  pickle.dump(processed_label, f)"
      ],
      "execution_count": 37,
      "outputs": []
    },
    {
      "cell_type": "code",
      "metadata": {
        "id": "wWma5TWja3tL"
      },
      "source": [
        "# with open('/content/processed_data.pkl', 'rb') as f:\r\n",
        "#     processed_data = pickle.load(f)\r\n",
        "# with open('/content/processed_label.pkl', 'rb') as f:\r\n",
        "#     processed_label = pickle.load(f)"
      ],
      "execution_count": null,
      "outputs": []
    },
    {
      "cell_type": "code",
      "metadata": {
        "id": "xF81CfkYhQMm"
      },
      "source": [
        "processed_data=np.asarray(processed_data)\r\n",
        "test_processed_data=np.asarray(test_processed_data)\r\n",
        "Y=to_categorical(processed_label, num_classes=6)\r\n",
        "test_Y=to_categorical(test_processed_label, num_classes=6)"
      ],
      "execution_count": 18,
      "outputs": []
    },
    {
      "cell_type": "code",
      "metadata": {
        "id": "yZ3PZNpwhiOA"
      },
      "source": [
        "sp_model_file = albert_layer.resolved_object.sp_model_file.asset_path.numpy()\r\n",
        "tokenizer = tokenization.FullSentencePieceTokenizer(sp_model_file)"
      ],
      "execution_count": 19,
      "outputs": []
    },
    {
      "cell_type": "code",
      "metadata": {
        "id": "A2Tp2T9VhoOM"
      },
      "source": [
        "train_input = albert_encode(processed_data, tokenizer, max_len=160)\r\n",
        "test_input = albert_encode(test_processed_data, tokenizer, max_len=160)\r\n",
        "train_labels = Y\r\n",
        "test_labels = test_Y"
      ],
      "execution_count": 20,
      "outputs": []
    },
    {
      "cell_type": "code",
      "metadata": {
        "colab": {
          "base_uri": "https://localhost:8080/"
        },
        "id": "VN4120MLht2o",
        "outputId": "cec0fce3-5dc6-4406-f166-d06194ed4955"
      },
      "source": [
        "model = build_model(albert_layer, max_len=160)\r\n",
        "model.summary()"
      ],
      "execution_count": 21,
      "outputs": [
        {
          "output_type": "stream",
          "text": [
            "Model: \"model\"\n",
            "__________________________________________________________________________________________________\n",
            "Layer (type)                    Output Shape         Param #     Connected to                     \n",
            "==================================================================================================\n",
            "input_word_ids (InputLayer)     [(None, 160)]        0                                            \n",
            "__________________________________________________________________________________________________\n",
            "input_mask (InputLayer)         [(None, 160)]        0                                            \n",
            "__________________________________________________________________________________________________\n",
            "segment_ids (InputLayer)        [(None, 160)]        0                                            \n",
            "__________________________________________________________________________________________________\n",
            "keras_layer_1 (KerasLayer)      [(None, 768), (None, 11683584    input_word_ids[0][0]             \n",
            "                                                                 input_mask[0][0]                 \n",
            "                                                                 segment_ids[0][0]                \n",
            "__________________________________________________________________________________________________\n",
            "dense (Dense)                   (None, 100)          76900       keras_layer_1[0][0]              \n",
            "__________________________________________________________________________________________________\n",
            "dense_1 (Dense)                 (None, 100)          10100       dense[0][0]                      \n",
            "__________________________________________________________________________________________________\n",
            "dense_2 (Dense)                 (None, 6)            606         dense_1[0][0]                    \n",
            "==================================================================================================\n",
            "Total params: 11,771,190\n",
            "Trainable params: 11,771,190\n",
            "Non-trainable params: 0\n",
            "__________________________________________________________________________________________________\n"
          ],
          "name": "stdout"
        }
      ]
    },
    {
      "cell_type": "code",
      "metadata": {
        "colab": {
          "base_uri": "https://localhost:8080/"
        },
        "id": "99MfPQVahyc-",
        "outputId": "e7d1a310-1622-4cc6-a137-ee00ad37d5d6"
      },
      "source": [
        "train_history = model.fit(\r\n",
        "    train_input, train_labels,\r\n",
        "    epochs=10,\r\n",
        "    batch_size=1\r\n",
        ")\r\n",
        "\r\n",
        "model.save('model.h5')"
      ],
      "execution_count": 26,
      "outputs": [
        {
          "output_type": "stream",
          "text": [
            "Epoch 1/10\n",
            "4699/4699 [==============================] - 218s 46ms/step - loss: 0.3134 - accuracy: 0.5718\n",
            "Epoch 2/10\n",
            "4699/4699 [==============================] - 218s 46ms/step - loss: 0.3126 - accuracy: 0.5765\n",
            "Epoch 3/10\n",
            "4699/4699 [==============================] - 218s 46ms/step - loss: 0.3032 - accuracy: 0.5891\n",
            "Epoch 4/10\n",
            "4699/4699 [==============================] - 218s 46ms/step - loss: 0.2853 - accuracy: 0.6210\n",
            "Epoch 5/10\n",
            "4699/4699 [==============================] - 218s 46ms/step - loss: 0.2742 - accuracy: 0.6459\n",
            "Epoch 6/10\n",
            "4699/4699 [==============================] - 218s 46ms/step - loss: 0.2497 - accuracy: 0.6759\n",
            "Epoch 7/10\n",
            "4699/4699 [==============================] - 218s 46ms/step - loss: 0.2456 - accuracy: 0.6893\n",
            "Epoch 8/10\n",
            "4699/4699 [==============================] - 219s 47ms/step - loss: 0.2309 - accuracy: 0.7125\n",
            "Epoch 9/10\n",
            "4699/4699 [==============================] - 219s 47ms/step - loss: 0.2200 - accuracy: 0.7351\n",
            "Epoch 10/10\n",
            "4699/4699 [==============================] - 218s 46ms/step - loss: 0.1977 - accuracy: 0.7727\n"
          ],
          "name": "stdout"
        }
      ]
    },
    {
      "cell_type": "code",
      "metadata": {
        "id": "EVVjJiLZh060"
      },
      "source": [
        "y_pred=model.predict(test_input, batch_size=1)"
      ],
      "execution_count": 27,
      "outputs": []
    },
    {
      "cell_type": "code",
      "metadata": {
        "id": "dBXDsjjqh3IC",
        "outputId": "1c3e9159-0a2a-42c6-88c5-6bc553decf10",
        "colab": {
          "base_uri": "https://localhost:8080/"
        }
      },
      "source": [
        "y_pred1=np.argmax(y_pred,axis=1)\r\n",
        "test_processed_label=np.asarray(test_processed_label)\r\n",
        "print(\"Accuracy : \" + str(accuracy_score(test_processed_label, y_pred1)))\r\n",
        "print(\"Weighted F1-score : \" + str(f1_score(test_processed_label, y_pred1, average='weighted')))"
      ],
      "execution_count": 28,
      "outputs": [
        {
          "output_type": "stream",
          "text": [
            "Accuracy : 0.5027726432532348\n",
            "Weighted F1-score : 0.49779755516953156\n"
          ],
          "name": "stdout"
        }
      ]
    }
  ]
}
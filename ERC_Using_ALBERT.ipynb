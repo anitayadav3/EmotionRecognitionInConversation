{
  "nbformat": 4,
  "nbformat_minor": 0,
  "metadata": {
    "colab": {
      "name": "ERC_Using_ALBERT.ipynb",
      "provenance": [],
      "collapsed_sections": [],
      "authorship_tag": "ABX9TyNA/qG5dKT6RNrgrrdv6pga",
      "include_colab_link": true
    },
    "kernelspec": {
      "name": "python3",
      "display_name": "Python 3"
    },
    "accelerator": "GPU"
  },
  "cells": [
    {
      "cell_type": "markdown",
      "metadata": {
        "id": "view-in-github",
        "colab_type": "text"
      },
      "source": [
        "<a href=\"https://colab.research.google.com/github/anitayadav3/EmotionRecognitionInConversation/blob/master/ERC_Using_ALBERT.ipynb\" target=\"_parent\"><img src=\"https://colab.research.google.com/assets/colab-badge.svg\" alt=\"Open In Colab\"/></a>"
      ]
    },
    {
      "cell_type": "code",
      "metadata": {
        "colab": {
          "base_uri": "https://localhost:8080/"
        },
        "id": "u85NAkwDfyKV",
        "outputId": "4a6de1f1-8866-492c-8f03-6c824d64385a"
      },
      "source": [
        "import numpy as np # linear algebra\r\n",
        "import pandas as pd # data processing, CSV file I/O (e.g. pd.read_csv)\r\n",
        "import numpy as np\r\n",
        "import re\r\n",
        "import nltk\r\n",
        "from nltk.corpus import stopwords\r\n",
        "nltk.download('stopwords')\r\n",
        "nltk.download('punkt')\r\n",
        "from nltk.tokenize import word_tokenize\r\n",
        "import pandas as pd\r\n",
        "import tensorflow as tf\r\n",
        "from tensorflow.keras.layers import Dense, Input, GRU, Dropout\r\n",
        "from tensorflow.keras.optimizers import Adam\r\n",
        "from tensorflow.keras.models import Model\r\n",
        "from tensorflow.keras.callbacks import ModelCheckpoint\r\n",
        "import tensorflow_hub as hub\r\n",
        "import pickle\r\n",
        "from sklearn.metrics import f1_score\r\n",
        "from sklearn.metrics import accuracy_score\r\n",
        "from keras.utils.np_utils import to_categorical  \r\n",
        "import string\r\n",
        "import requests"
      ],
      "execution_count": null,
      "outputs": [
        {
          "output_type": "stream",
          "text": [
            "[nltk_data] Downloading package stopwords to /root/nltk_data...\n",
            "[nltk_data]   Unzipping corpora/stopwords.zip.\n",
            "[nltk_data] Downloading package punkt to /root/nltk_data...\n",
            "[nltk_data]   Unzipping tokenizers/punkt.zip.\n"
          ],
          "name": "stdout"
        }
      ]
    },
    {
      "cell_type": "code",
      "metadata": {
        "colab": {
          "base_uri": "https://localhost:8080/"
        },
        "id": "SV2MONG3gFU3",
        "outputId": "b5828ed7-1559-4b2b-ced5-dba217947c2a"
      },
      "source": [
        "!wget --quiet https://raw.githubusercontent.com/tensorflow/models/master/official/nlp/bert/tokenization.py\r\n",
        "!pip install sentencepiece"
      ],
      "execution_count": null,
      "outputs": [
        {
          "output_type": "stream",
          "text": [
            "Collecting sentencepiece\n",
            "\u001b[?25l  Downloading https://files.pythonhosted.org/packages/14/67/e42bd1181472c95c8cda79305df848264f2a7f62740995a46945d9797b67/sentencepiece-0.1.95-cp36-cp36m-manylinux2014_x86_64.whl (1.2MB)\n",
            "\r\u001b[K     |▎                               | 10kB 24.1MB/s eta 0:00:01\r\u001b[K     |▌                               | 20kB 32.2MB/s eta 0:00:01\r\u001b[K     |▉                               | 30kB 20.9MB/s eta 0:00:01\r\u001b[K     |█                               | 40kB 24.1MB/s eta 0:00:01\r\u001b[K     |█▍                              | 51kB 23.6MB/s eta 0:00:01\r\u001b[K     |█▋                              | 61kB 26.2MB/s eta 0:00:01\r\u001b[K     |██                              | 71kB 17.8MB/s eta 0:00:01\r\u001b[K     |██▏                             | 81kB 18.8MB/s eta 0:00:01\r\u001b[K     |██▌                             | 92kB 17.8MB/s eta 0:00:01\r\u001b[K     |██▊                             | 102kB 17.8MB/s eta 0:00:01\r\u001b[K     |███                             | 112kB 17.8MB/s eta 0:00:01\r\u001b[K     |███▎                            | 122kB 17.8MB/s eta 0:00:01\r\u001b[K     |███▌                            | 133kB 17.8MB/s eta 0:00:01\r\u001b[K     |███▉                            | 143kB 17.8MB/s eta 0:00:01\r\u001b[K     |████                            | 153kB 17.8MB/s eta 0:00:01\r\u001b[K     |████▍                           | 163kB 17.8MB/s eta 0:00:01\r\u001b[K     |████▋                           | 174kB 17.8MB/s eta 0:00:01\r\u001b[K     |█████                           | 184kB 17.8MB/s eta 0:00:01\r\u001b[K     |█████▏                          | 194kB 17.8MB/s eta 0:00:01\r\u001b[K     |█████▌                          | 204kB 17.8MB/s eta 0:00:01\r\u001b[K     |█████▊                          | 215kB 17.8MB/s eta 0:00:01\r\u001b[K     |██████                          | 225kB 17.8MB/s eta 0:00:01\r\u001b[K     |██████▎                         | 235kB 17.8MB/s eta 0:00:01\r\u001b[K     |██████▌                         | 245kB 17.8MB/s eta 0:00:01\r\u001b[K     |██████▉                         | 256kB 17.8MB/s eta 0:00:01\r\u001b[K     |███████                         | 266kB 17.8MB/s eta 0:00:01\r\u001b[K     |███████▍                        | 276kB 17.8MB/s eta 0:00:01\r\u001b[K     |███████▋                        | 286kB 17.8MB/s eta 0:00:01\r\u001b[K     |████████                        | 296kB 17.8MB/s eta 0:00:01\r\u001b[K     |████████▏                       | 307kB 17.8MB/s eta 0:00:01\r\u001b[K     |████████▍                       | 317kB 17.8MB/s eta 0:00:01\r\u001b[K     |████████▊                       | 327kB 17.8MB/s eta 0:00:01\r\u001b[K     |█████████                       | 337kB 17.8MB/s eta 0:00:01\r\u001b[K     |█████████▎                      | 348kB 17.8MB/s eta 0:00:01\r\u001b[K     |█████████▌                      | 358kB 17.8MB/s eta 0:00:01\r\u001b[K     |█████████▉                      | 368kB 17.8MB/s eta 0:00:01\r\u001b[K     |██████████                      | 378kB 17.8MB/s eta 0:00:01\r\u001b[K     |██████████▍                     | 389kB 17.8MB/s eta 0:00:01\r\u001b[K     |██████████▋                     | 399kB 17.8MB/s eta 0:00:01\r\u001b[K     |███████████                     | 409kB 17.8MB/s eta 0:00:01\r\u001b[K     |███████████▏                    | 419kB 17.8MB/s eta 0:00:01\r\u001b[K     |███████████▍                    | 430kB 17.8MB/s eta 0:00:01\r\u001b[K     |███████████▊                    | 440kB 17.8MB/s eta 0:00:01\r\u001b[K     |████████████                    | 450kB 17.8MB/s eta 0:00:01\r\u001b[K     |████████████▎                   | 460kB 17.8MB/s eta 0:00:01\r\u001b[K     |████████████▌                   | 471kB 17.8MB/s eta 0:00:01\r\u001b[K     |████████████▉                   | 481kB 17.8MB/s eta 0:00:01\r\u001b[K     |█████████████                   | 491kB 17.8MB/s eta 0:00:01\r\u001b[K     |█████████████▍                  | 501kB 17.8MB/s eta 0:00:01\r\u001b[K     |█████████████▋                  | 512kB 17.8MB/s eta 0:00:01\r\u001b[K     |█████████████▉                  | 522kB 17.8MB/s eta 0:00:01\r\u001b[K     |██████████████▏                 | 532kB 17.8MB/s eta 0:00:01\r\u001b[K     |██████████████▍                 | 542kB 17.8MB/s eta 0:00:01\r\u001b[K     |██████████████▊                 | 552kB 17.8MB/s eta 0:00:01\r\u001b[K     |███████████████                 | 563kB 17.8MB/s eta 0:00:01\r\u001b[K     |███████████████▎                | 573kB 17.8MB/s eta 0:00:01\r\u001b[K     |███████████████▌                | 583kB 17.8MB/s eta 0:00:01\r\u001b[K     |███████████████▉                | 593kB 17.8MB/s eta 0:00:01\r\u001b[K     |████████████████                | 604kB 17.8MB/s eta 0:00:01\r\u001b[K     |████████████████▍               | 614kB 17.8MB/s eta 0:00:01\r\u001b[K     |████████████████▋               | 624kB 17.8MB/s eta 0:00:01\r\u001b[K     |████████████████▉               | 634kB 17.8MB/s eta 0:00:01\r\u001b[K     |█████████████████▏              | 645kB 17.8MB/s eta 0:00:01\r\u001b[K     |█████████████████▍              | 655kB 17.8MB/s eta 0:00:01\r\u001b[K     |█████████████████▊              | 665kB 17.8MB/s eta 0:00:01\r\u001b[K     |██████████████████              | 675kB 17.8MB/s eta 0:00:01\r\u001b[K     |██████████████████▎             | 686kB 17.8MB/s eta 0:00:01\r\u001b[K     |██████████████████▌             | 696kB 17.8MB/s eta 0:00:01\r\u001b[K     |██████████████████▉             | 706kB 17.8MB/s eta 0:00:01\r\u001b[K     |███████████████████             | 716kB 17.8MB/s eta 0:00:01\r\u001b[K     |███████████████████▎            | 727kB 17.8MB/s eta 0:00:01\r\u001b[K     |███████████████████▋            | 737kB 17.8MB/s eta 0:00:01\r\u001b[K     |███████████████████▉            | 747kB 17.8MB/s eta 0:00:01\r\u001b[K     |████████████████████▏           | 757kB 17.8MB/s eta 0:00:01\r\u001b[K     |████████████████████▍           | 768kB 17.8MB/s eta 0:00:01\r\u001b[K     |████████████████████▊           | 778kB 17.8MB/s eta 0:00:01\r\u001b[K     |█████████████████████           | 788kB 17.8MB/s eta 0:00:01\r\u001b[K     |█████████████████████▎          | 798kB 17.8MB/s eta 0:00:01\r\u001b[K     |█████████████████████▌          | 808kB 17.8MB/s eta 0:00:01\r\u001b[K     |█████████████████████▉          | 819kB 17.8MB/s eta 0:00:01\r\u001b[K     |██████████████████████          | 829kB 17.8MB/s eta 0:00:01\r\u001b[K     |██████████████████████▎         | 839kB 17.8MB/s eta 0:00:01\r\u001b[K     |██████████████████████▋         | 849kB 17.8MB/s eta 0:00:01\r\u001b[K     |██████████████████████▉         | 860kB 17.8MB/s eta 0:00:01\r\u001b[K     |███████████████████████▏        | 870kB 17.8MB/s eta 0:00:01\r\u001b[K     |███████████████████████▍        | 880kB 17.8MB/s eta 0:00:01\r\u001b[K     |███████████████████████▊        | 890kB 17.8MB/s eta 0:00:01\r\u001b[K     |████████████████████████        | 901kB 17.8MB/s eta 0:00:01\r\u001b[K     |████████████████████████▎       | 911kB 17.8MB/s eta 0:00:01\r\u001b[K     |████████████████████████▌       | 921kB 17.8MB/s eta 0:00:01\r\u001b[K     |████████████████████████▊       | 931kB 17.8MB/s eta 0:00:01\r\u001b[K     |█████████████████████████       | 942kB 17.8MB/s eta 0:00:01\r\u001b[K     |█████████████████████████▎      | 952kB 17.8MB/s eta 0:00:01\r\u001b[K     |█████████████████████████▋      | 962kB 17.8MB/s eta 0:00:01\r\u001b[K     |█████████████████████████▉      | 972kB 17.8MB/s eta 0:00:01\r\u001b[K     |██████████████████████████▏     | 983kB 17.8MB/s eta 0:00:01\r\u001b[K     |██████████████████████████▍     | 993kB 17.8MB/s eta 0:00:01\r\u001b[K     |██████████████████████████▊     | 1.0MB 17.8MB/s eta 0:00:01\r\u001b[K     |███████████████████████████     | 1.0MB 17.8MB/s eta 0:00:01\r\u001b[K     |███████████████████████████▎    | 1.0MB 17.8MB/s eta 0:00:01\r\u001b[K     |███████████████████████████▌    | 1.0MB 17.8MB/s eta 0:00:01\r\u001b[K     |███████████████████████████▊    | 1.0MB 17.8MB/s eta 0:00:01\r\u001b[K     |████████████████████████████    | 1.1MB 17.8MB/s eta 0:00:01\r\u001b[K     |████████████████████████████▎   | 1.1MB 17.8MB/s eta 0:00:01\r\u001b[K     |████████████████████████████▋   | 1.1MB 17.8MB/s eta 0:00:01\r\u001b[K     |████████████████████████████▉   | 1.1MB 17.8MB/s eta 0:00:01\r\u001b[K     |█████████████████████████████▏  | 1.1MB 17.8MB/s eta 0:00:01\r\u001b[K     |█████████████████████████████▍  | 1.1MB 17.8MB/s eta 0:00:01\r\u001b[K     |█████████████████████████████▊  | 1.1MB 17.8MB/s eta 0:00:01\r\u001b[K     |██████████████████████████████  | 1.1MB 17.8MB/s eta 0:00:01\r\u001b[K     |██████████████████████████████▏ | 1.1MB 17.8MB/s eta 0:00:01\r\u001b[K     |██████████████████████████████▌ | 1.1MB 17.8MB/s eta 0:00:01\r\u001b[K     |██████████████████████████████▊ | 1.2MB 17.8MB/s eta 0:00:01\r\u001b[K     |███████████████████████████████ | 1.2MB 17.8MB/s eta 0:00:01\r\u001b[K     |███████████████████████████████▎| 1.2MB 17.8MB/s eta 0:00:01\r\u001b[K     |███████████████████████████████▋| 1.2MB 17.8MB/s eta 0:00:01\r\u001b[K     |███████████████████████████████▉| 1.2MB 17.8MB/s eta 0:00:01\r\u001b[K     |████████████████████████████████| 1.2MB 17.8MB/s \n",
            "\u001b[?25hInstalling collected packages: sentencepiece\n",
            "Successfully installed sentencepiece-0.1.95\n"
          ],
          "name": "stdout"
        }
      ]
    },
    {
      "cell_type": "code",
      "metadata": {
        "id": "jkDacbr2gHpj"
      },
      "source": [
        "import tokenization"
      ],
      "execution_count": null,
      "outputs": []
    },
    {
      "cell_type": "code",
      "metadata": {
        "id": "y_tvwqFIgLNH"
      },
      "source": [
        "def albert_encode(texts, tokenizer, max_len=512):\r\n",
        "    all_tokens = []\r\n",
        "    all_masks = []\r\n",
        "    all_segments = []\r\n",
        "    \r\n",
        "    for text in texts:\r\n",
        "        text = tokenizer.tokenize(text)\r\n",
        "            \r\n",
        "        text = text[:max_len-2]\r\n",
        "        input_sequence = [\"[CLS]\"] + text + [\"[SEP]\"]\r\n",
        "        pad_len = max_len - len(input_sequence)\r\n",
        "        \r\n",
        "        tokens = tokenizer.convert_tokens_to_ids(input_sequence)\r\n",
        "        tokens += [0] * pad_len\r\n",
        "        pad_masks = [1] * len(input_sequence) + [0] * pad_len\r\n",
        "        segment_ids = [0] * max_len\r\n",
        "        \r\n",
        "        all_tokens.append(tokens)\r\n",
        "        all_masks.append(pad_masks)\r\n",
        "        all_segments.append(segment_ids)\r\n",
        "    \r\n",
        "    return np.array(all_tokens), np.array(all_masks), np.array(all_segments)"
      ],
      "execution_count": null,
      "outputs": []
    },
    {
      "cell_type": "code",
      "metadata": {
        "id": "mKZV5kD8gR1p"
      },
      "source": [
        "def build_model(bert_layer, max_len=512):\r\n",
        "    input_word_ids = Input(shape=(max_len,), dtype=tf.int32, name=\"input_word_ids\")\r\n",
        "    input_mask = Input(shape=(max_len,), dtype=tf.int32, name=\"input_mask\")\r\n",
        "    segment_ids = Input(shape=(max_len,), dtype=tf.int32, name=\"segment_ids\")\r\n",
        "\r\n",
        "    pooled_output, sequence_output = bert_layer([input_word_ids, input_mask, segment_ids])\r\n",
        "    clf_output = pooled_output\r\n",
        "    out = Dense(100, activation='relu')(clf_output)\r\n",
        "    out = Dense(100, activation='relu')(out)\r\n",
        "    out = Dense(6, activation='softmax')(out)\r\n",
        "    \r\n",
        "    model = Model(inputs=[input_word_ids, input_mask, segment_ids], outputs=out)\r\n",
        "    model.compile(Adam(lr=2e-6), loss='binary_crossentropy', metrics=['accuracy'])\r\n",
        "    \r\n",
        "    return model"
      ],
      "execution_count": null,
      "outputs": []
    },
    {
      "cell_type": "code",
      "metadata": {
        "colab": {
          "base_uri": "https://localhost:8080/"
        },
        "id": "GIrjcaWCgkOU",
        "outputId": "cb6b9cda-f5e6-44fa-f743-839bdaaabc8b"
      },
      "source": [
        "%%time\r\n",
        "module_url = \"https://tfhub.dev/tensorflow/albert_en_base/1\"\r\n",
        "albert_layer = hub.KerasLayer(module_url, trainable=True)"
      ],
      "execution_count": null,
      "outputs": [
        {
          "output_type": "stream",
          "text": [
            "CPU times: user 3.71 s, sys: 667 ms, total: 4.37 s\n",
            "Wall time: 9.16 s\n"
          ],
          "name": "stdout"
        }
      ]
    },
    {
      "cell_type": "code",
      "metadata": {
        "colab": {
          "base_uri": "https://localhost:8080/"
        },
        "id": "80TC8H9ig9BC",
        "outputId": "149f7585-14cd-4dad-c2e9-c00988bafb18"
      },
      "source": [
        "from google.colab import drive\r\n",
        "drive.mount('/content/gdrive')"
      ],
      "execution_count": null,
      "outputs": [
        {
          "output_type": "stream",
          "text": [
            "Mounted at /content/gdrive\n"
          ],
          "name": "stdout"
        }
      ]
    },
    {
      "cell_type": "code",
      "metadata": {
        "id": "o3ooCMpwg4eI"
      },
      "source": [
        "with open('/content/gdrive/My Drive/iemocap/train/sentences.pkl', 'rb') as f:\r\n",
        "    data = pickle.load(f)\r\n",
        "with open('/content/gdrive/My Drive/iemocap/train/labels.pkl', 'rb') as f:\r\n",
        "    labels = pickle.load(f)\r\n",
        "with open('/content/gdrive/My Drive/iemocap/test/sentences.pkl', 'rb') as f:\r\n",
        "    test_data = pickle.load(f)\r\n",
        "with open('/content/gdrive/My Drive/iemocap/test/labels.pkl', 'rb') as f:\r\n",
        "    test_labels = pickle.load(f)\r\n",
        "with open('/content/gdrive/MyDrive/iemocap/train/conversation_length.pkl', 'rb') as f:\r\n",
        "    train_convlen = pickle.load(f)\r\n",
        "with open('/content/gdrive/MyDrive/iemocap/test/conversation_length.pkl', 'rb') as f:\r\n",
        "    test_convlen = pickle.load(f)"
      ],
      "execution_count": null,
      "outputs": []
    },
    {
      "cell_type": "code",
      "metadata": {
        "id": "HrrPRJsPhHSN"
      },
      "source": [
        "def preprocessing(data,labels):\r\n",
        "  processed_data=[]\r\n",
        "  processed_label=[]\r\n",
        "  for i in range(0,len(data)):\r\n",
        "    for j in range(0,len(data[i])):\r\n",
        "      intermediate_data=[]\r\n",
        "      intermediate_label=[]\r\n",
        "      for k in range(0,len(data[i][j])):\r\n",
        "        text=data[i][j][k]\r\n",
        "        if text != '<eos>'and text!='<pad>':\r\n",
        "          intermediate_data.append(text)\r\n",
        "      processed_data.append(intermediate_data)\r\n",
        "  for i in labels:\r\n",
        "    for j in i:\r\n",
        "      processed_label.append(j)\r\n",
        "  return processed_data,processed_label"
      ],
      "execution_count": null,
      "outputs": []
    },
    {
      "cell_type": "code",
      "metadata": {
        "id": "Ql_n8_RbhJZI"
      },
      "source": [
        "processed_data,processed_label = preprocessing(data,labels)\r\n",
        "test_processed_data,test_processed_label = preprocessing(test_data,test_labels)"
      ],
      "execution_count": null,
      "outputs": []
    },
    {
      "cell_type": "code",
      "metadata": {
        "id": "1gcgSkwUhLi-"
      },
      "source": [
        "for i in range(0,len(processed_data)):\r\n",
        "  processed_data[i]= ' '.join(processed_data[i])\r\n",
        "for i in range(0,len(test_processed_data)):\r\n",
        "  test_processed_data[i]=' '.join(test_processed_data[i])"
      ],
      "execution_count": null,
      "outputs": []
    },
    {
      "cell_type": "code",
      "metadata": {
        "id": "vJYPge5shNtA"
      },
      "source": [
        "# processed_data,processed_label=arrange_sentences(train_convlen,processed_data,processed_label)\r\n",
        "# test_processed_data,test_processed_label=arrange_sentences(test_convlen,test_processed_data,test_processed_label)"
      ],
      "execution_count": null,
      "outputs": []
    },
    {
      "cell_type": "code",
      "metadata": {
        "id": "wWma5TWja3tL"
      },
      "source": [
        "# with open('/content/processed_data.pkl', 'rb') as f:\r\n",
        "#     processed_data = pickle.load(f)\r\n",
        "# with open('/content/processed_label.pkl', 'rb') as f:\r\n",
        "#     processed_label = pickle.load(f)"
      ],
      "execution_count": null,
      "outputs": []
    },
    {
      "cell_type": "code",
      "metadata": {
        "id": "xF81CfkYhQMm"
      },
      "source": [
        "processed_data=np.asarray(processed_data)\r\n",
        "test_processed_data=np.asarray(test_processed_data)\r\n",
        "Y=to_categorical(processed_label, num_classes=6)\r\n",
        "test_Y=to_categorical(test_processed_label, num_classes=6)"
      ],
      "execution_count": null,
      "outputs": []
    },
    {
      "cell_type": "code",
      "metadata": {
        "id": "yZ3PZNpwhiOA"
      },
      "source": [
        "sp_model_file = albert_layer.resolved_object.sp_model_file.asset_path.numpy()\r\n",
        "tokenizer = tokenization.FullSentencePieceTokenizer(sp_model_file)"
      ],
      "execution_count": null,
      "outputs": []
    },
    {
      "cell_type": "code",
      "metadata": {
        "id": "A2Tp2T9VhoOM"
      },
      "source": [
        "train_input = albert_encode(processed_data, tokenizer, max_len=160)\r\n",
        "test_input = albert_encode(test_processed_data, tokenizer, max_len=160)\r\n",
        "train_labels = Y\r\n",
        "test_labels = test_Y"
      ],
      "execution_count": null,
      "outputs": []
    },
    {
      "cell_type": "code",
      "metadata": {
        "colab": {
          "base_uri": "https://localhost:8080/"
        },
        "id": "VN4120MLht2o",
        "outputId": "7d5a602e-ada0-4e4e-97fc-7a8ba7bf6df9"
      },
      "source": [
        "model = build_model(albert_layer, max_len=160)\r\n",
        "model.summary()"
      ],
      "execution_count": null,
      "outputs": [
        {
          "output_type": "stream",
          "text": [
            "Model: \"model\"\n",
            "__________________________________________________________________________________________________\n",
            "Layer (type)                    Output Shape         Param #     Connected to                     \n",
            "==================================================================================================\n",
            "input_word_ids (InputLayer)     [(None, 160)]        0                                            \n",
            "__________________________________________________________________________________________________\n",
            "input_mask (InputLayer)         [(None, 160)]        0                                            \n",
            "__________________________________________________________________________________________________\n",
            "segment_ids (InputLayer)        [(None, 160)]        0                                            \n",
            "__________________________________________________________________________________________________\n",
            "keras_layer (KerasLayer)        [(None, 768), (None, 11683584    input_word_ids[0][0]             \n",
            "                                                                 input_mask[0][0]                 \n",
            "                                                                 segment_ids[0][0]                \n",
            "__________________________________________________________________________________________________\n",
            "dense (Dense)                   (None, 100)          76900       keras_layer[0][0]                \n",
            "__________________________________________________________________________________________________\n",
            "dense_1 (Dense)                 (None, 100)          10100       dense[0][0]                      \n",
            "__________________________________________________________________________________________________\n",
            "dense_2 (Dense)                 (None, 6)            606         dense_1[0][0]                    \n",
            "==================================================================================================\n",
            "Total params: 11,771,190\n",
            "Trainable params: 11,771,190\n",
            "Non-trainable params: 0\n",
            "__________________________________________________________________________________________________\n"
          ],
          "name": "stdout"
        }
      ]
    },
    {
      "cell_type": "code",
      "metadata": {
        "colab": {
          "base_uri": "https://localhost:8080/"
        },
        "id": "99MfPQVahyc-",
        "outputId": "36763b85-282f-4827-e56c-96dc633e7ad8"
      },
      "source": [
        "train_history = model.fit(\r\n",
        "    train_input, train_labels,\r\n",
        "    epochs=6,\r\n",
        "    batch_size=1\r\n",
        ")\r\n",
        "\r\n",
        "model.save('model.h5')"
      ],
      "execution_count": null,
      "outputs": [
        {
          "output_type": "stream",
          "text": [
            "Epoch 1/6\n",
            "14097/14097 [==============================] - 660s 46ms/step - loss: 0.4338 - accuracy: 0.3161\n",
            "Epoch 2/6\n",
            "14097/14097 [==============================] - 649s 46ms/step - loss: 0.3145 - accuracy: 0.5779\n",
            "Epoch 3/6\n",
            "14097/14097 [==============================] - 647s 46ms/step - loss: 0.2248 - accuracy: 0.7347\n",
            "Epoch 4/6\n",
            "14097/14097 [==============================] - 647s 46ms/step - loss: 0.1541 - accuracy: 0.8325\n",
            "Epoch 5/6\n",
            "14097/14097 [==============================] - 648s 46ms/step - loss: 0.1129 - accuracy: 0.8801\n",
            "Epoch 6/6\n",
            "14097/14097 [==============================] - 648s 46ms/step - loss: 0.0949 - accuracy: 0.8949\n"
          ],
          "name": "stdout"
        }
      ]
    },
    {
      "cell_type": "code",
      "metadata": {
        "id": "EVVjJiLZh060"
      },
      "source": [
        "y_pred=model.predict(test_input, batch_size=1)"
      ],
      "execution_count": null,
      "outputs": []
    },
    {
      "cell_type": "code",
      "metadata": {
        "id": "dBXDsjjqh3IC"
      },
      "source": [
        "y_pred1=np.argmax(y_pred,axis=1)\r\n",
        "test_processed_label=np.asarray(test_processed_label)\r\n",
        "print(\"Accuracy : \" + str(accuracy_score(test_processed_label, y_pred1)))\r\n",
        "print(\"Weighted F1-score : \" + str(f1_score(test_processed_label, y_pred1, average='weighted')))"
      ],
      "execution_count": null,
      "outputs": []
    }
  ]
}
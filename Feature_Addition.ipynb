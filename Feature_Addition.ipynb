{
  "nbformat": 4,
  "nbformat_minor": 0,
  "metadata": {
    "colab": {
      "name": "Feature Addition.ipynb",
      "provenance": [],
      "authorship_tag": "ABX9TyN3zDu2Jjbt1/Pa15teGiBw",
      "include_colab_link": true
    },
    "kernelspec": {
      "name": "python3",
      "display_name": "Python 3"
    }
  },
  "cells": [
    {
      "cell_type": "markdown",
      "metadata": {
        "id": "view-in-github",
        "colab_type": "text"
      },
      "source": [
        "<a href=\"https://colab.research.google.com/github/anitayadav3/EmotionRecognitionInConversation/blob/master/Feature_Addition.ipynb\" target=\"_parent\"><img src=\"https://colab.research.google.com/assets/colab-badge.svg\" alt=\"Open In Colab\"/></a>"
      ]
    },
    {
      "cell_type": "code",
      "metadata": {
        "colab": {
          "base_uri": "https://localhost:8080/"
        },
        "id": "B3BC88fo8u5q",
        "outputId": "4e152e0a-dadb-45ad-afcf-c12c376d942d"
      },
      "source": [
        "!pip install vaderSentiment"
      ],
      "execution_count": 1,
      "outputs": [
        {
          "output_type": "stream",
          "text": [
            "Collecting vaderSentiment\n",
            "\u001b[?25l  Downloading https://files.pythonhosted.org/packages/76/fc/310e16254683c1ed35eeb97386986d6c00bc29df17ce280aed64d55537e9/vaderSentiment-3.3.2-py2.py3-none-any.whl (125kB)\n",
            "\r\u001b[K     |██▋                             | 10kB 13.6MB/s eta 0:00:01\r\u001b[K     |█████▏                          | 20kB 19.4MB/s eta 0:00:01\r\u001b[K     |███████▉                        | 30kB 11.5MB/s eta 0:00:01\r\u001b[K     |██████████▍                     | 40kB 7.5MB/s eta 0:00:01\r\u001b[K     |█████████████                   | 51kB 4.2MB/s eta 0:00:01\r\u001b[K     |███████████████▋                | 61kB 4.6MB/s eta 0:00:01\r\u001b[K     |██████████████████▏             | 71kB 5.0MB/s eta 0:00:01\r\u001b[K     |████████████████████▉           | 81kB 5.3MB/s eta 0:00:01\r\u001b[K     |███████████████████████▍        | 92kB 5.5MB/s eta 0:00:01\r\u001b[K     |██████████████████████████      | 102kB 5.8MB/s eta 0:00:01\r\u001b[K     |████████████████████████████▋   | 112kB 5.8MB/s eta 0:00:01\r\u001b[K     |███████████████████████████████▏| 122kB 5.8MB/s eta 0:00:01\r\u001b[K     |████████████████████████████████| 133kB 5.8MB/s \n",
            "\u001b[?25hRequirement already satisfied: requests in /usr/local/lib/python3.7/dist-packages (from vaderSentiment) (2.23.0)\n",
            "Requirement already satisfied: chardet<4,>=3.0.2 in /usr/local/lib/python3.7/dist-packages (from requests->vaderSentiment) (3.0.4)\n",
            "Requirement already satisfied: urllib3!=1.25.0,!=1.25.1,<1.26,>=1.21.1 in /usr/local/lib/python3.7/dist-packages (from requests->vaderSentiment) (1.24.3)\n",
            "Requirement already satisfied: certifi>=2017.4.17 in /usr/local/lib/python3.7/dist-packages (from requests->vaderSentiment) (2020.12.5)\n",
            "Requirement already satisfied: idna<3,>=2.5 in /usr/local/lib/python3.7/dist-packages (from requests->vaderSentiment) (2.10)\n",
            "Installing collected packages: vaderSentiment\n",
            "Successfully installed vaderSentiment-3.3.2\n"
          ],
          "name": "stdout"
        }
      ]
    },
    {
      "cell_type": "code",
      "metadata": {
        "id": "YR6U2BMM4l4l"
      },
      "source": [
        "from vaderSentiment.vaderSentiment import SentimentIntensityAnalyzer"
      ],
      "execution_count": 2,
      "outputs": []
    },
    {
      "cell_type": "code",
      "metadata": {
        "id": "g8jGKmq_84T6"
      },
      "source": [
        "sentences = [\"I am a good boy\",\"My best friend is really nice\",\"The cricket match sucks\"]"
      ],
      "execution_count": 3,
      "outputs": []
    },
    {
      "cell_type": "code",
      "metadata": {
        "colab": {
          "base_uri": "https://localhost:8080/"
        },
        "id": "H6VEonBp88gQ",
        "outputId": "9c8df91a-e2f7-4f89-e55c-3528753e899a"
      },
      "source": [
        "analyzer = SentimentIntensityAnalyzer()\r\n",
        "for sentence in sentences:\r\n",
        "    vs = analyzer.polarity_scores(sentence)\r\n",
        "    print((vs))"
      ],
      "execution_count": 7,
      "outputs": [
        {
          "output_type": "stream",
          "text": [
            "{'neg': 0.0, 'neu': 0.58, 'pos': 0.42, 'compound': 0.4404}\n",
            "{'neg': 0.0, 'neu': 0.222, 'pos': 0.778, 'compound': 0.8883}\n",
            "{'neg': 0.455, 'neu': 0.545, 'pos': 0.0, 'compound': -0.3612}\n"
          ],
          "name": "stdout"
        }
      ]
    },
    {
      "cell_type": "code",
      "metadata": {
        "id": "5hrlVah9qFJZ"
      },
      "source": [
        "def addFeatures(sentences):\r\n",
        "  vader_encoding=[]\r\n",
        "  for sentence in sentences:\r\n",
        "    vs = analyzer.polarity_scores(sentence)\r\n",
        "    temp=[]\r\n",
        "    temp.append(vs['neg'])\r\n",
        "    temp.append(vs['neu'])\r\n",
        "    temp.append(vs['pos'])\r\n",
        "    temp.append(vs['compound'])\r\n",
        "    vader_encoding.append(temp)\r\n",
        "  return vader_encoding"
      ],
      "execution_count": 10,
      "outputs": []
    },
    {
      "cell_type": "code",
      "metadata": {
        "colab": {
          "base_uri": "https://localhost:8080/"
        },
        "id": "8XcY_pTftqbL",
        "outputId": "e4824c14-5443-4afd-e2d0-443d83a80d0f"
      },
      "source": [
        "vader_encodings = addFeatures(sentences)\r\n",
        "print(vader_encodings)"
      ],
      "execution_count": 11,
      "outputs": [
        {
          "output_type": "stream",
          "text": [
            "[[0.0, 0.58, 0.42, 0.4404], [0.0, 0.222, 0.778, 0.8883], [0.455, 0.545, 0.0, -0.3612]]\n"
          ],
          "name": "stdout"
        }
      ]
    }
  ]
}
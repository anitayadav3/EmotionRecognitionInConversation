{
  "nbformat": 4,
  "nbformat_minor": 0,
  "metadata": {
    "colab": {
      "name": "Run.ipynb",
      "provenance": [],
      "authorship_tag": "ABX9TyP3KFhH3yA2UBuGpbEddmfb",
      "include_colab_link": true
    },
    "kernelspec": {
      "name": "python3",
      "display_name": "Python 3"
    },
    "accelerator": "GPU"
  },
  "cells": [
    {
      "cell_type": "markdown",
      "metadata": {
        "id": "view-in-github",
        "colab_type": "text"
      },
      "source": [
        "<a href=\"https://colab.research.google.com/github/anitayadav3/EmotionRecognitionInConversation/blob/master/Run.ipynb\" target=\"_parent\"><img src=\"https://colab.research.google.com/assets/colab-badge.svg\" alt=\"Open In Colab\"/></a>"
      ]
    },
    {
      "cell_type": "markdown",
      "metadata": {
        "id": "a4AmxKgQuADD"
      },
      "source": [
        "**Required Imports**"
      ]
    },
    {
      "cell_type": "code",
      "metadata": {
        "colab": {
          "base_uri": "https://localhost:8080/"
        },
        "id": "9GimOUSzt7dW",
        "outputId": "ce0cb874-d7eb-41f4-d3cd-5f6150a935bb"
      },
      "source": [
        "import pickle\r\n",
        "import string\r\n",
        "import nltk\r\n",
        "from nltk.corpus import stopwords\r\n",
        "nltk.download('punkt')\r\n",
        "nltk.download('stopwords')\r\n",
        "import numpy as np\r\n",
        "from keras.utils.np_utils import to_categorical  \r\n",
        "import tensorflow_hub as hub\r\n",
        "import tensorflow as tf\r\n",
        "from tensorflow.keras.layers import Dense, Input\r\n",
        "from tensorflow.keras.optimizers import Adam\r\n",
        "from tensorflow.keras.models import Model\r\n",
        "from sklearn.metrics import f1_score\r\n",
        "from sklearn.metrics import accuracy_score"
      ],
      "execution_count": 1,
      "outputs": [
        {
          "output_type": "stream",
          "text": [
            "[nltk_data] Downloading package punkt to /root/nltk_data...\n",
            "[nltk_data]   Package punkt is already up-to-date!\n",
            "[nltk_data] Downloading package stopwords to /root/nltk_data...\n",
            "[nltk_data]   Package stopwords is already up-to-date!\n"
          ],
          "name": "stdout"
        }
      ]
    },
    {
      "cell_type": "markdown",
      "metadata": {
        "id": "0iWd_7ZkiAh7"
      },
      "source": [
        "**Loading the training and test data**"
      ]
    },
    {
      "cell_type": "code",
      "metadata": {
        "colab": {
          "base_uri": "https://localhost:8080/"
        },
        "id": "w8c_X7ddh8lK",
        "outputId": "070987fc-cb82-4dac-81d4-091aa9bbe1cc"
      },
      "source": [
        "from google.colab import drive\r\n",
        "drive.mount('/content/gdrive')"
      ],
      "execution_count": 2,
      "outputs": [
        {
          "output_type": "stream",
          "text": [
            "Drive already mounted at /content/gdrive; to attempt to forcibly remount, call drive.mount(\"/content/gdrive\", force_remount=True).\n"
          ],
          "name": "stdout"
        }
      ]
    },
    {
      "cell_type": "code",
      "metadata": {
        "id": "TZq8TnaPuGrC"
      },
      "source": [
        "with open('/content/gdrive/My Drive/Dataset/iemocap/train/sentences.pkl', 'rb') as f:\r\n",
        "    data = pickle.load(f)\r\n",
        "with open('/content/gdrive/My Drive/Dataset/iemocap/train/labels.pkl', 'rb') as f:\r\n",
        "    labels = pickle.load(f)\r\n",
        "with open('/content/gdrive/My Drive/Dataset/iemocap/test/sentences.pkl', 'rb') as f:\r\n",
        "    test_data = pickle.load(f)\r\n",
        "with open('/content/gdrive/My Drive/Dataset/iemocap/test/labels.pkl', 'rb') as f:\r\n",
        "    test_labels = pickle.load(f)\r\n",
        "with open('/content/gdrive/MyDrive/Dataset/iemocap/train/conversation_length.pkl', 'rb') as f:\r\n",
        "    train_convlen = pickle.load(f)\r\n",
        "with open('/content/gdrive/MyDrive/Dataset/iemocap/test/conversation_length.pkl', 'rb') as f:\r\n",
        "    test_convlen = pickle.load(f)"
      ],
      "execution_count": 3,
      "outputs": []
    },
    {
      "cell_type": "markdown",
      "metadata": {
        "id": "dUo4tPlsutap"
      },
      "source": [
        "**Preprocessing the Training Data**"
      ]
    },
    {
      "cell_type": "markdown",
      "metadata": {
        "id": "hm7Ht14Ywf0t"
      },
      "source": [
        "Function to arrange sentences and create an array of string of sentences"
      ]
    },
    {
      "cell_type": "code",
      "metadata": {
        "id": "gQUHCY-Ouwly"
      },
      "source": [
        "def arrange_sentences(data,data2,data3):\r\n",
        "  startlen=0\r\n",
        "  final_sentences=[]\r\n",
        "  final_labels=[]\r\n",
        "  for i in data:\r\n",
        "    odd_sentences=[]\r\n",
        "    odd_labels=[]\r\n",
        "    for j in range(0,i):\r\n",
        "      if j%2==0:\r\n",
        "        final_sentences.append(data2[startlen])\r\n",
        "        final_labels.append(data3[startlen])\r\n",
        "        startlen=startlen+1\r\n",
        "      else:\r\n",
        "        odd_sentences.append(data2[startlen])\r\n",
        "        odd_labels.append(data3[startlen])\r\n",
        "        startlen=startlen+1\r\n",
        "    for i in range(0,len(odd_sentences)):\r\n",
        "      final_sentences.append(odd_sentences[i])\r\n",
        "      final_labels.append(odd_labels[i])\r\n",
        "  return final_sentences,final_labels\r\n",
        "\r\n",
        "def preprocessing(data,labels):\r\n",
        "  processed_data=[]\r\n",
        "  processed_label=[]\r\n",
        "  for i in range(0,len(data)):\r\n",
        "    for j in range(0,len(data[i])):\r\n",
        "      intermediate_data=[]\r\n",
        "      intermediate_label=[]\r\n",
        "      for k in range(0,len(data[i][j])):\r\n",
        "        text=data[i][j][k]\r\n",
        "        if text != '<eos>'and text!='<pad>':\r\n",
        "          intermediate_data.append(text)\r\n",
        "      processed_data.append(intermediate_data)\r\n",
        "  for i in labels:\r\n",
        "    for j in i:\r\n",
        "      processed_label.append(j)\r\n",
        "  return processed_data,processed_label"
      ],
      "execution_count": 4,
      "outputs": []
    },
    {
      "cell_type": "code",
      "metadata": {
        "id": "t1lHB1TgwbOx"
      },
      "source": [
        "processed_data,processed_label = preprocessing(data,labels)\r\n",
        "for i in range(0,len(processed_data)):\r\n",
        "  processed_data[i]= ' '.join(processed_data[i])\r\n",
        "processed_data,processed_label=arrange_sentences(train_convlen,processed_data,processed_label)"
      ],
      "execution_count": 5,
      "outputs": []
    },
    {
      "cell_type": "markdown",
      "metadata": {
        "id": "bpfcbxFlxH2d"
      },
      "source": [
        "**Adding ConceptNet Features**"
      ]
    },
    {
      "cell_type": "code",
      "metadata": {
        "id": "9WQEY2YoxBXm"
      },
      "source": [
        "def ConceptNet_Sentences(data,labels):\r\n",
        "  conceptnet_data=[]\r\n",
        "  conceptnet_labels=[]\r\n",
        "  for sentences in range(0,len(data)):\r\n",
        "      current_sentence=data[sentences]\r\n",
        "      conceptnet_data.append(current_sentence)\r\n",
        "      conceptnet_labels.append(labels[sentences])\r\n",
        "      cleaned_sentences=data[sentences].translate(str.maketrans('', '', string.punctuation))\r\n",
        "      tokens_with_sw=nltk.word_tokenize(cleaned_sentences)\r\n",
        "      tokens= [word for word in tokens_with_sw if not word in stopwords.words()]\r\n",
        "      for i in range(1,3):\r\n",
        "        temp=current_sentence\r\n",
        "        for j in tokens:\r\n",
        "          try:\r\n",
        "            obj = requests.get('http://api.conceptnet.io/related/c/en/' + j + '?filter=/c/en').json()\r\n",
        "            response=obj['related'][i]['@id']\r\n",
        "          except Exception:\r\n",
        "            continue\r\n",
        "          response=re.sub(r'[^\\w]', ' ', response)\r\n",
        "          response=response[6:]\r\n",
        "          temp=temp.replace(j,response)\r\n",
        "        conceptnet_data.append(temp)\r\n",
        "        conceptnet_labels.append(labels[sentences])\r\n",
        "  return conceptnet_data,conceptnet_labels"
      ],
      "execution_count": 6,
      "outputs": []
    },
    {
      "cell_type": "code",
      "metadata": {
        "id": "Sk80w4EoxvlN"
      },
      "source": [
        "processed_data,processed_label = ConceptNet_Sentences(processed_data,processed_label)"
      ],
      "execution_count": null,
      "outputs": []
    },
    {
      "cell_type": "markdown",
      "metadata": {
        "id": "RqZ1waq8zawi"
      },
      "source": [
        "**Adding Contextual Info from VADER**"
      ]
    },
    {
      "cell_type": "code",
      "metadata": {
        "id": "5q988xzhzgEc"
      },
      "source": [
        "!pip install vaderSentiment\r\n",
        "from vaderSentiment.vaderSentiment import SentimentIntensityAnalyzer\r\n",
        "analyzer = SentimentIntensityAnalyzer()"
      ],
      "execution_count": null,
      "outputs": []
    },
    {
      "cell_type": "markdown",
      "metadata": {
        "id": "O8qPx3PK0A-Y"
      },
      "source": [
        "Function to add VADER features"
      ]
    },
    {
      "cell_type": "code",
      "metadata": {
        "id": "KT33GtO1z-YY"
      },
      "source": [
        "def add_Vader_Features(sentences):\r\n",
        "  vader_features=[]\r\n",
        "  for sentence in sentences:\r\n",
        "    vs = analyzer.polarity_scores(sentence)\r\n",
        "    temp=[]\r\n",
        "    temp.append(sentence)\r\n",
        "    if vs['neg'] > 0.2:\r\n",
        "      temp.append('negative')\r\n",
        "    if vs['pos'] > 0.2:\r\n",
        "      temp.append('positive')\r\n",
        "    if vs['neu'] > 0.2:\r\n",
        "      temp.append('neutral')\r\n",
        "    if vs['compound'] > 0.2:\r\n",
        "      temp.append('compound')\r\n",
        "    temp=' '.join(temp)\r\n",
        "    vader_features.append(temp)\r\n",
        "  return vader_features"
      ],
      "execution_count": null,
      "outputs": []
    },
    {
      "cell_type": "code",
      "metadata": {
        "id": "B1yzm4s_0EOm"
      },
      "source": [
        "processed_data = add_Vader_Features(processed_data)"
      ],
      "execution_count": null,
      "outputs": []
    },
    {
      "cell_type": "markdown",
      "metadata": {
        "id": "LbS_2_gy0h6T"
      },
      "source": [
        "Converting data for making it possible to pass through the model"
      ]
    },
    {
      "cell_type": "code",
      "metadata": {
        "id": "AUafJeFC0hKN"
      },
      "source": [
        "processed_data=np.asarray(processed_data)\r\n",
        "Y=to_categorical(processed_label, num_classes=6)"
      ],
      "execution_count": null,
      "outputs": []
    },
    {
      "cell_type": "markdown",
      "metadata": {
        "id": "EVjJaH6z2dvd"
      },
      "source": [
        "**Preparing the Model**"
      ]
    },
    {
      "cell_type": "code",
      "metadata": {
        "id": "dGvV8w0A2gRy"
      },
      "source": [
        "!wget --quiet https://raw.githubusercontent.com/tensorflow/models/master/official/nlp/bert/tokenization.py\r\n",
        "!pip install sentencepiece\r\n",
        "import tokenization"
      ],
      "execution_count": null,
      "outputs": []
    },
    {
      "cell_type": "code",
      "metadata": {
        "id": "UUyuovC42jyY"
      },
      "source": [
        "def albert_encode(texts, tokenizer, max_len=512):\r\n",
        "    all_tokens = []\r\n",
        "    all_masks = []\r\n",
        "    all_segments = []\r\n",
        "    \r\n",
        "    for text in texts:\r\n",
        "        text = tokenizer.tokenize(text)\r\n",
        "            \r\n",
        "        text = text[:max_len-2]\r\n",
        "        input_sequence = [\"[CLS]\"] + text + [\"[SEP]\"]\r\n",
        "        pad_len = max_len - len(input_sequence)\r\n",
        "        \r\n",
        "        tokens = tokenizer.convert_tokens_to_ids(input_sequence)\r\n",
        "        tokens += [0] * pad_len\r\n",
        "        pad_masks = [1] * len(input_sequence) + [0] * pad_len\r\n",
        "        segment_ids = [0] * max_len\r\n",
        "        \r\n",
        "        all_tokens.append(tokens)\r\n",
        "        all_masks.append(pad_masks)\r\n",
        "        all_segments.append(segment_ids)\r\n",
        "    \r\n",
        "    return np.array(all_tokens), np.array(all_masks), np.array(all_segments)\r\n",
        "def build_model(bert_layer, max_len=512):\r\n",
        "    input_word_ids = Input(shape=(max_len,), dtype=tf.int32, name=\"input_word_ids\")\r\n",
        "    input_mask = Input(shape=(max_len,), dtype=tf.int32, name=\"input_mask\")\r\n",
        "    segment_ids = Input(shape=(max_len,), dtype=tf.int32, name=\"segment_ids\")\r\n",
        "\r\n",
        "    pooled_output, sequence_output = bert_layer([input_word_ids, input_mask, segment_ids])\r\n",
        "    clf_output = pooled_output\r\n",
        "    out = Dense(100, activation='relu')(clf_output)\r\n",
        "    out = Dense(100, activation='relu')(out)\r\n",
        "    out = Dense(6, activation='softmax')(out)\r\n",
        "    \r\n",
        "    model = Model(inputs=[input_word_ids, input_mask, segment_ids], outputs=out)\r\n",
        "    model.compile(Adam(lr=2e-6), loss='binary_crossentropy', metrics=['accuracy'])\r\n",
        "    \r\n",
        "    return model"
      ],
      "execution_count": null,
      "outputs": []
    },
    {
      "cell_type": "code",
      "metadata": {
        "id": "8gHsHOgC2pkW"
      },
      "source": [
        "module_url = \"https://tfhub.dev/tensorflow/albert_en_base/1\"\r\n",
        "albert_layer = hub.KerasLayer(module_url, trainable=True)"
      ],
      "execution_count": null,
      "outputs": []
    },
    {
      "cell_type": "code",
      "metadata": {
        "id": "4jjuLQww245l"
      },
      "source": [
        "sp_model_file = albert_layer.resolved_object.sp_model_file.asset_path.numpy()\r\n",
        "tokenizer = tokenization.FullSentencePieceTokenizer(sp_model_file)\r\n",
        "train_input = albert_encode(processed_data, tokenizer, max_len=160)\r\n",
        "train_labels = Y"
      ],
      "execution_count": null,
      "outputs": []
    },
    {
      "cell_type": "code",
      "metadata": {
        "id": "wlLE3f3g3Ac8"
      },
      "source": [
        "model = build_model(albert_layer, max_len=160)\r\n",
        "model.summary()"
      ],
      "execution_count": null,
      "outputs": []
    },
    {
      "cell_type": "markdown",
      "metadata": {
        "id": "oOMmKz3O3Z1-"
      },
      "source": [
        "**Training with data**"
      ]
    },
    {
      "cell_type": "code",
      "metadata": {
        "id": "6wQSlcpZ3ZP_"
      },
      "source": [
        "train_history = model.fit(\r\n",
        "    train_input, train_labels,\r\n",
        "    epochs=3,\r\n",
        "    batch_size=1\r\n",
        ")"
      ],
      "execution_count": null,
      "outputs": []
    },
    {
      "cell_type": "markdown",
      "metadata": {
        "id": "4jmxXJqt3f1g"
      },
      "source": [
        "**Preprocessing Test Data and passing through the model for accuracy**"
      ]
    },
    {
      "cell_type": "code",
      "metadata": {
        "id": "-KJmF2rL3pHm"
      },
      "source": [
        "test_processed_data,test_processed_label = preprocessing(test_data,test_labels)\r\n",
        "for i in range(0,len(test_processed_data)):\r\n",
        "  test_processed_data[i]=' '.join(test_processed_data[i])\r\n",
        "test_processed_data=np.asarray(test_processed_data)\r\n",
        "test_Y=to_categorical(test_processed_label, num_classes=6)"
      ],
      "execution_count": null,
      "outputs": []
    },
    {
      "cell_type": "code",
      "metadata": {
        "id": "5Z7t1ifS3_yX"
      },
      "source": [
        "test_input = albert_encode(test_processed_data, tokenizer, max_len=160)\r\n",
        "test_labels = test_Y"
      ],
      "execution_count": null,
      "outputs": []
    },
    {
      "cell_type": "code",
      "metadata": {
        "id": "5RMJ4VbY4BoP"
      },
      "source": [
        "y_pred=model.predict(test_input, batch_size=1)"
      ],
      "execution_count": null,
      "outputs": []
    },
    {
      "cell_type": "code",
      "metadata": {
        "id": "UBqE9q1f4ERN"
      },
      "source": [
        "y_pred1=np.argmax(y_pred,axis=1)\r\n",
        "test_processed_label=np.asarray(test_processed_label)\r\n",
        "print(\"Accuracy : \" + str(accuracy_score(test_processed_label, y_pred1)))\r\n",
        "print(\"Weighted F1-score : \" + str(f1_score(test_processed_label, y_pred1, average='weighted')))"
      ],
      "execution_count": null,
      "outputs": []
    }
  ]
}
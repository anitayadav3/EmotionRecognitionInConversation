{
  "nbformat": 4,
  "nbformat_minor": 0,
  "metadata": {
    "colab": {
      "name": "Final_ERC_Model.ipynb",
      "provenance": [],
      "authorship_tag": "ABX9TyM9k7u+9m03/Cdo8s/GvgO0",
      "include_colab_link": true
    },
    "kernelspec": {
      "name": "python3",
      "display_name": "Python 3"
    },
    "accelerator": "GPU"
  },
  "cells": [
    {
      "cell_type": "markdown",
      "metadata": {
        "id": "view-in-github",
        "colab_type": "text"
      },
      "source": [
        "<a href=\"https://colab.research.google.com/github/anitayadav3/EmotionRecognitionInConversation/blob/master/Final_ERC_Model.ipynb\" target=\"_parent\"><img src=\"https://colab.research.google.com/assets/colab-badge.svg\" alt=\"Open In Colab\"/></a>"
      ]
    },
    {
      "cell_type": "code",
      "metadata": {
        "colab": {
          "base_uri": "https://localhost:8080/"
        },
        "id": "4M_DCFHatD2O",
        "outputId": "6f1f7c7d-dfb2-4e54-ce64-423052cae54a"
      },
      "source": [
        "import numpy as np # linear algebra\r\n",
        "import pandas as pd # data processing, CSV file I/O (e.g. pd.read_csv)\r\n",
        "import numpy as np\r\n",
        "import re\r\n",
        "import nltk\r\n",
        "from nltk.corpus import stopwords\r\n",
        "nltk.download('stopwords')\r\n",
        "nltk.download('punkt')\r\n",
        "from nltk.tokenize import word_tokenize\r\n",
        "import pandas as pd\r\n",
        "import tensorflow as tf\r\n",
        "from tensorflow.keras.layers import Dense, Input, GRU, Dropout\r\n",
        "from tensorflow.keras.optimizers import Adam\r\n",
        "from tensorflow.keras.models import Model\r\n",
        "from tensorflow.keras.callbacks import ModelCheckpoint\r\n",
        "import tensorflow_hub as hub\r\n",
        "import pickle\r\n",
        "from sklearn.metrics import f1_score\r\n",
        "from sklearn.metrics import accuracy_score\r\n",
        "from keras.utils.np_utils import to_categorical  \r\n",
        "import string\r\n",
        "import requests"
      ],
      "execution_count": 1,
      "outputs": [
        {
          "output_type": "stream",
          "text": [
            "[nltk_data] Downloading package stopwords to /root/nltk_data...\n",
            "[nltk_data]   Unzipping corpora/stopwords.zip.\n",
            "[nltk_data] Downloading package punkt to /root/nltk_data...\n",
            "[nltk_data]   Unzipping tokenizers/punkt.zip.\n"
          ],
          "name": "stdout"
        }
      ]
    },
    {
      "cell_type": "code",
      "metadata": {
        "colab": {
          "base_uri": "https://localhost:8080/"
        },
        "id": "yJv80z7Cy_NS",
        "outputId": "184b06d9-3dfa-4068-ee5a-ffb4803d08ec"
      },
      "source": [
        "!wget --quiet https://raw.githubusercontent.com/tensorflow/models/master/official/nlp/bert/tokenization.py\r\n",
        "!pip install sentencepiece\r\n",
        "import tokenization"
      ],
      "execution_count": 2,
      "outputs": [
        {
          "output_type": "stream",
          "text": [
            "Collecting sentencepiece\n",
            "\u001b[?25l  Downloading https://files.pythonhosted.org/packages/f5/99/e0808cb947ba10f575839c43e8fafc9cc44e4a7a2c8f79c60db48220a577/sentencepiece-0.1.95-cp37-cp37m-manylinux2014_x86_64.whl (1.2MB)\n",
            "\r\u001b[K     |▎                               | 10kB 18.2MB/s eta 0:00:01\r\u001b[K     |▌                               | 20kB 10.6MB/s eta 0:00:01\r\u001b[K     |▉                               | 30kB 8.3MB/s eta 0:00:01\r\u001b[K     |█                               | 40kB 7.4MB/s eta 0:00:01\r\u001b[K     |█▍                              | 51kB 4.2MB/s eta 0:00:01\r\u001b[K     |█▋                              | 61kB 4.7MB/s eta 0:00:01\r\u001b[K     |██                              | 71kB 4.9MB/s eta 0:00:01\r\u001b[K     |██▏                             | 81kB 5.2MB/s eta 0:00:01\r\u001b[K     |██▌                             | 92kB 5.0MB/s eta 0:00:01\r\u001b[K     |██▊                             | 102kB 4.1MB/s eta 0:00:01\r\u001b[K     |███                             | 112kB 4.1MB/s eta 0:00:01\r\u001b[K     |███▎                            | 122kB 4.1MB/s eta 0:00:01\r\u001b[K     |███▌                            | 133kB 4.1MB/s eta 0:00:01\r\u001b[K     |███▉                            | 143kB 4.1MB/s eta 0:00:01\r\u001b[K     |████                            | 153kB 4.1MB/s eta 0:00:01\r\u001b[K     |████▍                           | 163kB 4.1MB/s eta 0:00:01\r\u001b[K     |████▋                           | 174kB 4.1MB/s eta 0:00:01\r\u001b[K     |█████                           | 184kB 4.1MB/s eta 0:00:01\r\u001b[K     |█████▏                          | 194kB 4.1MB/s eta 0:00:01\r\u001b[K     |█████▌                          | 204kB 4.1MB/s eta 0:00:01\r\u001b[K     |█████▊                          | 215kB 4.1MB/s eta 0:00:01\r\u001b[K     |██████                          | 225kB 4.1MB/s eta 0:00:01\r\u001b[K     |██████▎                         | 235kB 4.1MB/s eta 0:00:01\r\u001b[K     |██████▌                         | 245kB 4.1MB/s eta 0:00:01\r\u001b[K     |██████▉                         | 256kB 4.1MB/s eta 0:00:01\r\u001b[K     |███████                         | 266kB 4.1MB/s eta 0:00:01\r\u001b[K     |███████▍                        | 276kB 4.1MB/s eta 0:00:01\r\u001b[K     |███████▋                        | 286kB 4.1MB/s eta 0:00:01\r\u001b[K     |████████                        | 296kB 4.1MB/s eta 0:00:01\r\u001b[K     |████████▏                       | 307kB 4.1MB/s eta 0:00:01\r\u001b[K     |████████▍                       | 317kB 4.1MB/s eta 0:00:01\r\u001b[K     |████████▊                       | 327kB 4.1MB/s eta 0:00:01\r\u001b[K     |█████████                       | 337kB 4.1MB/s eta 0:00:01\r\u001b[K     |█████████▎                      | 348kB 4.1MB/s eta 0:00:01\r\u001b[K     |█████████▌                      | 358kB 4.1MB/s eta 0:00:01\r\u001b[K     |█████████▉                      | 368kB 4.1MB/s eta 0:00:01\r\u001b[K     |██████████                      | 378kB 4.1MB/s eta 0:00:01\r\u001b[K     |██████████▍                     | 389kB 4.1MB/s eta 0:00:01\r\u001b[K     |██████████▋                     | 399kB 4.1MB/s eta 0:00:01\r\u001b[K     |███████████                     | 409kB 4.1MB/s eta 0:00:01\r\u001b[K     |███████████▏                    | 419kB 4.1MB/s eta 0:00:01\r\u001b[K     |███████████▍                    | 430kB 4.1MB/s eta 0:00:01\r\u001b[K     |███████████▊                    | 440kB 4.1MB/s eta 0:00:01\r\u001b[K     |████████████                    | 450kB 4.1MB/s eta 0:00:01\r\u001b[K     |████████████▎                   | 460kB 4.1MB/s eta 0:00:01\r\u001b[K     |████████████▌                   | 471kB 4.1MB/s eta 0:00:01\r\u001b[K     |████████████▉                   | 481kB 4.1MB/s eta 0:00:01\r\u001b[K     |█████████████                   | 491kB 4.1MB/s eta 0:00:01\r\u001b[K     |█████████████▍                  | 501kB 4.1MB/s eta 0:00:01\r\u001b[K     |█████████████▋                  | 512kB 4.1MB/s eta 0:00:01\r\u001b[K     |█████████████▉                  | 522kB 4.1MB/s eta 0:00:01\r\u001b[K     |██████████████▏                 | 532kB 4.1MB/s eta 0:00:01\r\u001b[K     |██████████████▍                 | 542kB 4.1MB/s eta 0:00:01\r\u001b[K     |██████████████▊                 | 552kB 4.1MB/s eta 0:00:01\r\u001b[K     |███████████████                 | 563kB 4.1MB/s eta 0:00:01\r\u001b[K     |███████████████▎                | 573kB 4.1MB/s eta 0:00:01\r\u001b[K     |███████████████▌                | 583kB 4.1MB/s eta 0:00:01\r\u001b[K     |███████████████▉                | 593kB 4.1MB/s eta 0:00:01\r\u001b[K     |████████████████                | 604kB 4.1MB/s eta 0:00:01\r\u001b[K     |████████████████▍               | 614kB 4.1MB/s eta 0:00:01\r\u001b[K     |████████████████▋               | 624kB 4.1MB/s eta 0:00:01\r\u001b[K     |████████████████▉               | 634kB 4.1MB/s eta 0:00:01\r\u001b[K     |█████████████████▏              | 645kB 4.1MB/s eta 0:00:01\r\u001b[K     |█████████████████▍              | 655kB 4.1MB/s eta 0:00:01\r\u001b[K     |█████████████████▊              | 665kB 4.1MB/s eta 0:00:01\r\u001b[K     |██████████████████              | 675kB 4.1MB/s eta 0:00:01\r\u001b[K     |██████████████████▎             | 686kB 4.1MB/s eta 0:00:01\r\u001b[K     |██████████████████▌             | 696kB 4.1MB/s eta 0:00:01\r\u001b[K     |██████████████████▉             | 706kB 4.1MB/s eta 0:00:01\r\u001b[K     |███████████████████             | 716kB 4.1MB/s eta 0:00:01\r\u001b[K     |███████████████████▎            | 727kB 4.1MB/s eta 0:00:01\r\u001b[K     |███████████████████▋            | 737kB 4.1MB/s eta 0:00:01\r\u001b[K     |███████████████████▉            | 747kB 4.1MB/s eta 0:00:01\r\u001b[K     |████████████████████▏           | 757kB 4.1MB/s eta 0:00:01\r\u001b[K     |████████████████████▍           | 768kB 4.1MB/s eta 0:00:01\r\u001b[K     |████████████████████▊           | 778kB 4.1MB/s eta 0:00:01\r\u001b[K     |█████████████████████           | 788kB 4.1MB/s eta 0:00:01\r\u001b[K     |█████████████████████▎          | 798kB 4.1MB/s eta 0:00:01\r\u001b[K     |█████████████████████▌          | 808kB 4.1MB/s eta 0:00:01\r\u001b[K     |█████████████████████▉          | 819kB 4.1MB/s eta 0:00:01\r\u001b[K     |██████████████████████          | 829kB 4.1MB/s eta 0:00:01\r\u001b[K     |██████████████████████▎         | 839kB 4.1MB/s eta 0:00:01\r\u001b[K     |██████████████████████▋         | 849kB 4.1MB/s eta 0:00:01\r\u001b[K     |██████████████████████▉         | 860kB 4.1MB/s eta 0:00:01\r\u001b[K     |███████████████████████▏        | 870kB 4.1MB/s eta 0:00:01\r\u001b[K     |███████████████████████▍        | 880kB 4.1MB/s eta 0:00:01\r\u001b[K     |███████████████████████▊        | 890kB 4.1MB/s eta 0:00:01\r\u001b[K     |████████████████████████        | 901kB 4.1MB/s eta 0:00:01\r\u001b[K     |████████████████████████▎       | 911kB 4.1MB/s eta 0:00:01\r\u001b[K     |████████████████████████▌       | 921kB 4.1MB/s eta 0:00:01\r\u001b[K     |████████████████████████▊       | 931kB 4.1MB/s eta 0:00:01\r\u001b[K     |█████████████████████████       | 942kB 4.1MB/s eta 0:00:01\r\u001b[K     |█████████████████████████▎      | 952kB 4.1MB/s eta 0:00:01\r\u001b[K     |█████████████████████████▋      | 962kB 4.1MB/s eta 0:00:01\r\u001b[K     |█████████████████████████▉      | 972kB 4.1MB/s eta 0:00:01\r\u001b[K     |██████████████████████████▏     | 983kB 4.1MB/s eta 0:00:01\r\u001b[K     |██████████████████████████▍     | 993kB 4.1MB/s eta 0:00:01\r\u001b[K     |██████████████████████████▊     | 1.0MB 4.1MB/s eta 0:00:01\r\u001b[K     |███████████████████████████     | 1.0MB 4.1MB/s eta 0:00:01\r\u001b[K     |███████████████████████████▎    | 1.0MB 4.1MB/s eta 0:00:01\r\u001b[K     |███████████████████████████▌    | 1.0MB 4.1MB/s eta 0:00:01\r\u001b[K     |███████████████████████████▊    | 1.0MB 4.1MB/s eta 0:00:01\r\u001b[K     |████████████████████████████    | 1.1MB 4.1MB/s eta 0:00:01\r\u001b[K     |████████████████████████████▎   | 1.1MB 4.1MB/s eta 0:00:01\r\u001b[K     |████████████████████████████▋   | 1.1MB 4.1MB/s eta 0:00:01\r\u001b[K     |████████████████████████████▉   | 1.1MB 4.1MB/s eta 0:00:01\r\u001b[K     |█████████████████████████████▏  | 1.1MB 4.1MB/s eta 0:00:01\r\u001b[K     |█████████████████████████████▍  | 1.1MB 4.1MB/s eta 0:00:01\r\u001b[K     |█████████████████████████████▊  | 1.1MB 4.1MB/s eta 0:00:01\r\u001b[K     |██████████████████████████████  | 1.1MB 4.1MB/s eta 0:00:01\r\u001b[K     |██████████████████████████████▏ | 1.1MB 4.1MB/s eta 0:00:01\r\u001b[K     |██████████████████████████████▌ | 1.1MB 4.1MB/s eta 0:00:01\r\u001b[K     |██████████████████████████████▊ | 1.2MB 4.1MB/s eta 0:00:01\r\u001b[K     |███████████████████████████████ | 1.2MB 4.1MB/s eta 0:00:01\r\u001b[K     |███████████████████████████████▎| 1.2MB 4.1MB/s eta 0:00:01\r\u001b[K     |███████████████████████████████▋| 1.2MB 4.1MB/s eta 0:00:01\r\u001b[K     |███████████████████████████████▉| 1.2MB 4.1MB/s eta 0:00:01\r\u001b[K     |████████████████████████████████| 1.2MB 4.1MB/s \n",
            "\u001b[?25hInstalling collected packages: sentencepiece\n",
            "Successfully installed sentencepiece-0.1.95\n"
          ],
          "name": "stdout"
        }
      ]
    },
    {
      "cell_type": "code",
      "metadata": {
        "id": "H7rzFmwHzA4x"
      },
      "source": [
        "def albert_encode(texts, tokenizer, max_len=512):\r\n",
        "    all_tokens = []\r\n",
        "    all_masks = []\r\n",
        "    all_segments = []\r\n",
        "    \r\n",
        "    for text in texts:\r\n",
        "        text = tokenizer.tokenize(text)\r\n",
        "            \r\n",
        "        text = text[:max_len-2]\r\n",
        "        input_sequence = [\"[CLS]\"] + text + [\"[SEP]\"]\r\n",
        "        pad_len = max_len - len(input_sequence)\r\n",
        "        \r\n",
        "        tokens = tokenizer.convert_tokens_to_ids(input_sequence)\r\n",
        "        tokens += [0] * pad_len\r\n",
        "        pad_masks = [1] * len(input_sequence) + [0] * pad_len\r\n",
        "        segment_ids = [0] * max_len\r\n",
        "        \r\n",
        "        all_tokens.append(tokens)\r\n",
        "        all_masks.append(pad_masks)\r\n",
        "        all_segments.append(segment_ids)\r\n",
        "    \r\n",
        "    return np.array(all_tokens), np.array(all_masks), np.array(all_segments)"
      ],
      "execution_count": 3,
      "outputs": []
    },
    {
      "cell_type": "code",
      "metadata": {
        "id": "tQ3_k6z9zD0h"
      },
      "source": [
        "def build_model(bert_layer, max_len=512):\r\n",
        "    input_word_ids = Input(shape=(max_len,), dtype=tf.int32, name=\"input_word_ids\")\r\n",
        "    input_mask = Input(shape=(max_len,), dtype=tf.int32, name=\"input_mask\")\r\n",
        "    segment_ids = Input(shape=(max_len,), dtype=tf.int32, name=\"segment_ids\")\r\n",
        "\r\n",
        "    pooled_output, sequence_output = bert_layer([input_word_ids, input_mask, segment_ids])\r\n",
        "    clf_output = pooled_output\r\n",
        "    out = Dense(100, activation='relu')(clf_output)\r\n",
        "    out = Dense(100, activation='relu')(out)\r\n",
        "    out = Dense(6, activation='softmax')(out)\r\n",
        "    \r\n",
        "    model = Model(inputs=[input_word_ids, input_mask, segment_ids], outputs=out)\r\n",
        "    model.compile(Adam(lr=2e-6), loss='binary_crossentropy', metrics=['accuracy'])\r\n",
        "    \r\n",
        "    return model"
      ],
      "execution_count": 4,
      "outputs": []
    },
    {
      "cell_type": "code",
      "metadata": {
        "colab": {
          "base_uri": "https://localhost:8080/"
        },
        "id": "F4nxIhlqzH0s",
        "outputId": "e11e27ca-5117-4d13-e658-b20ec7fb7484"
      },
      "source": [
        "%%time\r\n",
        "module_url = \"https://tfhub.dev/tensorflow/albert_en_base/1\"\r\n",
        "albert_layer = hub.KerasLayer(module_url, trainable=True)"
      ],
      "execution_count": 5,
      "outputs": [
        {
          "output_type": "stream",
          "text": [
            "CPU times: user 3.65 s, sys: 541 ms, total: 4.19 s\n",
            "Wall time: 11.3 s\n"
          ],
          "name": "stdout"
        }
      ]
    },
    {
      "cell_type": "code",
      "metadata": {
        "colab": {
          "base_uri": "https://localhost:8080/"
        },
        "id": "RcpTAdfqzJCH",
        "outputId": "5d6bd5f5-f394-402d-a2ce-4372d964b385"
      },
      "source": [
        "from google.colab import drive\r\n",
        "drive.mount('/content/gdrive')"
      ],
      "execution_count": 6,
      "outputs": [
        {
          "output_type": "stream",
          "text": [
            "Mounted at /content/gdrive\n"
          ],
          "name": "stdout"
        }
      ]
    },
    {
      "cell_type": "code",
      "metadata": {
        "id": "fJS8r5CLzLdA"
      },
      "source": [
        "with open('/content/vader_featured_sentences.pkl', 'rb') as f:\r\n",
        "    processed_data = pickle.load(f)\r\n",
        "with open('/content/arranged_processed_label.pkl', 'rb') as f:\r\n",
        "    processed_label = pickle.load(f)\r\n",
        "with open('/content/gdrive/My Drive/iemocap/test/sentences.pkl', 'rb') as f:\r\n",
        "    test_data = pickle.load(f)\r\n",
        "with open('/content/gdrive/My Drive/iemocap/test/labels.pkl', 'rb') as f:\r\n",
        "    test_labels = pickle.load(f)"
      ],
      "execution_count": 17,
      "outputs": []
    },
    {
      "cell_type": "code",
      "metadata": {
        "id": "FZabaxRyzZ08"
      },
      "source": [
        "processed_data=np.asarray(processed_data)\r\n",
        "Y=to_categorical(processed_label, num_classes=6)"
      ],
      "execution_count": 18,
      "outputs": []
    },
    {
      "cell_type": "code",
      "metadata": {
        "id": "7-e-anzOzyh-"
      },
      "source": [
        "sp_model_file = albert_layer.resolved_object.sp_model_file.asset_path.numpy()\r\n",
        "tokenizer = tokenization.FullSentencePieceTokenizer(sp_model_file)"
      ],
      "execution_count": 19,
      "outputs": []
    },
    {
      "cell_type": "code",
      "metadata": {
        "id": "-ua_azJ5zewy"
      },
      "source": [
        "train_input = albert_encode(processed_data, tokenizer, max_len=160)\r\n",
        "train_labels = Y"
      ],
      "execution_count": 20,
      "outputs": []
    },
    {
      "cell_type": "code",
      "metadata": {
        "id": "UfBwa_Yk1byd"
      },
      "source": [
        "model = build_model(albert_layer, max_len=160)\r\n",
        "model.summary()"
      ],
      "execution_count": null,
      "outputs": []
    },
    {
      "cell_type": "code",
      "metadata": {
        "colab": {
          "base_uri": "https://localhost:8080/"
        },
        "id": "XLORlbwY1gKZ",
        "outputId": "bfcabc28-c06e-4a8b-c97d-2a130d6b8a21"
      },
      "source": [
        "train_history = model.fit(\r\n",
        "    train_input, train_labels,\r\n",
        "    epochs=10,\r\n",
        "    batch_size=1\r\n",
        ")"
      ],
      "execution_count": null,
      "outputs": [
        {
          "output_type": "stream",
          "text": [
            "Epoch 1/10\n",
            " 1237/14097 [=>............................] - ETA: 7:26 - loss: 0.5515 - accuracy: 0.1890"
          ],
          "name": "stdout"
        }
      ]
    }
  ]
}
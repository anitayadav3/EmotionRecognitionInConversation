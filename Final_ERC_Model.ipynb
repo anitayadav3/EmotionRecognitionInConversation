{
  "nbformat": 4,
  "nbformat_minor": 0,
  "metadata": {
    "colab": {
      "name": "Final_ERC_Model.ipynb",
      "provenance": [],
      "include_colab_link": true
    },
    "kernelspec": {
      "name": "python3",
      "display_name": "Python 3"
    },
    "accelerator": "GPU"
  },
  "cells": [
    {
      "cell_type": "markdown",
      "metadata": {
        "id": "view-in-github",
        "colab_type": "text"
      },
      "source": [
        "<a href=\"https://colab.research.google.com/github/anitayadav3/EmotionRecognitionInConversation/blob/master/Final_ERC_Model.ipynb\" target=\"_parent\"><img src=\"https://colab.research.google.com/assets/colab-badge.svg\" alt=\"Open In Colab\"/></a>"
      ]
    },
    {
      "cell_type": "code",
      "metadata": {
        "colab": {
          "base_uri": "https://localhost:8080/"
        },
        "id": "4M_DCFHatD2O",
        "outputId": "efdb3082-0801-4695-c6b3-2103fc94ec84"
      },
      "source": [
        "import numpy as np # linear algebra\r\n",
        "import pandas as pd # data processing, CSV file I/O (e.g. pd.read_csv)\r\n",
        "import numpy as np\r\n",
        "import re\r\n",
        "import nltk\r\n",
        "from nltk.corpus import stopwords\r\n",
        "nltk.download('stopwords')\r\n",
        "nltk.download('punkt')\r\n",
        "from nltk.tokenize import word_tokenize\r\n",
        "import pandas as pd\r\n",
        "import tensorflow as tf\r\n",
        "from tensorflow.keras.layers import Dense, Input, GRU, Dropout\r\n",
        "from tensorflow.keras.optimizers import Adam\r\n",
        "from tensorflow.keras.models import Model\r\n",
        "from tensorflow.keras.callbacks import ModelCheckpoint\r\n",
        "import tensorflow_hub as hub\r\n",
        "import pickle\r\n",
        "from sklearn.metrics import f1_score\r\n",
        "from sklearn.metrics import accuracy_score\r\n",
        "from keras.utils.np_utils import to_categorical  \r\n",
        "import string\r\n",
        "import requests"
      ],
      "execution_count": 1,
      "outputs": [
        {
          "output_type": "stream",
          "text": [
            "[nltk_data] Downloading package stopwords to /root/nltk_data...\n",
            "[nltk_data]   Unzipping corpora/stopwords.zip.\n",
            "[nltk_data] Downloading package punkt to /root/nltk_data...\n",
            "[nltk_data]   Unzipping tokenizers/punkt.zip.\n"
          ],
          "name": "stdout"
        }
      ]
    },
    {
      "cell_type": "code",
      "metadata": {
        "colab": {
          "base_uri": "https://localhost:8080/"
        },
        "id": "yJv80z7Cy_NS",
        "outputId": "49d1eee4-de41-4ca6-a461-f1b2df5ea94c"
      },
      "source": [
        "!wget --quiet https://raw.githubusercontent.com/tensorflow/models/master/official/nlp/bert/tokenization.py\r\n",
        "!pip install sentencepiece\r\n",
        "import tokenization"
      ],
      "execution_count": 2,
      "outputs": [
        {
          "output_type": "stream",
          "text": [
            "Collecting sentencepiece\n",
            "\u001b[?25l  Downloading https://files.pythonhosted.org/packages/f5/99/e0808cb947ba10f575839c43e8fafc9cc44e4a7a2c8f79c60db48220a577/sentencepiece-0.1.95-cp37-cp37m-manylinux2014_x86_64.whl (1.2MB)\n",
            "\r\u001b[K     |▎                               | 10kB 25.1MB/s eta 0:00:01\r\u001b[K     |▌                               | 20kB 32.3MB/s eta 0:00:01\r\u001b[K     |▉                               | 30kB 22.0MB/s eta 0:00:01\r\u001b[K     |█                               | 40kB 25.6MB/s eta 0:00:01\r\u001b[K     |█▍                              | 51kB 27.7MB/s eta 0:00:01\r\u001b[K     |█▋                              | 61kB 30.2MB/s eta 0:00:01\r\u001b[K     |██                              | 71kB 20.1MB/s eta 0:00:01\r\u001b[K     |██▏                             | 81kB 21.4MB/s eta 0:00:01\r\u001b[K     |██▌                             | 92kB 20.2MB/s eta 0:00:01\r\u001b[K     |██▊                             | 102kB 20.4MB/s eta 0:00:01\r\u001b[K     |███                             | 112kB 20.4MB/s eta 0:00:01\r\u001b[K     |███▎                            | 122kB 20.4MB/s eta 0:00:01\r\u001b[K     |███▌                            | 133kB 20.4MB/s eta 0:00:01\r\u001b[K     |███▉                            | 143kB 20.4MB/s eta 0:00:01\r\u001b[K     |████                            | 153kB 20.4MB/s eta 0:00:01\r\u001b[K     |████▍                           | 163kB 20.4MB/s eta 0:00:01\r\u001b[K     |████▋                           | 174kB 20.4MB/s eta 0:00:01\r\u001b[K     |█████                           | 184kB 20.4MB/s eta 0:00:01\r\u001b[K     |█████▏                          | 194kB 20.4MB/s eta 0:00:01\r\u001b[K     |█████▌                          | 204kB 20.4MB/s eta 0:00:01\r\u001b[K     |█████▊                          | 215kB 20.4MB/s eta 0:00:01\r\u001b[K     |██████                          | 225kB 20.4MB/s eta 0:00:01\r\u001b[K     |██████▎                         | 235kB 20.4MB/s eta 0:00:01\r\u001b[K     |██████▌                         | 245kB 20.4MB/s eta 0:00:01\r\u001b[K     |██████▉                         | 256kB 20.4MB/s eta 0:00:01\r\u001b[K     |███████                         | 266kB 20.4MB/s eta 0:00:01\r\u001b[K     |███████▍                        | 276kB 20.4MB/s eta 0:00:01\r\u001b[K     |███████▋                        | 286kB 20.4MB/s eta 0:00:01\r\u001b[K     |████████                        | 296kB 20.4MB/s eta 0:00:01\r\u001b[K     |████████▏                       | 307kB 20.4MB/s eta 0:00:01\r\u001b[K     |████████▍                       | 317kB 20.4MB/s eta 0:00:01\r\u001b[K     |████████▊                       | 327kB 20.4MB/s eta 0:00:01\r\u001b[K     |█████████                       | 337kB 20.4MB/s eta 0:00:01\r\u001b[K     |█████████▎                      | 348kB 20.4MB/s eta 0:00:01\r\u001b[K     |█████████▌                      | 358kB 20.4MB/s eta 0:00:01\r\u001b[K     |█████████▉                      | 368kB 20.4MB/s eta 0:00:01\r\u001b[K     |██████████                      | 378kB 20.4MB/s eta 0:00:01\r\u001b[K     |██████████▍                     | 389kB 20.4MB/s eta 0:00:01\r\u001b[K     |██████████▋                     | 399kB 20.4MB/s eta 0:00:01\r\u001b[K     |███████████                     | 409kB 20.4MB/s eta 0:00:01\r\u001b[K     |███████████▏                    | 419kB 20.4MB/s eta 0:00:01\r\u001b[K     |███████████▍                    | 430kB 20.4MB/s eta 0:00:01\r\u001b[K     |███████████▊                    | 440kB 20.4MB/s eta 0:00:01\r\u001b[K     |████████████                    | 450kB 20.4MB/s eta 0:00:01\r\u001b[K     |████████████▎                   | 460kB 20.4MB/s eta 0:00:01\r\u001b[K     |████████████▌                   | 471kB 20.4MB/s eta 0:00:01\r\u001b[K     |████████████▉                   | 481kB 20.4MB/s eta 0:00:01\r\u001b[K     |█████████████                   | 491kB 20.4MB/s eta 0:00:01\r\u001b[K     |█████████████▍                  | 501kB 20.4MB/s eta 0:00:01\r\u001b[K     |█████████████▋                  | 512kB 20.4MB/s eta 0:00:01\r\u001b[K     |█████████████▉                  | 522kB 20.4MB/s eta 0:00:01\r\u001b[K     |██████████████▏                 | 532kB 20.4MB/s eta 0:00:01\r\u001b[K     |██████████████▍                 | 542kB 20.4MB/s eta 0:00:01\r\u001b[K     |██████████████▊                 | 552kB 20.4MB/s eta 0:00:01\r\u001b[K     |███████████████                 | 563kB 20.4MB/s eta 0:00:01\r\u001b[K     |███████████████▎                | 573kB 20.4MB/s eta 0:00:01\r\u001b[K     |███████████████▌                | 583kB 20.4MB/s eta 0:00:01\r\u001b[K     |███████████████▉                | 593kB 20.4MB/s eta 0:00:01\r\u001b[K     |████████████████                | 604kB 20.4MB/s eta 0:00:01\r\u001b[K     |████████████████▍               | 614kB 20.4MB/s eta 0:00:01\r\u001b[K     |████████████████▋               | 624kB 20.4MB/s eta 0:00:01\r\u001b[K     |████████████████▉               | 634kB 20.4MB/s eta 0:00:01\r\u001b[K     |█████████████████▏              | 645kB 20.4MB/s eta 0:00:01\r\u001b[K     |█████████████████▍              | 655kB 20.4MB/s eta 0:00:01\r\u001b[K     |█████████████████▊              | 665kB 20.4MB/s eta 0:00:01\r\u001b[K     |██████████████████              | 675kB 20.4MB/s eta 0:00:01\r\u001b[K     |██████████████████▎             | 686kB 20.4MB/s eta 0:00:01\r\u001b[K     |██████████████████▌             | 696kB 20.4MB/s eta 0:00:01\r\u001b[K     |██████████████████▉             | 706kB 20.4MB/s eta 0:00:01\r\u001b[K     |███████████████████             | 716kB 20.4MB/s eta 0:00:01\r\u001b[K     |███████████████████▎            | 727kB 20.4MB/s eta 0:00:01\r\u001b[K     |███████████████████▋            | 737kB 20.4MB/s eta 0:00:01\r\u001b[K     |███████████████████▉            | 747kB 20.4MB/s eta 0:00:01\r\u001b[K     |████████████████████▏           | 757kB 20.4MB/s eta 0:00:01\r\u001b[K     |████████████████████▍           | 768kB 20.4MB/s eta 0:00:01\r\u001b[K     |████████████████████▊           | 778kB 20.4MB/s eta 0:00:01\r\u001b[K     |█████████████████████           | 788kB 20.4MB/s eta 0:00:01\r\u001b[K     |█████████████████████▎          | 798kB 20.4MB/s eta 0:00:01\r\u001b[K     |█████████████████████▌          | 808kB 20.4MB/s eta 0:00:01\r\u001b[K     |█████████████████████▉          | 819kB 20.4MB/s eta 0:00:01\r\u001b[K     |██████████████████████          | 829kB 20.4MB/s eta 0:00:01\r\u001b[K     |██████████████████████▎         | 839kB 20.4MB/s eta 0:00:01\r\u001b[K     |██████████████████████▋         | 849kB 20.4MB/s eta 0:00:01\r\u001b[K     |██████████████████████▉         | 860kB 20.4MB/s eta 0:00:01\r\u001b[K     |███████████████████████▏        | 870kB 20.4MB/s eta 0:00:01\r\u001b[K     |███████████████████████▍        | 880kB 20.4MB/s eta 0:00:01\r\u001b[K     |███████████████████████▊        | 890kB 20.4MB/s eta 0:00:01\r\u001b[K     |████████████████████████        | 901kB 20.4MB/s eta 0:00:01\r\u001b[K     |████████████████████████▎       | 911kB 20.4MB/s eta 0:00:01\r\u001b[K     |████████████████████████▌       | 921kB 20.4MB/s eta 0:00:01\r\u001b[K     |████████████████████████▊       | 931kB 20.4MB/s eta 0:00:01\r\u001b[K     |█████████████████████████       | 942kB 20.4MB/s eta 0:00:01\r\u001b[K     |█████████████████████████▎      | 952kB 20.4MB/s eta 0:00:01\r\u001b[K     |█████████████████████████▋      | 962kB 20.4MB/s eta 0:00:01\r\u001b[K     |█████████████████████████▉      | 972kB 20.4MB/s eta 0:00:01\r\u001b[K     |██████████████████████████▏     | 983kB 20.4MB/s eta 0:00:01\r\u001b[K     |██████████████████████████▍     | 993kB 20.4MB/s eta 0:00:01\r\u001b[K     |██████████████████████████▊     | 1.0MB 20.4MB/s eta 0:00:01\r\u001b[K     |███████████████████████████     | 1.0MB 20.4MB/s eta 0:00:01\r\u001b[K     |███████████████████████████▎    | 1.0MB 20.4MB/s eta 0:00:01\r\u001b[K     |███████████████████████████▌    | 1.0MB 20.4MB/s eta 0:00:01\r\u001b[K     |███████████████████████████▊    | 1.0MB 20.4MB/s eta 0:00:01\r\u001b[K     |████████████████████████████    | 1.1MB 20.4MB/s eta 0:00:01\r\u001b[K     |████████████████████████████▎   | 1.1MB 20.4MB/s eta 0:00:01\r\u001b[K     |████████████████████████████▋   | 1.1MB 20.4MB/s eta 0:00:01\r\u001b[K     |████████████████████████████▉   | 1.1MB 20.4MB/s eta 0:00:01\r\u001b[K     |█████████████████████████████▏  | 1.1MB 20.4MB/s eta 0:00:01\r\u001b[K     |█████████████████████████████▍  | 1.1MB 20.4MB/s eta 0:00:01\r\u001b[K     |█████████████████████████████▊  | 1.1MB 20.4MB/s eta 0:00:01\r\u001b[K     |██████████████████████████████  | 1.1MB 20.4MB/s eta 0:00:01\r\u001b[K     |██████████████████████████████▏ | 1.1MB 20.4MB/s eta 0:00:01\r\u001b[K     |██████████████████████████████▌ | 1.1MB 20.4MB/s eta 0:00:01\r\u001b[K     |██████████████████████████████▊ | 1.2MB 20.4MB/s eta 0:00:01\r\u001b[K     |███████████████████████████████ | 1.2MB 20.4MB/s eta 0:00:01\r\u001b[K     |███████████████████████████████▎| 1.2MB 20.4MB/s eta 0:00:01\r\u001b[K     |███████████████████████████████▋| 1.2MB 20.4MB/s eta 0:00:01\r\u001b[K     |███████████████████████████████▉| 1.2MB 20.4MB/s eta 0:00:01\r\u001b[K     |████████████████████████████████| 1.2MB 20.4MB/s \n",
            "\u001b[?25hInstalling collected packages: sentencepiece\n",
            "Successfully installed sentencepiece-0.1.95\n"
          ],
          "name": "stdout"
        }
      ]
    },
    {
      "cell_type": "code",
      "metadata": {
        "id": "H7rzFmwHzA4x"
      },
      "source": [
        "def albert_encode(texts, tokenizer, max_len=512):\r\n",
        "    all_tokens = []\r\n",
        "    all_masks = []\r\n",
        "    all_segments = []\r\n",
        "    \r\n",
        "    for text in texts:\r\n",
        "        text = tokenizer.tokenize(text)\r\n",
        "            \r\n",
        "        text = text[:max_len-2]\r\n",
        "        input_sequence = [\"[CLS]\"] + text + [\"[SEP]\"]\r\n",
        "        pad_len = max_len - len(input_sequence)\r\n",
        "        \r\n",
        "        tokens = tokenizer.convert_tokens_to_ids(input_sequence)\r\n",
        "        tokens += [0] * pad_len\r\n",
        "        pad_masks = [1] * len(input_sequence) + [0] * pad_len\r\n",
        "        segment_ids = [0] * max_len\r\n",
        "        \r\n",
        "        all_tokens.append(tokens)\r\n",
        "        all_masks.append(pad_masks)\r\n",
        "        all_segments.append(segment_ids)\r\n",
        "    \r\n",
        "    return np.array(all_tokens), np.array(all_masks), np.array(all_segments)"
      ],
      "execution_count": 3,
      "outputs": []
    },
    {
      "cell_type": "code",
      "metadata": {
        "id": "tQ3_k6z9zD0h"
      },
      "source": [
        "def build_model(bert_layer, max_len=512):\r\n",
        "    input_word_ids = Input(shape=(max_len,), dtype=tf.int32, name=\"input_word_ids\")\r\n",
        "    input_mask = Input(shape=(max_len,), dtype=tf.int32, name=\"input_mask\")\r\n",
        "    segment_ids = Input(shape=(max_len,), dtype=tf.int32, name=\"segment_ids\")\r\n",
        "\r\n",
        "    pooled_output, sequence_output = bert_layer([input_word_ids, input_mask, segment_ids])\r\n",
        "    clf_output = pooled_output\r\n",
        "    out = Dense(100, activation='relu')(clf_output)\r\n",
        "    out = Dense(100, activation='relu')(out)\r\n",
        "    out = Dense(6, activation='softmax')(out)\r\n",
        "    \r\n",
        "    model = Model(inputs=[input_word_ids, input_mask, segment_ids], outputs=out)\r\n",
        "    model.compile(Adam(lr=2e-6), loss='binary_crossentropy', metrics=['accuracy'])\r\n",
        "    \r\n",
        "    return model"
      ],
      "execution_count": 4,
      "outputs": []
    },
    {
      "cell_type": "code",
      "metadata": {
        "colab": {
          "base_uri": "https://localhost:8080/"
        },
        "id": "F4nxIhlqzH0s",
        "outputId": "f133688f-78b8-4b36-884c-72d35f0d0f74"
      },
      "source": [
        "%%time\r\n",
        "module_url = \"https://tfhub.dev/tensorflow/albert_en_base/1\"\r\n",
        "albert_layer = hub.KerasLayer(module_url, trainable=True)"
      ],
      "execution_count": 5,
      "outputs": [
        {
          "output_type": "stream",
          "text": [
            "CPU times: user 3.61 s, sys: 573 ms, total: 4.18 s\n",
            "Wall time: 9.08 s\n"
          ],
          "name": "stdout"
        }
      ]
    },
    {
      "cell_type": "code",
      "metadata": {
        "id": "fJS8r5CLzLdA"
      },
      "source": [
        "with open('/content/vader_featured_sentences.pkl', 'rb') as f:\r\n",
        "    processed_data = pickle.load(f)\r\n",
        "with open('/content/arranged_processed_label.pkl', 'rb') as f:\r\n",
        "    processed_label = pickle.load(f)\r\n",
        "with open('/content/new_test_vader_features.pkl', 'rb') as f:\r\n",
        "    test_processed_data = pickle.load(f)\r\n",
        "with open('/content/new_test_vader_labels.pkl', 'rb') as f:\r\n",
        "    test_processed_label = pickle.load(f)"
      ],
      "execution_count": 52,
      "outputs": []
    },
    {
      "cell_type": "code",
      "metadata": {
        "id": "FZabaxRyzZ08"
      },
      "source": [
        "processed_data=np.asarray(processed_data)\r\n",
        "Y=to_categorical(processed_label, num_classes=6)"
      ],
      "execution_count": 8,
      "outputs": []
    },
    {
      "cell_type": "code",
      "metadata": {
        "id": "7-e-anzOzyh-"
      },
      "source": [
        "sp_model_file = albert_layer.resolved_object.sp_model_file.asset_path.numpy()\r\n",
        "tokenizer = tokenization.FullSentencePieceTokenizer(sp_model_file)"
      ],
      "execution_count": 9,
      "outputs": []
    },
    {
      "cell_type": "code",
      "metadata": {
        "id": "-ua_azJ5zewy"
      },
      "source": [
        "train_input = albert_encode(processed_data, tokenizer, max_len=160)\r\n",
        "train_labels = Y"
      ],
      "execution_count": 10,
      "outputs": []
    },
    {
      "cell_type": "code",
      "metadata": {
        "colab": {
          "base_uri": "https://localhost:8080/"
        },
        "id": "UfBwa_Yk1byd",
        "outputId": "8c1290ad-dbd4-4d54-a765-2c232173cf9e"
      },
      "source": [
        "model = build_model(albert_layer, max_len=160)\r\n",
        "model.summary()"
      ],
      "execution_count": 11,
      "outputs": [
        {
          "output_type": "stream",
          "text": [
            "Model: \"model\"\n",
            "__________________________________________________________________________________________________\n",
            "Layer (type)                    Output Shape         Param #     Connected to                     \n",
            "==================================================================================================\n",
            "input_word_ids (InputLayer)     [(None, 160)]        0                                            \n",
            "__________________________________________________________________________________________________\n",
            "input_mask (InputLayer)         [(None, 160)]        0                                            \n",
            "__________________________________________________________________________________________________\n",
            "segment_ids (InputLayer)        [(None, 160)]        0                                            \n",
            "__________________________________________________________________________________________________\n",
            "keras_layer (KerasLayer)        [(None, 768), (None, 11683584    input_word_ids[0][0]             \n",
            "                                                                 input_mask[0][0]                 \n",
            "                                                                 segment_ids[0][0]                \n",
            "__________________________________________________________________________________________________\n",
            "dense (Dense)                   (None, 100)          76900       keras_layer[0][0]                \n",
            "__________________________________________________________________________________________________\n",
            "dense_1 (Dense)                 (None, 100)          10100       dense[0][0]                      \n",
            "__________________________________________________________________________________________________\n",
            "dense_2 (Dense)                 (None, 6)            606         dense_1[0][0]                    \n",
            "==================================================================================================\n",
            "Total params: 11,771,190\n",
            "Trainable params: 11,771,190\n",
            "Non-trainable params: 0\n",
            "__________________________________________________________________________________________________\n"
          ],
          "name": "stdout"
        }
      ]
    },
    {
      "cell_type": "code",
      "metadata": {
        "colab": {
          "base_uri": "https://localhost:8080/"
        },
        "id": "XLORlbwY1gKZ",
        "outputId": "c191af53-5b1e-4894-ceb6-12b822b75022"
      },
      "source": [
        "train_history = model.fit(\r\n",
        "    train_input, train_labels,\r\n",
        "    epochs=6,\r\n",
        "    batch_size=1\r\n",
        ")"
      ],
      "execution_count": 12,
      "outputs": [
        {
          "output_type": "stream",
          "text": [
            "Epoch 1/6\n",
            "14097/14097 [==============================] - 670s 47ms/step - loss: 0.4365 - accuracy: 0.2961\n",
            "Epoch 2/6\n",
            "14097/14097 [==============================] - 658s 47ms/step - loss: 0.3466 - accuracy: 0.4998\n",
            "Epoch 3/6\n",
            "14097/14097 [==============================] - 661s 47ms/step - loss: 0.2582 - accuracy: 0.6696\n",
            "Epoch 4/6\n",
            "14097/14097 [==============================] - 663s 47ms/step - loss: 0.1910 - accuracy: 0.7802\n",
            "Epoch 5/6\n",
            "14097/14097 [==============================] - 663s 47ms/step - loss: 0.1427 - accuracy: 0.8485\n",
            "Epoch 6/6\n",
            "14097/14097 [==============================] - 662s 47ms/step - loss: 0.1165 - accuracy: 0.8788\n"
          ],
          "name": "stdout"
        }
      ]
    },
    {
      "cell_type": "code",
      "metadata": {
        "id": "d6U49EuPB64X"
      },
      "source": [
        "test_processed_data=np.asarray(test_processed_data)\r\n",
        "test_Y=to_categorical(test_processed_label, num_classes=6)"
      ],
      "execution_count": 53,
      "outputs": []
    },
    {
      "cell_type": "code",
      "metadata": {
        "id": "YRpCjEe_CIji"
      },
      "source": [
        "test_input = albert_encode(test_processed_data, tokenizer, max_len=160)\r\n",
        "test_labels = test_Y"
      ],
      "execution_count": 54,
      "outputs": []
    },
    {
      "cell_type": "code",
      "metadata": {
        "id": "7-AgrZ4TCN6C"
      },
      "source": [
        "y_pred=model.predict(test_input, batch_size=1)"
      ],
      "execution_count": 55,
      "outputs": []
    },
    {
      "cell_type": "code",
      "metadata": {
        "colab": {
          "base_uri": "https://localhost:8080/"
        },
        "id": "kEWc_W-jCPSZ",
        "outputId": "a98c520e-b830-4cce-93c1-efa6d94d0ba3"
      },
      "source": [
        "y_pred1=np.argmax(y_pred,axis=1)\r\n",
        "test_processed_label=np.asarray(test_processed_label)\r\n",
        "print(\"Accuracy : \" + str(accuracy_score(test_processed_label, y_pred1)))\r\n",
        "print(\"Weighted F1-score : \" + str(f1_score(test_processed_label, y_pred1, average='weighted')))"
      ],
      "execution_count": 56,
      "outputs": [
        {
          "output_type": "stream",
          "text": [
            "Accuracy : 0.6428571428571429\n",
            "Weighted F1-score : 0.6450342791947398\n"
          ],
          "name": "stdout"
        }
      ]
    }
  ]
}
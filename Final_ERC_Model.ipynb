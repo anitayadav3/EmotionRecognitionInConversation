{
  "nbformat": 4,
  "nbformat_minor": 0,
  "metadata": {
    "colab": {
      "name": "Final_ERC_Model.ipynb",
      "provenance": [],
      "authorship_tag": "ABX9TyMtDVYvlM+Pa7oGUXyBgPd3",
      "include_colab_link": true
    },
    "kernelspec": {
      "name": "python3",
      "display_name": "Python 3"
    },
    "accelerator": "GPU"
  },
  "cells": [
    {
      "cell_type": "markdown",
      "metadata": {
        "id": "view-in-github",
        "colab_type": "text"
      },
      "source": [
        "<a href=\"https://colab.research.google.com/github/anitayadav3/EmotionRecognitionInConversation/blob/master/Final_ERC_Model.ipynb\" target=\"_parent\"><img src=\"https://colab.research.google.com/assets/colab-badge.svg\" alt=\"Open In Colab\"/></a>"
      ]
    },
    {
      "cell_type": "code",
      "metadata": {
        "colab": {
          "base_uri": "https://localhost:8080/"
        },
        "id": "4M_DCFHatD2O",
        "outputId": "2bd4428e-acbe-48a2-d879-35f790e7af95"
      },
      "source": [
        "import numpy as np # linear algebra\r\n",
        "import pandas as pd # data processing, CSV file I/O (e.g. pd.read_csv)\r\n",
        "import numpy as np\r\n",
        "import re\r\n",
        "import nltk\r\n",
        "from nltk.corpus import stopwords\r\n",
        "nltk.download('stopwords')\r\n",
        "nltk.download('punkt')\r\n",
        "from nltk.tokenize import word_tokenize\r\n",
        "import pandas as pd\r\n",
        "import tensorflow as tf\r\n",
        "from tensorflow.keras.layers import Dense, Input, GRU, Dropout\r\n",
        "from tensorflow.keras.optimizers import Adam\r\n",
        "from tensorflow.keras.models import Model\r\n",
        "from tensorflow.keras.callbacks import ModelCheckpoint\r\n",
        "import tensorflow_hub as hub\r\n",
        "import pickle\r\n",
        "from sklearn.metrics import f1_score\r\n",
        "from sklearn.metrics import accuracy_score\r\n",
        "from keras.utils.np_utils import to_categorical  \r\n",
        "import string\r\n",
        "import requests"
      ],
      "execution_count": 2,
      "outputs": [
        {
          "output_type": "stream",
          "text": [
            "[nltk_data] Downloading package stopwords to /root/nltk_data...\n",
            "[nltk_data]   Package stopwords is already up-to-date!\n",
            "[nltk_data] Downloading package punkt to /root/nltk_data...\n",
            "[nltk_data]   Package punkt is already up-to-date!\n"
          ],
          "name": "stdout"
        }
      ]
    },
    {
      "cell_type": "code",
      "metadata": {
        "colab": {
          "base_uri": "https://localhost:8080/"
        },
        "id": "yJv80z7Cy_NS",
        "outputId": "0dd9e89a-fa22-4aed-a7ff-e330f49bead3"
      },
      "source": [
        "!wget --quiet https://raw.githubusercontent.com/tensorflow/models/master/official/nlp/bert/tokenization.py\r\n",
        "!pip install sentencepiece\r\n",
        "import tokenization"
      ],
      "execution_count": 2,
      "outputs": [
        {
          "output_type": "stream",
          "text": [
            "Collecting sentencepiece\n",
            "\u001b[?25l  Downloading https://files.pythonhosted.org/packages/f5/99/e0808cb947ba10f575839c43e8fafc9cc44e4a7a2c8f79c60db48220a577/sentencepiece-0.1.95-cp37-cp37m-manylinux2014_x86_64.whl (1.2MB)\n",
            "\u001b[K     |████████████████████████████████| 1.2MB 5.8MB/s \n",
            "\u001b[?25hInstalling collected packages: sentencepiece\n",
            "Successfully installed sentencepiece-0.1.95\n"
          ],
          "name": "stdout"
        }
      ]
    },
    {
      "cell_type": "code",
      "metadata": {
        "id": "H7rzFmwHzA4x"
      },
      "source": [
        "def albert_encode(texts, tokenizer, max_len=512):\r\n",
        "    all_tokens = []\r\n",
        "    all_masks = []\r\n",
        "    all_segments = []\r\n",
        "    \r\n",
        "    for text in texts:\r\n",
        "        text = tokenizer.tokenize(text)\r\n",
        "            \r\n",
        "        text = text[:max_len-2]\r\n",
        "        input_sequence = [\"[CLS]\"] + text + [\"[SEP]\"]\r\n",
        "        pad_len = max_len - len(input_sequence)\r\n",
        "        \r\n",
        "        tokens = tokenizer.convert_tokens_to_ids(input_sequence)\r\n",
        "        tokens += [0] * pad_len\r\n",
        "        pad_masks = [1] * len(input_sequence) + [0] * pad_len\r\n",
        "        segment_ids = [0] * max_len\r\n",
        "        \r\n",
        "        all_tokens.append(tokens)\r\n",
        "        all_masks.append(pad_masks)\r\n",
        "        all_segments.append(segment_ids)\r\n",
        "    \r\n",
        "    return np.array(all_tokens), np.array(all_masks), np.array(all_segments)"
      ],
      "execution_count": 3,
      "outputs": []
    },
    {
      "cell_type": "code",
      "metadata": {
        "id": "tQ3_k6z9zD0h"
      },
      "source": [
        "def build_model(bert_layer, max_len=512):\r\n",
        "    input_word_ids = Input(shape=(max_len,), dtype=tf.int32, name=\"input_word_ids\")\r\n",
        "    input_mask = Input(shape=(max_len,), dtype=tf.int32, name=\"input_mask\")\r\n",
        "    segment_ids = Input(shape=(max_len,), dtype=tf.int32, name=\"segment_ids\")\r\n",
        "\r\n",
        "    pooled_output, sequence_output = bert_layer([input_word_ids, input_mask, segment_ids])\r\n",
        "    clf_output = pooled_output\r\n",
        "    out = Dense(100, activation='relu')(clf_output)\r\n",
        "    out = Dense(100, activation='relu')(out)\r\n",
        "    out = Dense(6, activation='softmax')(out)\r\n",
        "    \r\n",
        "    model = Model(inputs=[input_word_ids, input_mask, segment_ids], outputs=out)\r\n",
        "    model.compile(Adam(lr=2e-6), loss='binary_crossentropy', metrics=['accuracy'])\r\n",
        "    \r\n",
        "    return model"
      ],
      "execution_count": 4,
      "outputs": []
    },
    {
      "cell_type": "code",
      "metadata": {
        "colab": {
          "base_uri": "https://localhost:8080/"
        },
        "id": "F4nxIhlqzH0s",
        "outputId": "69c0c728-cd40-4029-e061-d49672d9cd91"
      },
      "source": [
        "%%time\r\n",
        "module_url = \"https://tfhub.dev/tensorflow/albert_en_base/1\"\r\n",
        "albert_layer = hub.KerasLayer(module_url, trainable=True)"
      ],
      "execution_count": 5,
      "outputs": [
        {
          "output_type": "stream",
          "text": [
            "CPU times: user 5.09 s, sys: 669 ms, total: 5.76 s\n",
            "Wall time: 10.9 s\n"
          ],
          "name": "stdout"
        }
      ]
    },
    {
      "cell_type": "code",
      "metadata": {
        "id": "fJS8r5CLzLdA"
      },
      "source": [
        "with open('/content/vader_featured_sentences.pkl', 'rb') as f:\r\n",
        "    processed_data = pickle.load(f)\r\n",
        "with open('/content/arranged_processed_label.pkl', 'rb') as f:\r\n",
        "    processed_label = pickle.load(f)\r\n",
        "with open('/content/new_test_vader_features.pkl', 'rb') as f:\r\n",
        "    test_processed_data = pickle.load(f)\r\n",
        "with open('/content/new_test_vader_labels.pkl', 'rb') as f:\r\n",
        "    test_processed_label = pickle.load(f)"
      ],
      "execution_count": 6,
      "outputs": []
    },
    {
      "cell_type": "code",
      "metadata": {
        "id": "FZabaxRyzZ08"
      },
      "source": [
        "processed_data=np.asarray(processed_data)\r\n",
        "Y=to_categorical(processed_label, num_classes=6)"
      ],
      "execution_count": 7,
      "outputs": []
    },
    {
      "cell_type": "code",
      "metadata": {
        "id": "7-e-anzOzyh-"
      },
      "source": [
        "sp_model_file = albert_layer.resolved_object.sp_model_file.asset_path.numpy()\r\n",
        "tokenizer = tokenization.FullSentencePieceTokenizer(sp_model_file)"
      ],
      "execution_count": 8,
      "outputs": []
    },
    {
      "cell_type": "code",
      "metadata": {
        "id": "-ua_azJ5zewy"
      },
      "source": [
        "train_input = albert_encode(processed_data, tokenizer, max_len=160)\r\n",
        "train_labels = Y"
      ],
      "execution_count": 9,
      "outputs": []
    },
    {
      "cell_type": "code",
      "metadata": {
        "colab": {
          "base_uri": "https://localhost:8080/"
        },
        "id": "UfBwa_Yk1byd",
        "outputId": "4a9101e5-41ca-47bc-da89-68626e3e7642"
      },
      "source": [
        "model = build_model(albert_layer, max_len=160)\r\n",
        "model.summary()"
      ],
      "execution_count": 10,
      "outputs": [
        {
          "output_type": "stream",
          "text": [
            "Model: \"model\"\n",
            "__________________________________________________________________________________________________\n",
            "Layer (type)                    Output Shape         Param #     Connected to                     \n",
            "==================================================================================================\n",
            "input_word_ids (InputLayer)     [(None, 160)]        0                                            \n",
            "__________________________________________________________________________________________________\n",
            "input_mask (InputLayer)         [(None, 160)]        0                                            \n",
            "__________________________________________________________________________________________________\n",
            "segment_ids (InputLayer)        [(None, 160)]        0                                            \n",
            "__________________________________________________________________________________________________\n",
            "keras_layer (KerasLayer)        [(None, 768), (None, 11683584    input_word_ids[0][0]             \n",
            "                                                                 input_mask[0][0]                 \n",
            "                                                                 segment_ids[0][0]                \n",
            "__________________________________________________________________________________________________\n",
            "dense (Dense)                   (None, 100)          76900       keras_layer[0][0]                \n",
            "__________________________________________________________________________________________________\n",
            "dense_1 (Dense)                 (None, 100)          10100       dense[0][0]                      \n",
            "__________________________________________________________________________________________________\n",
            "dense_2 (Dense)                 (None, 6)            606         dense_1[0][0]                    \n",
            "==================================================================================================\n",
            "Total params: 11,771,190\n",
            "Trainable params: 11,771,190\n",
            "Non-trainable params: 0\n",
            "__________________________________________________________________________________________________\n"
          ],
          "name": "stdout"
        }
      ]
    },
    {
      "cell_type": "code",
      "metadata": {
        "colab": {
          "base_uri": "https://localhost:8080/"
        },
        "id": "XLORlbwY1gKZ",
        "outputId": "5face25b-f643-489e-dfea-9fe01f0c58de"
      },
      "source": [
        "train_history = model.fit(\r\n",
        "    train_input, train_labels,\r\n",
        "    epochs=6,\r\n",
        "    batch_size=1\r\n",
        ")"
      ],
      "execution_count": 11,
      "outputs": [
        {
          "output_type": "stream",
          "text": [
            "Epoch 1/6\n",
            "14097/14097 [==============================] - 526s 36ms/step - loss: 0.4336 - accuracy: 0.3021\n",
            "Epoch 2/6\n",
            "14097/14097 [==============================] - 510s 36ms/step - loss: 0.3221 - accuracy: 0.5597\n",
            "Epoch 3/6\n",
            "14097/14097 [==============================] - 509s 36ms/step - loss: 0.2501 - accuracy: 0.6918\n",
            "Epoch 4/6\n",
            "14097/14097 [==============================] - 510s 36ms/step - loss: 0.1924 - accuracy: 0.7749\n",
            "Epoch 5/6\n",
            "14097/14097 [==============================] - 510s 36ms/step - loss: 0.1434 - accuracy: 0.8459\n",
            "Epoch 6/6\n",
            "14097/14097 [==============================] - 510s 36ms/step - loss: 0.1187 - accuracy: 0.8701\n"
          ],
          "name": "stdout"
        }
      ]
    },
    {
      "cell_type": "code",
      "metadata": {
        "id": "d6U49EuPB64X"
      },
      "source": [
        "test_processed_data=np.asarray(test_processed_data)\r\n",
        "test_Y=to_categorical(test_processed_label, num_classes=6)"
      ],
      "execution_count": 12,
      "outputs": []
    },
    {
      "cell_type": "code",
      "metadata": {
        "id": "YRpCjEe_CIji"
      },
      "source": [
        "test_input = albert_encode(test_processed_data, tokenizer, max_len=160)\r\n",
        "test_labels = test_Y"
      ],
      "execution_count": 13,
      "outputs": []
    },
    {
      "cell_type": "code",
      "metadata": {
        "id": "7-AgrZ4TCN6C"
      },
      "source": [
        "y_pred=model.predict(test_input, batch_size=1)"
      ],
      "execution_count": 14,
      "outputs": []
    },
    {
      "cell_type": "code",
      "metadata": {
        "colab": {
          "base_uri": "https://localhost:8080/"
        },
        "id": "kEWc_W-jCPSZ",
        "outputId": "f6a40c77-9fb1-4607-a568-711168309d29"
      },
      "source": [
        "y_pred1=np.argmax(y_pred,axis=1)\r\n",
        "test_processed_label=np.asarray(test_processed_label)\r\n",
        "print(\"Accuracy : \" + str(accuracy_score(test_processed_label, y_pred1)))\r\n",
        "print(\"Weighted F1-score : \" + str(f1_score(test_processed_label, y_pred1, average='weighted')))"
      ],
      "execution_count": 15,
      "outputs": [
        {
          "output_type": "stream",
          "text": [
            "Accuracy : 0.6603295310519645\n",
            "Weighted F1-score : 0.6637769439089796\n"
          ],
          "name": "stdout"
        }
      ]
    }
  ]
}
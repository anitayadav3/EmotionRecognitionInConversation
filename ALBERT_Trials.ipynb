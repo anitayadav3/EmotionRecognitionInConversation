{
  "nbformat": 4,
  "nbformat_minor": 0,
  "metadata": {
    "colab": {
      "name": "ALBERT Trials.ipynb",
      "provenance": [],
      "authorship_tag": "ABX9TyOYwfpQ38tSgmPx3afM6k59",
      "include_colab_link": true
    },
    "kernelspec": {
      "name": "python3",
      "display_name": "Python 3"
    },
    "accelerator": "GPU"
  },
  "cells": [
    {
      "cell_type": "markdown",
      "metadata": {
        "id": "view-in-github",
        "colab_type": "text"
      },
      "source": [
        "<a href=\"https://colab.research.google.com/github/anitayadav3/EmotionRecognitionInConversation/blob/master/ALBERT_Trials.ipynb\" target=\"_parent\"><img src=\"https://colab.research.google.com/assets/colab-badge.svg\" alt=\"Open In Colab\"/></a>"
      ]
    },
    {
      "cell_type": "code",
      "metadata": {
        "colab": {
          "base_uri": "https://localhost:8080/"
        },
        "id": "0pWuBWHyI7N0",
        "outputId": "3c0d42cb-4dda-453a-c4a7-f25c266b6702"
      },
      "source": [
        "import numpy as np # linear algebra\r\n",
        "import pandas as pd # data processing, CSV file I/O (e.g. pd.read_csv)\r\n",
        "import numpy as np\r\n",
        "import re\r\n",
        "import nltk\r\n",
        "from nltk.corpus import stopwords\r\n",
        "nltk.download('stopwords')\r\n",
        "nltk.download('punkt')\r\n",
        "from nltk.tokenize import word_tokenize\r\n",
        "import pandas as pd\r\n",
        "import tensorflow as tf\r\n",
        "from tensorflow.keras.layers import Dense, Input, GRU, Dropout\r\n",
        "from tensorflow.keras.optimizers import Adam\r\n",
        "from tensorflow.keras.models import Model\r\n",
        "from tensorflow.keras.callbacks import ModelCheckpoint\r\n",
        "import tensorflow_hub as hub\r\n",
        "import pickle\r\n",
        "from sklearn.metrics import f1_score\r\n",
        "from sklearn.metrics import accuracy_score\r\n",
        "from keras.utils.np_utils import to_categorical  \r\n",
        "import string\r\n",
        "import requests"
      ],
      "execution_count": 1,
      "outputs": [
        {
          "output_type": "stream",
          "text": [
            "[nltk_data] Downloading package stopwords to /root/nltk_data...\n",
            "[nltk_data]   Unzipping corpora/stopwords.zip.\n",
            "[nltk_data] Downloading package punkt to /root/nltk_data...\n",
            "[nltk_data]   Unzipping tokenizers/punkt.zip.\n"
          ],
          "name": "stdout"
        }
      ]
    },
    {
      "cell_type": "code",
      "metadata": {
        "colab": {
          "base_uri": "https://localhost:8080/"
        },
        "id": "mdkNlMUkJOVz",
        "outputId": "46acea2e-8306-4f0c-e1ed-7c6a54bf5fd3"
      },
      "source": [
        "!wget --quiet https://raw.githubusercontent.com/tensorflow/models/master/official/nlp/bert/tokenization.py\r\n",
        "!pip install sentencepiece\r\n",
        "import tokenization"
      ],
      "execution_count": 2,
      "outputs": [
        {
          "output_type": "stream",
          "text": [
            "Collecting sentencepiece\n",
            "\u001b[?25l  Downloading https://files.pythonhosted.org/packages/f5/99/e0808cb947ba10f575839c43e8fafc9cc44e4a7a2c8f79c60db48220a577/sentencepiece-0.1.95-cp37-cp37m-manylinux2014_x86_64.whl (1.2MB)\n",
            "\r\u001b[K     |▎                               | 10kB 25.5MB/s eta 0:00:01\r\u001b[K     |▌                               | 20kB 30.6MB/s eta 0:00:01\r\u001b[K     |▉                               | 30kB 22.1MB/s eta 0:00:01\r\u001b[K     |█                               | 40kB 25.3MB/s eta 0:00:01\r\u001b[K     |█▍                              | 51kB 25.0MB/s eta 0:00:01\r\u001b[K     |█▋                              | 61kB 27.4MB/s eta 0:00:01\r\u001b[K     |██                              | 71kB 18.4MB/s eta 0:00:01\r\u001b[K     |██▏                             | 81kB 19.7MB/s eta 0:00:01\r\u001b[K     |██▌                             | 92kB 18.4MB/s eta 0:00:01\r\u001b[K     |██▊                             | 102kB 18.3MB/s eta 0:00:01\r\u001b[K     |███                             | 112kB 18.3MB/s eta 0:00:01\r\u001b[K     |███▎                            | 122kB 18.3MB/s eta 0:00:01\r\u001b[K     |███▌                            | 133kB 18.3MB/s eta 0:00:01\r\u001b[K     |███▉                            | 143kB 18.3MB/s eta 0:00:01\r\u001b[K     |████                            | 153kB 18.3MB/s eta 0:00:01\r\u001b[K     |████▍                           | 163kB 18.3MB/s eta 0:00:01\r\u001b[K     |████▋                           | 174kB 18.3MB/s eta 0:00:01\r\u001b[K     |█████                           | 184kB 18.3MB/s eta 0:00:01\r\u001b[K     |█████▏                          | 194kB 18.3MB/s eta 0:00:01\r\u001b[K     |█████▌                          | 204kB 18.3MB/s eta 0:00:01\r\u001b[K     |█████▊                          | 215kB 18.3MB/s eta 0:00:01\r\u001b[K     |██████                          | 225kB 18.3MB/s eta 0:00:01\r\u001b[K     |██████▎                         | 235kB 18.3MB/s eta 0:00:01\r\u001b[K     |██████▌                         | 245kB 18.3MB/s eta 0:00:01\r\u001b[K     |██████▉                         | 256kB 18.3MB/s eta 0:00:01\r\u001b[K     |███████                         | 266kB 18.3MB/s eta 0:00:01\r\u001b[K     |███████▍                        | 276kB 18.3MB/s eta 0:00:01\r\u001b[K     |███████▋                        | 286kB 18.3MB/s eta 0:00:01\r\u001b[K     |████████                        | 296kB 18.3MB/s eta 0:00:01\r\u001b[K     |████████▏                       | 307kB 18.3MB/s eta 0:00:01\r\u001b[K     |████████▍                       | 317kB 18.3MB/s eta 0:00:01\r\u001b[K     |████████▊                       | 327kB 18.3MB/s eta 0:00:01\r\u001b[K     |█████████                       | 337kB 18.3MB/s eta 0:00:01\r\u001b[K     |█████████▎                      | 348kB 18.3MB/s eta 0:00:01\r\u001b[K     |█████████▌                      | 358kB 18.3MB/s eta 0:00:01\r\u001b[K     |█████████▉                      | 368kB 18.3MB/s eta 0:00:01\r\u001b[K     |██████████                      | 378kB 18.3MB/s eta 0:00:01\r\u001b[K     |██████████▍                     | 389kB 18.3MB/s eta 0:00:01\r\u001b[K     |██████████▋                     | 399kB 18.3MB/s eta 0:00:01\r\u001b[K     |███████████                     | 409kB 18.3MB/s eta 0:00:01\r\u001b[K     |███████████▏                    | 419kB 18.3MB/s eta 0:00:01\r\u001b[K     |███████████▍                    | 430kB 18.3MB/s eta 0:00:01\r\u001b[K     |███████████▊                    | 440kB 18.3MB/s eta 0:00:01\r\u001b[K     |████████████                    | 450kB 18.3MB/s eta 0:00:01\r\u001b[K     |████████████▎                   | 460kB 18.3MB/s eta 0:00:01\r\u001b[K     |████████████▌                   | 471kB 18.3MB/s eta 0:00:01\r\u001b[K     |████████████▉                   | 481kB 18.3MB/s eta 0:00:01\r\u001b[K     |█████████████                   | 491kB 18.3MB/s eta 0:00:01\r\u001b[K     |█████████████▍                  | 501kB 18.3MB/s eta 0:00:01\r\u001b[K     |█████████████▋                  | 512kB 18.3MB/s eta 0:00:01\r\u001b[K     |█████████████▉                  | 522kB 18.3MB/s eta 0:00:01\r\u001b[K     |██████████████▏                 | 532kB 18.3MB/s eta 0:00:01\r\u001b[K     |██████████████▍                 | 542kB 18.3MB/s eta 0:00:01\r\u001b[K     |██████████████▊                 | 552kB 18.3MB/s eta 0:00:01\r\u001b[K     |███████████████                 | 563kB 18.3MB/s eta 0:00:01\r\u001b[K     |███████████████▎                | 573kB 18.3MB/s eta 0:00:01\r\u001b[K     |███████████████▌                | 583kB 18.3MB/s eta 0:00:01\r\u001b[K     |███████████████▉                | 593kB 18.3MB/s eta 0:00:01\r\u001b[K     |████████████████                | 604kB 18.3MB/s eta 0:00:01\r\u001b[K     |████████████████▍               | 614kB 18.3MB/s eta 0:00:01\r\u001b[K     |████████████████▋               | 624kB 18.3MB/s eta 0:00:01\r\u001b[K     |████████████████▉               | 634kB 18.3MB/s eta 0:00:01\r\u001b[K     |█████████████████▏              | 645kB 18.3MB/s eta 0:00:01\r\u001b[K     |█████████████████▍              | 655kB 18.3MB/s eta 0:00:01\r\u001b[K     |█████████████████▊              | 665kB 18.3MB/s eta 0:00:01\r\u001b[K     |██████████████████              | 675kB 18.3MB/s eta 0:00:01\r\u001b[K     |██████████████████▎             | 686kB 18.3MB/s eta 0:00:01\r\u001b[K     |██████████████████▌             | 696kB 18.3MB/s eta 0:00:01\r\u001b[K     |██████████████████▉             | 706kB 18.3MB/s eta 0:00:01\r\u001b[K     |███████████████████             | 716kB 18.3MB/s eta 0:00:01\r\u001b[K     |███████████████████▎            | 727kB 18.3MB/s eta 0:00:01\r\u001b[K     |███████████████████▋            | 737kB 18.3MB/s eta 0:00:01\r\u001b[K     |███████████████████▉            | 747kB 18.3MB/s eta 0:00:01\r\u001b[K     |████████████████████▏           | 757kB 18.3MB/s eta 0:00:01\r\u001b[K     |████████████████████▍           | 768kB 18.3MB/s eta 0:00:01\r\u001b[K     |████████████████████▊           | 778kB 18.3MB/s eta 0:00:01\r\u001b[K     |█████████████████████           | 788kB 18.3MB/s eta 0:00:01\r\u001b[K     |█████████████████████▎          | 798kB 18.3MB/s eta 0:00:01\r\u001b[K     |█████████████████████▌          | 808kB 18.3MB/s eta 0:00:01\r\u001b[K     |█████████████████████▉          | 819kB 18.3MB/s eta 0:00:01\r\u001b[K     |██████████████████████          | 829kB 18.3MB/s eta 0:00:01\r\u001b[K     |██████████████████████▎         | 839kB 18.3MB/s eta 0:00:01\r\u001b[K     |██████████████████████▋         | 849kB 18.3MB/s eta 0:00:01\r\u001b[K     |██████████████████████▉         | 860kB 18.3MB/s eta 0:00:01\r\u001b[K     |███████████████████████▏        | 870kB 18.3MB/s eta 0:00:01\r\u001b[K     |███████████████████████▍        | 880kB 18.3MB/s eta 0:00:01\r\u001b[K     |███████████████████████▊        | 890kB 18.3MB/s eta 0:00:01\r\u001b[K     |████████████████████████        | 901kB 18.3MB/s eta 0:00:01\r\u001b[K     |████████████████████████▎       | 911kB 18.3MB/s eta 0:00:01\r\u001b[K     |████████████████████████▌       | 921kB 18.3MB/s eta 0:00:01\r\u001b[K     |████████████████████████▊       | 931kB 18.3MB/s eta 0:00:01\r\u001b[K     |█████████████████████████       | 942kB 18.3MB/s eta 0:00:01\r\u001b[K     |█████████████████████████▎      | 952kB 18.3MB/s eta 0:00:01\r\u001b[K     |█████████████████████████▋      | 962kB 18.3MB/s eta 0:00:01\r\u001b[K     |█████████████████████████▉      | 972kB 18.3MB/s eta 0:00:01\r\u001b[K     |██████████████████████████▏     | 983kB 18.3MB/s eta 0:00:01\r\u001b[K     |██████████████████████████▍     | 993kB 18.3MB/s eta 0:00:01\r\u001b[K     |██████████████████████████▊     | 1.0MB 18.3MB/s eta 0:00:01\r\u001b[K     |███████████████████████████     | 1.0MB 18.3MB/s eta 0:00:01\r\u001b[K     |███████████████████████████▎    | 1.0MB 18.3MB/s eta 0:00:01\r\u001b[K     |███████████████████████████▌    | 1.0MB 18.3MB/s eta 0:00:01\r\u001b[K     |███████████████████████████▊    | 1.0MB 18.3MB/s eta 0:00:01\r\u001b[K     |████████████████████████████    | 1.1MB 18.3MB/s eta 0:00:01\r\u001b[K     |████████████████████████████▎   | 1.1MB 18.3MB/s eta 0:00:01\r\u001b[K     |████████████████████████████▋   | 1.1MB 18.3MB/s eta 0:00:01\r\u001b[K     |████████████████████████████▉   | 1.1MB 18.3MB/s eta 0:00:01\r\u001b[K     |█████████████████████████████▏  | 1.1MB 18.3MB/s eta 0:00:01\r\u001b[K     |█████████████████████████████▍  | 1.1MB 18.3MB/s eta 0:00:01\r\u001b[K     |█████████████████████████████▊  | 1.1MB 18.3MB/s eta 0:00:01\r\u001b[K     |██████████████████████████████  | 1.1MB 18.3MB/s eta 0:00:01\r\u001b[K     |██████████████████████████████▏ | 1.1MB 18.3MB/s eta 0:00:01\r\u001b[K     |██████████████████████████████▌ | 1.1MB 18.3MB/s eta 0:00:01\r\u001b[K     |██████████████████████████████▊ | 1.2MB 18.3MB/s eta 0:00:01\r\u001b[K     |███████████████████████████████ | 1.2MB 18.3MB/s eta 0:00:01\r\u001b[K     |███████████████████████████████▎| 1.2MB 18.3MB/s eta 0:00:01\r\u001b[K     |███████████████████████████████▋| 1.2MB 18.3MB/s eta 0:00:01\r\u001b[K     |███████████████████████████████▉| 1.2MB 18.3MB/s eta 0:00:01\r\u001b[K     |████████████████████████████████| 1.2MB 18.3MB/s \n",
            "\u001b[?25hInstalling collected packages: sentencepiece\n",
            "Successfully installed sentencepiece-0.1.95\n"
          ],
          "name": "stdout"
        }
      ]
    },
    {
      "cell_type": "code",
      "metadata": {
        "id": "rCFjmLhcJSgP"
      },
      "source": [
        "def albert_encode(texts, tokenizer, max_len=512):\r\n",
        "    all_tokens = []\r\n",
        "    all_masks = []\r\n",
        "    all_segments = []\r\n",
        "    \r\n",
        "    for text in texts:\r\n",
        "        text = tokenizer.tokenize(text)\r\n",
        "            \r\n",
        "        text = text[:max_len-2]\r\n",
        "        input_sequence = [\"[CLS]\"] + text + [\"[SEP]\"]\r\n",
        "        pad_len = max_len - len(input_sequence)\r\n",
        "        \r\n",
        "        tokens = tokenizer.convert_tokens_to_ids(input_sequence)\r\n",
        "        tokens += [0] * pad_len\r\n",
        "        pad_masks = [1] * len(input_sequence) + [0] * pad_len\r\n",
        "        segment_ids = [0] * max_len\r\n",
        "        \r\n",
        "        all_tokens.append(tokens)\r\n",
        "        all_masks.append(pad_masks)\r\n",
        "        all_segments.append(segment_ids)\r\n",
        "    \r\n",
        "    return np.array(all_tokens), np.array(all_masks), np.array(all_segments)"
      ],
      "execution_count": 3,
      "outputs": []
    },
    {
      "cell_type": "code",
      "metadata": {
        "id": "FAtEeN9UJT4h"
      },
      "source": [
        "def build_model(bert_layer, max_len=512):\r\n",
        "    input_word_ids = Input(shape=(max_len,), dtype=tf.int32, name=\"input_word_ids\")\r\n",
        "    input_mask = Input(shape=(max_len,), dtype=tf.int32, name=\"input_mask\")\r\n",
        "    segment_ids = Input(shape=(max_len,), dtype=tf.int32, name=\"segment_ids\")\r\n",
        "\r\n",
        "    pooled_output, sequence_output = bert_layer([input_word_ids, input_mask, segment_ids])\r\n",
        "    clf_output = pooled_output\r\n",
        "    out = clf_output\r\n",
        "    \r\n",
        "    model = Model(inputs=[input_word_ids, input_mask, segment_ids], outputs=out)\r\n",
        "    model.compile(Adam(lr=2e-6), loss='binary_crossentropy', metrics=['accuracy'])\r\n",
        "    \r\n",
        "    return model"
      ],
      "execution_count": 5,
      "outputs": []
    },
    {
      "cell_type": "code",
      "metadata": {
        "colab": {
          "base_uri": "https://localhost:8080/"
        },
        "id": "b6cz90dYJ1rx",
        "outputId": "9cb87e9b-2df2-4fda-f27e-c41c88165d19"
      },
      "source": [
        "%%time\r\n",
        "module_url = \"https://tfhub.dev/tensorflow/albert_en_base/1\"\r\n",
        "albert_layer = hub.KerasLayer(module_url, trainable=True)"
      ],
      "execution_count": 6,
      "outputs": [
        {
          "output_type": "stream",
          "text": [
            "CPU times: user 3.75 s, sys: 601 ms, total: 4.35 s\n",
            "Wall time: 9.29 s\n"
          ],
          "name": "stdout"
        }
      ]
    },
    {
      "cell_type": "code",
      "metadata": {
        "id": "p4iHI9fwOJTH"
      },
      "source": [
        "with open('/content/arranged_processed_data.pkl', 'rb') as f:\r\n",
        "  processed_data = pickle.load(f)\r\n",
        "with open('/content/arranged_processed_label.pkl', 'rb') as f:\r\n",
        "  processed_label = pickle.load(f)\r\n",
        "with open('/content/vader_encodings.pkl', 'rb') as f:\r\n",
        "  vader_encodings = pickle.load(f)\r\n",
        "vader_encodings=np.asarray(vader_encodings)"
      ],
      "execution_count": 21,
      "outputs": []
    },
    {
      "cell_type": "code",
      "metadata": {
        "id": "FSN6tHj2OkAI"
      },
      "source": [
        "processed_data=np.asarray(processed_data)\r\n",
        "Y=to_categorical(processed_label, num_classes=6)"
      ],
      "execution_count": 22,
      "outputs": []
    },
    {
      "cell_type": "code",
      "metadata": {
        "id": "lX5OxliIPmvM"
      },
      "source": [
        "sp_model_file = albert_layer.resolved_object.sp_model_file.asset_path.numpy()\r\n",
        "tokenizer = tokenization.FullSentencePieceTokenizer(sp_model_file)"
      ],
      "execution_count": 11,
      "outputs": []
    },
    {
      "cell_type": "code",
      "metadata": {
        "id": "aCzA4tkVPj9F"
      },
      "source": [
        "train_input = albert_encode(processed_data, tokenizer, max_len=160)\r\n",
        "train_labels = Y"
      ],
      "execution_count": 12,
      "outputs": []
    },
    {
      "cell_type": "code",
      "metadata": {
        "colab": {
          "base_uri": "https://localhost:8080/"
        },
        "id": "dswiMU75PtUU",
        "outputId": "6ee8112f-173d-4660-9a7f-456a9166aa0b"
      },
      "source": [
        "model = build_model(albert_layer, max_len=160)\r\n",
        "model.summary()"
      ],
      "execution_count": 13,
      "outputs": [
        {
          "output_type": "stream",
          "text": [
            "Model: \"model\"\n",
            "__________________________________________________________________________________________________\n",
            "Layer (type)                    Output Shape         Param #     Connected to                     \n",
            "==================================================================================================\n",
            "input_word_ids (InputLayer)     [(None, 160)]        0                                            \n",
            "__________________________________________________________________________________________________\n",
            "input_mask (InputLayer)         [(None, 160)]        0                                            \n",
            "__________________________________________________________________________________________________\n",
            "segment_ids (InputLayer)        [(None, 160)]        0                                            \n",
            "__________________________________________________________________________________________________\n",
            "keras_layer (KerasLayer)        [(None, 768), (None, 11683584    input_word_ids[0][0]             \n",
            "                                                                 input_mask[0][0]                 \n",
            "                                                                 segment_ids[0][0]                \n",
            "==================================================================================================\n",
            "Total params: 11,683,584\n",
            "Trainable params: 11,683,584\n",
            "Non-trainable params: 0\n",
            "__________________________________________________________________________________________________\n"
          ],
          "name": "stdout"
        }
      ]
    },
    {
      "cell_type": "code",
      "metadata": {
        "id": "6dxSFdm9Pvpl"
      },
      "source": [
        "y_pred=model.predict(train_input, batch_size=1)"
      ],
      "execution_count": 14,
      "outputs": []
    },
    {
      "cell_type": "code",
      "metadata": {
        "colab": {
          "base_uri": "https://localhost:8080/"
        },
        "id": "YOMZe3CBPzGU",
        "outputId": "ffb7e816-3908-4b68-bd99-bcbab6f60b3b"
      },
      "source": [
        "print(type(y_pred))"
      ],
      "execution_count": 16,
      "outputs": [
        {
          "output_type": "stream",
          "text": [
            "<class 'numpy.ndarray'>\n"
          ],
          "name": "stdout"
        }
      ]
    },
    {
      "cell_type": "code",
      "metadata": {
        "colab": {
          "base_uri": "https://localhost:8080/"
        },
        "id": "Jnv8OC4BSJDj",
        "outputId": "6fea5866-c246-4eec-b1c4-ce296b334db7"
      },
      "source": [
        "print(np.asarray(vader_encodings))"
      ],
      "execution_count": 18,
      "outputs": [
        {
          "output_type": "stream",
          "text": [
            "[[0.     0.625  0.375  0.8126]\n",
            " [0.     0.617  0.383  0.8271]\n",
            " [0.     0.833  0.167  0.4939]\n",
            " ...\n",
            " [0.     0.596  0.404  0.7262]\n",
            " [0.     1.     0.     0.    ]\n",
            " [0.     0.684  0.316  0.6825]]\n"
          ],
          "name": "stdout"
        }
      ]
    },
    {
      "cell_type": "code",
      "metadata": {
        "colab": {
          "base_uri": "https://localhost:8080/",
          "height": 262
        },
        "id": "dfNPJ0jNSXBr",
        "outputId": "a1b026b0-15dc-445a-a73c-2415478b8695"
      },
      "source": [
        "train_input=[]\r\n",
        "for i in range(0,len(vader_encodings)):\r\n",
        "  temp=np.concatenate(y_pred[i],vader_encodings[i])\r\n",
        "  train_input.append(temp)\r\n",
        "print(train_input)"
      ],
      "execution_count": 23,
      "outputs": [
        {
          "output_type": "error",
          "ename": "TypeError",
          "evalue": "ignored",
          "traceback": [
            "\u001b[0;31m---------------------------------------------------------------------------\u001b[0m",
            "\u001b[0;31mTypeError\u001b[0m                                 Traceback (most recent call last)",
            "\u001b[0;32m<ipython-input-23-46ebf5f2b092>\u001b[0m in \u001b[0;36m<module>\u001b[0;34m()\u001b[0m\n\u001b[1;32m      1\u001b[0m \u001b[0mtrain_input\u001b[0m\u001b[0;34m=\u001b[0m\u001b[0;34m[\u001b[0m\u001b[0;34m]\u001b[0m\u001b[0;34m\u001b[0m\u001b[0;34m\u001b[0m\u001b[0m\n\u001b[1;32m      2\u001b[0m \u001b[0;32mfor\u001b[0m \u001b[0mi\u001b[0m \u001b[0;32min\u001b[0m \u001b[0mrange\u001b[0m\u001b[0;34m(\u001b[0m\u001b[0;36m0\u001b[0m\u001b[0;34m,\u001b[0m\u001b[0mlen\u001b[0m\u001b[0;34m(\u001b[0m\u001b[0mvader_encodings\u001b[0m\u001b[0;34m)\u001b[0m\u001b[0;34m)\u001b[0m\u001b[0;34m:\u001b[0m\u001b[0;34m\u001b[0m\u001b[0;34m\u001b[0m\u001b[0m\n\u001b[0;32m----> 3\u001b[0;31m   \u001b[0mtemp\u001b[0m\u001b[0;34m=\u001b[0m\u001b[0mnp\u001b[0m\u001b[0;34m.\u001b[0m\u001b[0mconcatenate\u001b[0m\u001b[0;34m(\u001b[0m\u001b[0my_pred\u001b[0m\u001b[0;34m[\u001b[0m\u001b[0mi\u001b[0m\u001b[0;34m]\u001b[0m\u001b[0;34m,\u001b[0m\u001b[0mvader_encodings\u001b[0m\u001b[0;34m[\u001b[0m\u001b[0mi\u001b[0m\u001b[0;34m]\u001b[0m\u001b[0;34m)\u001b[0m\u001b[0;34m\u001b[0m\u001b[0;34m\u001b[0m\u001b[0m\n\u001b[0m\u001b[1;32m      4\u001b[0m   \u001b[0mtrain_input\u001b[0m\u001b[0;34m.\u001b[0m\u001b[0mappend\u001b[0m\u001b[0;34m(\u001b[0m\u001b[0mtemp\u001b[0m\u001b[0;34m)\u001b[0m\u001b[0;34m\u001b[0m\u001b[0;34m\u001b[0m\u001b[0m\n\u001b[1;32m      5\u001b[0m \u001b[0mprint\u001b[0m\u001b[0;34m(\u001b[0m\u001b[0mtrain_input\u001b[0m\u001b[0;34m)\u001b[0m\u001b[0;34m\u001b[0m\u001b[0;34m\u001b[0m\u001b[0m\n",
            "\u001b[0;32m<__array_function__ internals>\u001b[0m in \u001b[0;36mconcatenate\u001b[0;34m(*args, **kwargs)\u001b[0m\n",
            "\u001b[0;31mTypeError\u001b[0m: only integer scalar arrays can be converted to a scalar index"
          ]
        }
      ]
    }
  ]
}
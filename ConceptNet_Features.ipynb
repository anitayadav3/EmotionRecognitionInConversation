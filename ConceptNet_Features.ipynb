{
  "nbformat": 4,
  "nbformat_minor": 0,
  "metadata": {
    "colab": {
      "name": "ConceptNet_Features.ipynb",
      "provenance": [],
      "collapsed_sections": [],
      "authorship_tag": "ABX9TyPLP3ldOwjINiczc0PWBfUb",
      "include_colab_link": true
    },
    "kernelspec": {
      "name": "python3",
      "display_name": "Python 3"
    },
    "accelerator": "GPU"
  },
  "cells": [
    {
      "cell_type": "markdown",
      "metadata": {
        "id": "view-in-github",
        "colab_type": "text"
      },
      "source": [
        "<a href=\"https://colab.research.google.com/github/anitayadav3/EmotionRecognitionInConversation/blob/master/ConceptNet_Features.ipynb\" target=\"_parent\"><img src=\"https://colab.research.google.com/assets/colab-badge.svg\" alt=\"Open In Colab\"/></a>"
      ]
    },
    {
      "cell_type": "code",
      "metadata": {
        "colab": {
          "base_uri": "https://localhost:8080/"
        },
        "id": "AeBNy2OjIs0j",
        "outputId": "ebf4787c-946d-48d5-bade-bf6904a92c7a"
      },
      "source": [
        "import pickle\r\n",
        "import string\r\n",
        "import nltk\r\n",
        "from nltk.corpus import stopwords\r\n",
        "nltk.download('punkt')\r\n",
        "nltk.download('stopwords')\r\n",
        "import requests\r\n",
        "import re"
      ],
      "execution_count": 2,
      "outputs": [
        {
          "output_type": "stream",
          "text": [
            "[nltk_data] Downloading package punkt to /root/nltk_data...\n",
            "[nltk_data]   Unzipping tokenizers/punkt.zip.\n",
            "[nltk_data] Downloading package stopwords to /root/nltk_data...\n",
            "[nltk_data]   Unzipping corpora/stopwords.zip.\n"
          ],
          "name": "stdout"
        }
      ]
    },
    {
      "cell_type": "code",
      "metadata": {
        "colab": {
          "base_uri": "https://localhost:8080/"
        },
        "id": "ijlG0K3eIRuP",
        "outputId": "83967346-9cfc-48ce-e6f4-a39a1b62f11d"
      },
      "source": [
        "from google.colab import drive\r\n",
        "drive.mount('/content/gdrive')"
      ],
      "execution_count": 1,
      "outputs": [
        {
          "output_type": "stream",
          "text": [
            "Mounted at /content/gdrive\n"
          ],
          "name": "stdout"
        }
      ]
    },
    {
      "cell_type": "code",
      "metadata": {
        "id": "81u94u6dInNg"
      },
      "source": [
        "with open('/content/gdrive/My Drive/iemocap/train/sentences.pkl', 'rb') as f:\r\n",
        "    data = pickle.load(f)\r\n",
        "with open('/content/gdrive/My Drive/iemocap/train/labels.pkl', 'rb') as f:\r\n",
        "    labels = pickle.load(f)\r\n",
        "with open('/content/gdrive/My Drive/iemocap/test/sentences.pkl', 'rb') as f:\r\n",
        "    test_data = pickle.load(f)\r\n",
        "with open('/content/gdrive/My Drive/iemocap/test/labels.pkl', 'rb') as f:\r\n",
        "    test_labels = pickle.load(f)"
      ],
      "execution_count": 3,
      "outputs": []
    },
    {
      "cell_type": "code",
      "metadata": {
        "id": "S0Bh6jNmIyUl"
      },
      "source": [
        "def preprocessing(data,labels):\r\n",
        "  processed_data=[]\r\n",
        "  processed_label=[]\r\n",
        "  for i in range(0,len(data)):\r\n",
        "    for j in range(0,len(data[i])):\r\n",
        "      intermediate_data=[]\r\n",
        "      intermediate_label=[]\r\n",
        "      for k in range(0,len(data[i][j])):\r\n",
        "        text=data[i][j][k]\r\n",
        "        if text != '<eos>'and text!='<pad>':\r\n",
        "          intermediate_data.append(text)\r\n",
        "      processed_data.append(intermediate_data)\r\n",
        "  for i in labels:\r\n",
        "    for j in i:\r\n",
        "      processed_label.append(j)\r\n",
        "  return processed_data,processed_label"
      ],
      "execution_count": 6,
      "outputs": []
    },
    {
      "cell_type": "code",
      "metadata": {
        "id": "-yco_VAfIzgu"
      },
      "source": [
        "processed_data,processed_label = preprocessing(data,labels)\r\n",
        "test_processed_data,test_processed_label = preprocessing(test_data,test_labels)"
      ],
      "execution_count": 7,
      "outputs": []
    },
    {
      "cell_type": "code",
      "metadata": {
        "id": "fa8KcKu8I4rk"
      },
      "source": [
        "for i in range(0,len(processed_data)):\r\n",
        "  processed_data[i]= ' '.join(processed_data[i])\r\n",
        "for i in range(0,len(test_processed_data)):\r\n",
        "  test_processed_data[i]=' '.join(test_processed_data[i])"
      ],
      "execution_count": 8,
      "outputs": []
    },
    {
      "cell_type": "code",
      "metadata": {
        "id": "exvA2kPO6LhP"
      },
      "source": [
        "with open('processed_data.pkl', 'wb') as f:\r\n",
        "  pickle.dump(processed_data, f)\r\n",
        "with open('test_processed_data.pkl', 'wb') as f:\r\n",
        "  pickle.dump(test_processed_data, f)\r\n"
      ],
      "execution_count": 9,
      "outputs": []
    },
    {
      "cell_type": "code",
      "metadata": {
        "id": "tiqTMDXU6pqO"
      },
      "source": [
        "with open('processed_data.pkl', 'rb') as f:\r\n",
        "  new_data= pickle.load(f)"
      ],
      "execution_count": 10,
      "outputs": []
    },
    {
      "cell_type": "code",
      "metadata": {
        "id": "D0KuorJkKute"
      },
      "source": [
        "conceptnet_data=[]\r\n",
        "temp=processed_data[0]\r\n",
        "vars=temp.translate(str.maketrans('', '', string.punctuation))\r\n",
        "tokens=nltk.word_tokenize(vars)\r\n",
        "for i in tokens:\r\n",
        "  obj = requests.get('http://api.conceptnet.io/related/c/en/' + i + '?filter=/c/en').json()\r\n",
        "  for j in range(1,3):\r\n",
        "    var=obj['related'][j]['@id']\r\n",
        "    ans=re.sub(r'[^\\w]', ' ', var)\r\n",
        "    ans=ans[6:]\r\n",
        "    conceptnet_data.append(ans)\r\n",
        "for i in conceptnet_data:\r\n",
        "  processed_data[0]=processed_data[0]+\" \"+str(i)"
      ],
      "execution_count": null,
      "outputs": []
    },
    {
      "cell_type": "code",
      "metadata": {
        "id": "4wvFks37Wjdk"
      },
      "source": [
        "new_process=[]\r\n",
        "for i in range(0,2):\r\n",
        "  new_process.append(processed_data[i])"
      ],
      "execution_count": null,
      "outputs": []
    },
    {
      "cell_type": "code",
      "metadata": {
        "id": "9-LsNkYoGLCe"
      },
      "source": [
        "def ConceptNet_Sentences(data,labels):\r\n",
        "  for sentences in range(0,len(data)):\r\n",
        "    conceptnet_data=[]\r\n",
        "    cleaned_sentences=data[sentences].translate(str.maketrans('', '', string.punctuation))\r\n",
        "    tokens_with_sw=nltk.word_tokenize(cleaned_sentences)\r\n",
        "    tokens= [word for word in tokens_with_sw if not word in stopwords.words()]\r\n",
        "    for i in tokens:\r\n",
        "      obj = requests.get('http://api.conceptnet.io/related/c/en/' + i + '?filter=/c/en').json()"
      ],
      "execution_count": null,
      "outputs": []
    },
    {
      "cell_type": "code",
      "metadata": {
        "id": "YxW80LhUKal5"
      },
      "source": [
        "def add_ConceptNet_Features(data):\r\n",
        "  print(len(data))\r\n",
        "  for sentences in range(0,len(data)):\r\n",
        "    conceptnet_data=[]\r\n",
        "    cleaned_sentences=data[sentences].translate(str.maketrans('', '', string.punctuation))\r\n",
        "    tokens_with_sw=nltk.word_tokenize(cleaned_sentences)\r\n",
        "    tokens= [word for word in tokens_with_sw if not word in stopwords.words()]\r\n",
        "    for i in tokens:\r\n",
        "      obj = requests.get('http://api.conceptnet.io/related/c/en/' + i + '?filter=/c/en').json()\r\n",
        "      for j in range(1,3):\r\n",
        "        response=obj['related'][j]['@id']\r\n",
        "        response=re.sub(r'[^\\w]', ' ', response)\r\n",
        "        response=response[6:]\r\n",
        "        conceptnet_data.append(response)\r\n",
        "    for i in conceptnet_data:\r\n",
        "      print(data[sentences])\r\n",
        "      print(str(i))\r\n",
        "      data[sentences]=data[sentences]+\" \"+str(i)\r\n",
        "  return data"
      ],
      "execution_count": null,
      "outputs": []
    },
    {
      "cell_type": "code",
      "metadata": {
        "colab": {
          "base_uri": "https://localhost:8080/"
        },
        "id": "mQ5xVDXQVoZI",
        "outputId": "a8eebb3a-8db7-4585-8e90-9e1737b29850"
      },
      "source": [
        "new_data = add_ConceptNet_Features(new_process)"
      ],
      "execution_count": null,
      "outputs": [
        {
          "output_type": "stream",
          "text": [
            "2\n",
            "thank you for calling sprint . we care about everybody . how can i help you ? thanked thank_you y_all you ve forthe herefor calls call sprints sprinting we re we ve careth cared aboutness regarding tout_le_monde everyone quomodo how re could cannot me you d helps lend_hand y_all you ve\n",
            "thanked\n",
            "thank you for calling sprint . we care about everybody . how can i help you ? thanked thank_you y_all you ve forthe herefor calls call sprints sprinting we re we ve careth cared aboutness regarding tout_le_monde everyone quomodo how re could cannot me you d helps lend_hand y_all you ve thanked\n",
            "thank_you\n",
            "thank you for calling sprint . we care about everybody . how can i help you ? thanked thank_you y_all you ve forthe herefor calls call sprints sprinting we re we ve careth cared aboutness regarding tout_le_monde everyone quomodo how re could cannot me you d helps lend_hand y_all you ve thanked thank_you\n",
            "calls\n",
            "thank you for calling sprint . we care about everybody . how can i help you ? thanked thank_you y_all you ve forthe herefor calls call sprints sprinting we re we ve careth cared aboutness regarding tout_le_monde everyone quomodo how re could cannot me you d helps lend_hand y_all you ve thanked thank_you calls\n",
            "call\n",
            "thank you for calling sprint . we care about everybody . how can i help you ? thanked thank_you y_all you ve forthe herefor calls call sprints sprinting we re we ve careth cared aboutness regarding tout_le_monde everyone quomodo how re could cannot me you d helps lend_hand y_all you ve thanked thank_you calls call\n",
            "sprints\n",
            "thank you for calling sprint . we care about everybody . how can i help you ? thanked thank_you y_all you ve forthe herefor calls call sprints sprinting we re we ve careth cared aboutness regarding tout_le_monde everyone quomodo how re could cannot me you d helps lend_hand y_all you ve thanked thank_you calls call sprints\n",
            "sprinting\n",
            "thank you for calling sprint . we care about everybody . how can i help you ? thanked thank_you y_all you ve forthe herefor calls call sprints sprinting we re we ve careth cared aboutness regarding tout_le_monde everyone quomodo how re could cannot me you d helps lend_hand y_all you ve thanked thank_you calls call sprints sprinting\n",
            "tout_le_monde\n",
            "thank you for calling sprint . we care about everybody . how can i help you ? thanked thank_you y_all you ve forthe herefor calls call sprints sprinting we re we ve careth cared aboutness regarding tout_le_monde everyone quomodo how re could cannot me you d helps lend_hand y_all you ve thanked thank_you calls call sprints sprinting tout_le_monde\n",
            "everyone\n",
            "thank you for calling sprint . we care about everybody . how can i help you ? thanked thank_you y_all you ve forthe herefor calls call sprints sprinting we re we ve careth cared aboutness regarding tout_le_monde everyone quomodo how re could cannot me you d helps lend_hand y_all you ve thanked thank_you calls call sprints sprinting tout_le_monde everyone\n",
            "helps\n",
            "thank you for calling sprint . we care about everybody . how can i help you ? thanked thank_you y_all you ve forthe herefor calls call sprints sprinting we re we ve careth cared aboutness regarding tout_le_monde everyone quomodo how re could cannot me you d helps lend_hand y_all you ve thanked thank_you calls call sprints sprinting tout_le_monde everyone helps\n",
            "lend_hand\n",
            "thank you for calling sprint . we care about everybody . how can i help you ? thanked thank_you y_all you ve forthe herefor calls call sprints sprinting we re we ve careth cared aboutness regarding tout_le_monde everyone quomodo how re could cannot me you d helps lend_hand y_all you ve thanked thank_you calls call sprints sprinting tout_le_monde everyone helps lend_hand\n",
            "thank\n",
            "thank you for calling sprint . we care about everybody . how can i help you ? thanked thank_you y_all you ve forthe herefor calls call sprints sprinting we re we ve careth cared aboutness regarding tout_le_monde everyone quomodo how re could cannot me you d helps lend_hand y_all you ve thanked thank_you calls call sprints sprinting tout_le_monde everyone helps lend_hand thank\n",
            "thanking\n",
            "thank you for calling sprint . we care about everybody . how can i help you ? thanked thank_you y_all you ve forthe herefor calls call sprints sprinting we re we ve careth cared aboutness regarding tout_le_monde everyone quomodo how re could cannot me you d helps lend_hand y_all you ve thanked thank_you calls call sprints sprinting tout_le_monde everyone helps lend_hand thank thanking\n",
            "thank_you\n",
            "thank you for calling sprint . we care about everybody . how can i help you ? thanked thank_you y_all you ve forthe herefor calls call sprints sprinting we re we ve careth cared aboutness regarding tout_le_monde everyone quomodo how re could cannot me you d helps lend_hand y_all you ve thanked thank_you calls call sprints sprinting tout_le_monde everyone helps lend_hand thank thanking thank_you\n",
            "thank\n",
            "thank you for calling sprint . we care about everybody . how can i help you ? thanked thank_you y_all you ve forthe herefor calls call sprints sprinting we re we ve careth cared aboutness regarding tout_le_monde everyone quomodo how re could cannot me you d helps lend_hand y_all you ve thanked thank_you calls call sprints sprinting tout_le_monde everyone helps lend_hand thank thanking thank_you thank\n",
            "aight\n",
            "thank you for calling sprint . we care about everybody . how can i help you ? thanked thank_you y_all you ve forthe herefor calls call sprints sprinting we re we ve careth cared aboutness regarding tout_le_monde everyone quomodo how re could cannot me you d helps lend_hand y_all you ve thanked thank_you calls call sprints sprinting tout_le_monde everyone helps lend_hand thank thanking thank_you thank aight\n",
            "niggas\n",
            "thank you for calling sprint . we care about everybody . how can i help you ? thanked thank_you y_all you ve forthe herefor calls call sprints sprinting we re we ve careth cared aboutness regarding tout_le_monde everyone quomodo how re could cannot me you d helps lend_hand y_all you ve thanked thank_you calls call sprints sprinting tout_le_monde everyone helps lend_hand thank thanking thank_you thank aight niggas\n",
            "for\n",
            "thank you for calling sprint . we care about everybody . how can i help you ? thanked thank_you y_all you ve forthe herefor calls call sprints sprinting we re we ve careth cared aboutness regarding tout_le_monde everyone quomodo how re could cannot me you d helps lend_hand y_all you ve thanked thank_you calls call sprints sprinting tout_le_monde everyone helps lend_hand thank thanking thank_you thank aight niggas for\n",
            "forthis\n",
            "thank you for calling sprint . we care about everybody . how can i help you ? thanked thank_you y_all you ve forthe herefor calls call sprints sprinting we re we ve careth cared aboutness regarding tout_le_monde everyone quomodo how re could cannot me you d helps lend_hand y_all you ve thanked thank_you calls call sprints sprinting tout_le_monde everyone helps lend_hand thank thanking thank_you thank aight niggas for forthis\n",
            "here\n",
            "thank you for calling sprint . we care about everybody . how can i help you ? thanked thank_you y_all you ve forthe herefor calls call sprints sprinting we re we ve careth cared aboutness regarding tout_le_monde everyone quomodo how re could cannot me you d helps lend_hand y_all you ve thanked thank_you calls call sprints sprinting tout_le_monde everyone helps lend_hand thank thanking thank_you thank aight niggas for forthis here\n",
            "for\n",
            "thank you for calling sprint . we care about everybody . how can i help you ? thanked thank_you y_all you ve forthe herefor calls call sprints sprinting we re we ve careth cared aboutness regarding tout_le_monde everyone quomodo how re could cannot me you d helps lend_hand y_all you ve thanked thank_you calls call sprints sprinting tout_le_monde everyone helps lend_hand thank thanking thank_you thank aight niggas for forthis here for\n",
            "call\n",
            "thank you for calling sprint . we care about everybody . how can i help you ? thanked thank_you y_all you ve forthe herefor calls call sprints sprinting we re we ve careth cared aboutness regarding tout_le_monde everyone quomodo how re could cannot me you d helps lend_hand y_all you ve thanked thank_you calls call sprints sprinting tout_le_monde everyone helps lend_hand thank thanking thank_you thank aight niggas for forthis here for call\n",
            "callest\n",
            "thank you for calling sprint . we care about everybody . how can i help you ? thanked thank_you y_all you ve forthe herefor calls call sprints sprinting we re we ve careth cared aboutness regarding tout_le_monde everyone quomodo how re could cannot me you d helps lend_hand y_all you ve thanked thank_you calls call sprints sprinting tout_le_monde everyone helps lend_hand thank thanking thank_you thank aight niggas for forthis here for call callest\n",
            "calls\n",
            "thank you for calling sprint . we care about everybody . how can i help you ? thanked thank_you y_all you ve forthe herefor calls call sprints sprinting we re we ve careth cared aboutness regarding tout_le_monde everyone quomodo how re could cannot me you d helps lend_hand y_all you ve thanked thank_you calls call sprints sprinting tout_le_monde everyone helps lend_hand thank thanking thank_you thank aight niggas for forthis here for call callest calls\n",
            "callest\n",
            "thank you for calling sprint . we care about everybody . how can i help you ? thanked thank_you y_all you ve forthe herefor calls call sprints sprinting we re we ve careth cared aboutness regarding tout_le_monde everyone quomodo how re could cannot me you d helps lend_hand y_all you ve thanked thank_you calls call sprints sprinting tout_le_monde everyone helps lend_hand thank thanking thank_you thank aight niggas for forthis here for call callest calls callest\n",
            "sprint\n",
            "thank you for calling sprint . we care about everybody . how can i help you ? thanked thank_you y_all you ve forthe herefor calls call sprints sprinting we re we ve careth cared aboutness regarding tout_le_monde everyone quomodo how re could cannot me you d helps lend_hand y_all you ve thanked thank_you calls call sprints sprinting tout_le_monde everyone helps lend_hand thank thanking thank_you thank aight niggas for forthis here for call callest calls callest sprint\n",
            "sprinting\n",
            "thank you for calling sprint . we care about everybody . how can i help you ? thanked thank_you y_all you ve forthe herefor calls call sprints sprinting we re we ve careth cared aboutness regarding tout_le_monde everyone quomodo how re could cannot me you d helps lend_hand y_all you ve thanked thank_you calls call sprints sprinting tout_le_monde everyone helps lend_hand thank thanking thank_you thank aight niggas for forthis here for call callest calls callest sprint sprinting\n",
            "sprints\n",
            "thank you for calling sprint . we care about everybody . how can i help you ? thanked thank_you y_all you ve forthe herefor calls call sprints sprinting we re we ve careth cared aboutness regarding tout_le_monde everyone quomodo how re could cannot me you d helps lend_hand y_all you ve thanked thank_you calls call sprints sprinting tout_le_monde everyone helps lend_hand thank thanking thank_you thank aight niggas for forthis here for call callest calls callest sprint sprinting sprints\n",
            "sprint\n",
            "thank you for calling sprint . we care about everybody . how can i help you ? thanked thank_you y_all you ve forthe herefor calls call sprints sprinting we re we ve careth cared aboutness regarding tout_le_monde everyone quomodo how re could cannot me you d helps lend_hand y_all you ve thanked thank_you calls call sprints sprinting tout_le_monde everyone helps lend_hand thank thanking thank_you thank aight niggas for forthis here for call callest calls callest sprint sprinting sprints sprint\n",
            "care\n",
            "thank you for calling sprint . we care about everybody . how can i help you ? thanked thank_you y_all you ve forthe herefor calls call sprints sprinting we re we ve careth cared aboutness regarding tout_le_monde everyone quomodo how re could cannot me you d helps lend_hand y_all you ve thanked thank_you calls call sprints sprinting tout_le_monde everyone helps lend_hand thank thanking thank_you thank aight niggas for forthis here for call callest calls callest sprint sprinting sprints sprint care\n",
            "cares\n",
            "thank you for calling sprint . we care about everybody . how can i help you ? thanked thank_you y_all you ve forthe herefor calls call sprints sprinting we re we ve careth cared aboutness regarding tout_le_monde everyone quomodo how re could cannot me you d helps lend_hand y_all you ve thanked thank_you calls call sprints sprinting tout_le_monde everyone helps lend_hand thank thanking thank_you thank aight niggas for forthis here for call callest calls callest sprint sprinting sprints sprint care cares\n",
            "care\n",
            "thank you for calling sprint . we care about everybody . how can i help you ? thanked thank_you y_all you ve forthe herefor calls call sprints sprinting we re we ve careth cared aboutness regarding tout_le_monde everyone quomodo how re could cannot me you d helps lend_hand y_all you ve thanked thank_you calls call sprints sprinting tout_le_monde everyone helps lend_hand thank thanking thank_you thank aight niggas for forthis here for call callest calls callest sprint sprinting sprints sprint care cares care\n",
            "uncared\n",
            "thank you for calling sprint . we care about everybody . how can i help you ? thanked thank_you y_all you ve forthe herefor calls call sprints sprinting we re we ve careth cared aboutness regarding tout_le_monde everyone quomodo how re could cannot me you d helps lend_hand y_all you ve thanked thank_you calls call sprints sprinting tout_le_monde everyone helps lend_hand thank thanking thank_you thank aight niggas for forthis here for call callest calls callest sprint sprinting sprints sprint care cares care uncared\n",
            "relevance\n",
            "thank you for calling sprint . we care about everybody . how can i help you ? thanked thank_you y_all you ve forthe herefor calls call sprints sprinting we re we ve careth cared aboutness regarding tout_le_monde everyone quomodo how re could cannot me you d helps lend_hand y_all you ve thanked thank_you calls call sprints sprinting tout_le_monde everyone helps lend_hand thank thanking thank_you thank aight niggas for forthis here for call callest calls callest sprint sprinting sprints sprint care cares care uncared relevance\n",
            "about\n",
            "thank you for calling sprint . we care about everybody . how can i help you ? thanked thank_you y_all you ve forthe herefor calls call sprints sprinting we re we ve careth cared aboutness regarding tout_le_monde everyone quomodo how re could cannot me you d helps lend_hand y_all you ve thanked thank_you calls call sprints sprinting tout_le_monde everyone helps lend_hand thank thanking thank_you thank aight niggas for forthis here for call callest calls callest sprint sprinting sprints sprint care cares care uncared relevance about\n",
            "concerning\n",
            "thank you for calling sprint . we care about everybody . how can i help you ? thanked thank_you y_all you ve forthe herefor calls call sprints sprinting we re we ve careth cared aboutness regarding tout_le_monde everyone quomodo how re could cannot me you d helps lend_hand y_all you ve thanked thank_you calls call sprints sprinting tout_le_monde everyone helps lend_hand thank thanking thank_you thank aight niggas for forthis here for call callest calls callest sprint sprinting sprints sprint care cares care uncared relevance about concerning\n",
            "for_every\n",
            "thank you for calling sprint . we care about everybody . how can i help you ? thanked thank_you y_all you ve forthe herefor calls call sprints sprinting we re we ve careth cared aboutness regarding tout_le_monde everyone quomodo how re could cannot me you d helps lend_hand y_all you ve thanked thank_you calls call sprints sprinting tout_le_monde everyone helps lend_hand thank thanking thank_you thank aight niggas for forthis here for call callest calls callest sprint sprinting sprints sprint care cares care uncared relevance about concerning for_every\n",
            "tout\n",
            "thank you for calling sprint . we care about everybody . how can i help you ? thanked thank_you y_all you ve forthe herefor calls call sprints sprinting we re we ve careth cared aboutness regarding tout_le_monde everyone quomodo how re could cannot me you d helps lend_hand y_all you ve thanked thank_you calls call sprints sprinting tout_le_monde everyone helps lend_hand thank thanking thank_you thank aight niggas for forthis here for call callest calls callest sprint sprinting sprints sprint care cares care uncared relevance about concerning for_every tout\n",
            "touted\n",
            "thank you for calling sprint . we care about everybody . how can i help you ? thanked thank_you y_all you ve forthe herefor calls call sprints sprinting we re we ve careth cared aboutness regarding tout_le_monde everyone quomodo how re could cannot me you d helps lend_hand y_all you ve thanked thank_you calls call sprints sprinting tout_le_monde everyone helps lend_hand thank thanking thank_you thank aight niggas for forthis here for call callest calls callest sprint sprinting sprints sprint care cares care uncared relevance about concerning for_every tout touted\n",
            "tout_le_monde\n",
            "thank you for calling sprint . we care about everybody . how can i help you ? thanked thank_you y_all you ve forthe herefor calls call sprints sprinting we re we ve careth cared aboutness regarding tout_le_monde everyone quomodo how re could cannot me you d helps lend_hand y_all you ve thanked thank_you calls call sprints sprinting tout_le_monde everyone helps lend_hand thank thanking thank_you thank aight niggas for forthis here for call callest calls callest sprint sprinting sprints sprint care cares care uncared relevance about concerning for_every tout touted tout_le_monde\n",
            "everybody\n",
            "thank you for calling sprint . we care about everybody . how can i help you ? thanked thank_you y_all you ve forthe herefor calls call sprints sprinting we re we ve careth cared aboutness regarding tout_le_monde everyone quomodo how re could cannot me you d helps lend_hand y_all you ve thanked thank_you calls call sprints sprinting tout_le_monde everyone helps lend_hand thank thanking thank_you thank aight niggas for forthis here for call callest calls callest sprint sprinting sprints sprint care cares care uncared relevance about concerning for_every tout touted tout_le_monde everybody\n",
            "how\n",
            "thank you for calling sprint . we care about everybody . how can i help you ? thanked thank_you y_all you ve forthe herefor calls call sprints sprinting we re we ve careth cared aboutness regarding tout_le_monde everyone quomodo how re could cannot me you d helps lend_hand y_all you ve thanked thank_you calls call sprints sprinting tout_le_monde everyone helps lend_hand thank thanking thank_you thank aight niggas for forthis here for call callest calls callest sprint sprinting sprints sprint care cares care uncared relevance about concerning for_every tout touted tout_le_monde everybody how\n",
            "how s\n",
            "thank you for calling sprint . we care about everybody . how can i help you ? thanked thank_you y_all you ve forthe herefor calls call sprints sprinting we re we ve careth cared aboutness regarding tout_le_monde everyone quomodo how re could cannot me you d helps lend_hand y_all you ve thanked thank_you calls call sprints sprinting tout_le_monde everyone helps lend_hand thank thanking thank_you thank aight niggas for forthis here for call callest calls callest sprint sprinting sprints sprint care cares care uncared relevance about concerning for_every tout touted tout_le_monde everybody how how s\n",
            "couldn t\n",
            "thank you for calling sprint . we care about everybody . how can i help you ? thanked thank_you y_all you ve forthe herefor calls call sprints sprinting we re we ve careth cared aboutness regarding tout_le_monde everyone quomodo how re could cannot me you d helps lend_hand y_all you ve thanked thank_you calls call sprints sprinting tout_le_monde everyone helps lend_hand thank thanking thank_you thank aight niggas for forthis here for call callest calls callest sprint sprinting sprints sprint care cares care uncared relevance about concerning for_every tout touted tout_le_monde everybody how how s couldn t\n",
            "couldst\n",
            "thank you for calling sprint . we care about everybody . how can i help you ? thanked thank_you y_all you ve forthe herefor calls call sprints sprinting we re we ve careth cared aboutness regarding tout_le_monde everyone quomodo how re could cannot me you d helps lend_hand y_all you ve thanked thank_you calls call sprints sprinting tout_le_monde everyone helps lend_hand thank thanking thank_you thank aight niggas for forthis here for call callest calls callest sprint sprinting sprints sprint care cares care uncared relevance about concerning for_every tout touted tout_le_monde everybody how how s couldn t couldst\n",
            "help\n",
            "thank you for calling sprint . we care about everybody . how can i help you ? thanked thank_you y_all you ve forthe herefor calls call sprints sprinting we re we ve careth cared aboutness regarding tout_le_monde everyone quomodo how re could cannot me you d helps lend_hand y_all you ve thanked thank_you calls call sprints sprinting tout_le_monde everyone helps lend_hand thank thanking thank_you thank aight niggas for forthis here for call callest calls callest sprint sprinting sprints sprint care cares care uncared relevance about concerning for_every tout touted tout_le_monde everybody how how s couldn t couldst help\n",
            "lend_hand\n",
            "thank you for calling sprint . we care about everybody . how can i help you ? thanked thank_you y_all you ve forthe herefor calls call sprints sprinting we re we ve careth cared aboutness regarding tout_le_monde everyone quomodo how re could cannot me you d helps lend_hand y_all you ve thanked thank_you calls call sprints sprinting tout_le_monde everyone helps lend_hand thank thanking thank_you thank aight niggas for forthis here for call callest calls callest sprint sprinting sprints sprint care cares care uncared relevance about concerning for_every tout touted tout_le_monde everybody how how s couldn t couldst help lend_hand\n",
            "lend\n",
            "thank you for calling sprint . we care about everybody . how can i help you ? thanked thank_you y_all you ve forthe herefor calls call sprints sprinting we re we ve careth cared aboutness regarding tout_le_monde everyone quomodo how re could cannot me you d helps lend_hand y_all you ve thanked thank_you calls call sprints sprinting tout_le_monde everyone helps lend_hand thank thanking thank_you thank aight niggas for forthis here for call callest calls callest sprint sprinting sprints sprint care cares care uncared relevance about concerning for_every tout touted tout_le_monde everybody how how s couldn t couldst help lend_hand lend\n",
            "lender\n",
            "thank you for calling sprint . we care about everybody . how can i help you ? thanked thank_you y_all you ve forthe herefor calls call sprints sprinting we re we ve careth cared aboutness regarding tout_le_monde everyone quomodo how re could cannot me you d helps lend_hand y_all you ve thanked thank_you calls call sprints sprinting tout_le_monde everyone helps lend_hand thank thanking thank_you thank aight niggas for forthis here for call callest calls callest sprint sprinting sprints sprint care cares care uncared relevance about concerning for_every tout touted tout_le_monde everybody how how s couldn t couldst help lend_hand lend lender\n",
            "aight\n",
            "thank you for calling sprint . we care about everybody . how can i help you ? thanked thank_you y_all you ve forthe herefor calls call sprints sprinting we re we ve careth cared aboutness regarding tout_le_monde everyone quomodo how re could cannot me you d helps lend_hand y_all you ve thanked thank_you calls call sprints sprinting tout_le_monde everyone helps lend_hand thank thanking thank_you thank aight niggas for forthis here for call callest calls callest sprint sprinting sprints sprint care cares care uncared relevance about concerning for_every tout touted tout_le_monde everybody how how s couldn t couldst help lend_hand lend lender aight\n",
            "niggas\n",
            "hi . i ' ve been on the phone for an hour trying to get a little discrepancy on my bill fixed . i was charged for two hundred\n",
            "hello\n",
            "hi . i ' ve been on the phone for an hour trying to get a little discrepancy on my bill fixed . i was charged for two hundred hello\n",
            "hola\n",
            "hi . i ' ve been on the phone for an hour trying to get a little discrepancy on my bill fixed . i was charged for two hundred hello hola\n",
            "phoned\n",
            "hi . i ' ve been on the phone for an hour trying to get a little discrepancy on my bill fixed . i was charged for two hundred hello hola phoned\n",
            "phones\n",
            "hi . i ' ve been on the phone for an hour trying to get a little discrepancy on my bill fixed . i was charged for two hundred hello hola phoned phones\n",
            "hours\n",
            "hi . i ' ve been on the phone for an hour trying to get a little discrepancy on my bill fixed . i was charged for two hundred hello hola phoned phones hours\n",
            "half_hour\n",
            "hi . i ' ve been on the phone for an hour trying to get a little discrepancy on my bill fixed . i was charged for two hundred hello hola phoned phones hours half_hour\n",
            "attempting\n",
            "hi . i ' ve been on the phone for an hour trying to get a little discrepancy on my bill fixed . i was charged for two hundred hello hola phoned phones hours half_hour attempting\n",
            "tries\n",
            "hi . i ' ve been on the phone for an hour trying to get a little discrepancy on my bill fixed . i was charged for two hundred hello hola phoned phones hours half_hour attempting tries\n",
            "reget\n",
            "hi . i ' ve been on the phone for an hour trying to get a little discrepancy on my bill fixed . i was charged for two hundred hello hola phoned phones hours half_hour attempting tries reget\n",
            "gets\n",
            "hi . i ' ve been on the phone for an hour trying to get a little discrepancy on my bill fixed . i was charged for two hundred hello hola phoned phones hours half_hour attempting tries reget gets\n",
            "weensy\n",
            "hi . i ' ve been on the phone for an hour trying to get a little discrepancy on my bill fixed . i was charged for two hundred hello hola phoned phones hours half_hour attempting tries reget gets weensy\n",
            "itty_bitty\n",
            "hi . i ' ve been on the phone for an hour trying to get a little discrepancy on my bill fixed . i was charged for two hundred hello hola phoned phones hours half_hour attempting tries reget gets weensy itty_bitty\n",
            "discrepancies\n",
            "hi . i ' ve been on the phone for an hour trying to get a little discrepancy on my bill fixed . i was charged for two hundred hello hola phoned phones hours half_hour attempting tries reget gets weensy itty_bitty discrepancies\n",
            "disparity\n",
            "hi . i ' ve been on the phone for an hour trying to get a little discrepancy on my bill fixed . i was charged for two hundred hello hola phoned phones hours half_hour attempting tries reget gets weensy itty_bitty discrepancies disparity\n",
            "appropriation_bill\n",
            "hi . i ' ve been on the phone for an hour trying to get a little discrepancy on my bill fixed . i was charged for two hundred hello hola phoned phones hours half_hour attempting tries reget gets weensy itty_bitty discrepancies disparity appropriation_bill\n",
            "bills\n",
            "hi . i ' ve been on the phone for an hour trying to get a little discrepancy on my bill fixed . i was charged for two hundred hello hola phoned phones hours half_hour attempting tries reget gets weensy itty_bitty discrepancies disparity appropriation_bill bills\n",
            "fixed_charges\n",
            "hi . i ' ve been on the phone for an hour trying to get a little discrepancy on my bill fixed . i was charged for two hundred hello hola phoned phones hours half_hour attempting tries reget gets weensy itty_bitty discrepancies disparity appropriation_bill bills fixed_charges\n",
            "fixt\n",
            "hi . i ' ve been on the phone for an hour trying to get a little discrepancy on my bill fixed . i was charged for two hundred hello hola phoned phones hours half_hour attempting tries reget gets weensy itty_bitty discrepancies disparity appropriation_bill bills fixed_charges fixt\n",
            "charge\n",
            "hi . i ' ve been on the phone for an hour trying to get a little discrepancy on my bill fixed . i was charged for two hundred hello hola phoned phones hours half_hour attempting tries reget gets weensy itty_bitty discrepancies disparity appropriation_bill bills fixed_charges fixt charge\n",
            "charges\n",
            "hi . i ' ve been on the phone for an hour trying to get a little discrepancy on my bill fixed . i was charged for two hundred hello hola phoned phones hours half_hour attempting tries reget gets weensy itty_bitty discrepancies disparity appropriation_bill bills fixed_charges fixt charge charges\n",
            "three\n",
            "hi . i ' ve been on the phone for an hour trying to get a little discrepancy on my bill fixed . i was charged for two hundred hello hola phoned phones hours half_hour attempting tries reget gets weensy itty_bitty discrepancies disparity appropriation_bill bills fixed_charges fixt charge charges three\n",
            "four\n",
            "hi . i ' ve been on the phone for an hour trying to get a little discrepancy on my bill fixed . i was charged for two hundred hello hola phoned phones hours half_hour attempting tries reget gets weensy itty_bitty discrepancies disparity appropriation_bill bills fixed_charges fixt charge charges three four\n",
            "thousand\n",
            "hi . i ' ve been on the phone for an hour trying to get a little discrepancy on my bill fixed . i was charged for two hundred hello hola phoned phones hours half_hour attempting tries reget gets weensy itty_bitty discrepancies disparity appropriation_bill bills fixed_charges fixt charge charges three four thousand\n",
            "fifty\n"
          ],
          "name": "stdout"
        }
      ]
    },
    {
      "cell_type": "code",
      "metadata": {
        "colab": {
          "base_uri": "https://localhost:8080/"
        },
        "id": "BaE9H-Sj85kt",
        "outputId": "78529e6a-1e48-4099-a320-c609a91f50fd"
      },
      "source": [
        "print(new_data)"
      ],
      "execution_count": null,
      "outputs": [
        {
          "output_type": "stream",
          "text": [
            "['thank you for calling sprint . we care about everybody . how can i help you ? thanked thank_you y_all you ve forthe herefor calls call sprints sprinting we re we ve careth cared aboutness regarding tout_le_monde everyone quomodo how re could cannot me you d helps lend_hand y_all you ve thanked thank_you calls call sprints sprinting tout_le_monde everyone helps lend_hand thank thanking thank_you thank aight niggas for forthis here for call callest calls callest sprint sprinting sprints sprint care cares care uncared relevance about concerning for_every tout touted tout_le_monde everybody how how s couldn t couldst help lend_hand lend lender aight niggas', \"hi . i ' ve been on the phone for an hour trying to get a little discrepancy on my bill fixed . i was charged for two hundred hello hola phoned phones hours half_hour attempting tries reget gets weensy itty_bitty discrepancies disparity appropriation_bill bills fixed_charges fixt charge charges three four thousand fifty\"]\n"
          ],
          "name": "stdout"
        }
      ]
    }
  ]
}
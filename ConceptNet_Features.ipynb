{
  "nbformat": 4,
  "nbformat_minor": 0,
  "metadata": {
    "colab": {
      "name": "ConceptNet_Features.ipynb",
      "provenance": [],
      "collapsed_sections": [],
      "authorship_tag": "ABX9TyPpZJVXKNKizHeoPMPg6/mB",
      "include_colab_link": true
    },
    "kernelspec": {
      "name": "python3",
      "display_name": "Python 3"
    },
    "accelerator": "GPU"
  },
  "cells": [
    {
      "cell_type": "markdown",
      "metadata": {
        "id": "view-in-github",
        "colab_type": "text"
      },
      "source": [
        "<a href=\"https://colab.research.google.com/github/anitayadav3/EmotionRecognitionInConversation/blob/master/ConceptNet_Features.ipynb\" target=\"_parent\"><img src=\"https://colab.research.google.com/assets/colab-badge.svg\" alt=\"Open In Colab\"/></a>"
      ]
    },
    {
      "cell_type": "code",
      "metadata": {
        "colab": {
          "base_uri": "https://localhost:8080/"
        },
        "id": "AeBNy2OjIs0j",
        "outputId": "78fcdb49-68bf-49a8-aad1-c7467c56d6d5"
      },
      "source": [
        "import pickle\r\n",
        "import string\r\n",
        "import nltk\r\n",
        "from nltk.corpus import stopwords\r\n",
        "nltk.download('punkt')\r\n",
        "nltk.download('stopwords')\r\n",
        "import requests\r\n",
        "import re"
      ],
      "execution_count": 1,
      "outputs": [
        {
          "output_type": "stream",
          "text": [
            "[nltk_data] Downloading package punkt to /root/nltk_data...\n",
            "[nltk_data]   Unzipping tokenizers/punkt.zip.\n",
            "[nltk_data] Downloading package stopwords to /root/nltk_data...\n",
            "[nltk_data]   Unzipping corpora/stopwords.zip.\n"
          ],
          "name": "stdout"
        }
      ]
    },
    {
      "cell_type": "code",
      "metadata": {
        "colab": {
          "base_uri": "https://localhost:8080/"
        },
        "id": "ijlG0K3eIRuP",
        "outputId": "46a7e88e-a9e7-4599-b40a-017dddb63b5c"
      },
      "source": [
        "from google.colab import drive\r\n",
        "drive.mount('/content/gdrive')"
      ],
      "execution_count": 2,
      "outputs": [
        {
          "output_type": "stream",
          "text": [
            "Mounted at /content/gdrive\n"
          ],
          "name": "stdout"
        }
      ]
    },
    {
      "cell_type": "code",
      "metadata": {
        "id": "81u94u6dInNg"
      },
      "source": [
        "with open('/content/gdrive/My Drive/iemocap/train/sentences.pkl', 'rb') as f:\r\n",
        "    data = pickle.load(f)\r\n",
        "with open('/content/gdrive/My Drive/iemocap/train/labels.pkl', 'rb') as f:\r\n",
        "    labels = pickle.load(f)\r\n",
        "with open('/content/gdrive/My Drive/iemocap/test/sentences.pkl', 'rb') as f:\r\n",
        "    test_data = pickle.load(f)\r\n",
        "with open('/content/gdrive/My Drive/iemocap/test/labels.pkl', 'rb') as f:\r\n",
        "    test_labels = pickle.load(f)"
      ],
      "execution_count": 3,
      "outputs": []
    },
    {
      "cell_type": "code",
      "metadata": {
        "id": "S0Bh6jNmIyUl"
      },
      "source": [
        "def preprocessing(data,labels):\r\n",
        "  processed_data=[]\r\n",
        "  processed_label=[]\r\n",
        "  for i in range(0,len(data)):\r\n",
        "    for j in range(0,len(data[i])):\r\n",
        "      intermediate_data=[]\r\n",
        "      intermediate_label=[]\r\n",
        "      for k in range(0,len(data[i][j])):\r\n",
        "        text=data[i][j][k]\r\n",
        "        if text != '<eos>'and text!='<pad>':\r\n",
        "          intermediate_data.append(text)\r\n",
        "      processed_data.append(intermediate_data)\r\n",
        "  for i in labels:\r\n",
        "    for j in i:\r\n",
        "      processed_label.append(j)\r\n",
        "  return processed_data,processed_label"
      ],
      "execution_count": 4,
      "outputs": []
    },
    {
      "cell_type": "code",
      "metadata": {
        "id": "-yco_VAfIzgu"
      },
      "source": [
        "processed_data,processed_label = preprocessing(data,labels)\r\n",
        "test_processed_data,test_processed_label = preprocessing(test_data,test_labels)"
      ],
      "execution_count": 5,
      "outputs": []
    },
    {
      "cell_type": "code",
      "metadata": {
        "id": "fa8KcKu8I4rk"
      },
      "source": [
        "for i in range(0,len(processed_data)):\r\n",
        "  processed_data[i]= ' '.join(processed_data[i])\r\n",
        "for i in range(0,len(test_processed_data)):\r\n",
        "  test_processed_data[i]=' '.join(test_processed_data[i])"
      ],
      "execution_count": 6,
      "outputs": []
    },
    {
      "cell_type": "code",
      "metadata": {
        "id": "9-LsNkYoGLCe"
      },
      "source": [
        "def ConceptNet_Sentences(data,labels):\r\n",
        "  conceptnet_data=[]\r\n",
        "  conceptnet_labels=[]\r\n",
        "  try:\r\n",
        "    for sentences in range(0,len(data)):\r\n",
        "      current_sentence=data[sentences]\r\n",
        "      conceptnet_data.append(current_sentence)\r\n",
        "      conceptnet_labels.append(labels[sentences])\r\n",
        "      cleaned_sentences=data[sentences].translate(str.maketrans('', '', string.punctuation))\r\n",
        "      tokens_with_sw=nltk.word_tokenize(cleaned_sentences)\r\n",
        "      tokens= [word for word in tokens_with_sw if not word in stopwords.words()]\r\n",
        "      for i in range(1,3):\r\n",
        "        temp=current_sentence\r\n",
        "        for j in tokens:\r\n",
        "          obj = requests.get('http://api.conceptnet.io/related/c/en/' + j + '?filter=/c/en').json()\r\n",
        "          try:\r\n",
        "            response=obj['related'][i]['@id']\r\n",
        "          except Exception:\r\n",
        "            continue\r\n",
        "          response=re.sub(r'[^\\w]', ' ', response)\r\n",
        "          response=response[6:]\r\n",
        "          temp=temp.replace(j,response)\r\n",
        "        conceptnet_data.append(temp)\r\n",
        "        conceptnet_labels.append(labels[sentences])\r\n",
        "  except Exception:\r\n",
        "    pass\r\n",
        "  return conceptnet_data,conceptnet_labels"
      ],
      "execution_count": 12,
      "outputs": []
    },
    {
      "cell_type": "code",
      "metadata": {
        "id": "72rW89xjjyyO"
      },
      "source": [
        "new_data,new_label = ConceptNet_Sentences(processed_data,processed_label)"
      ],
      "execution_count": 13,
      "outputs": []
    },
    {
      "cell_type": "code",
      "metadata": {
        "id": "emqiWpgRmMIM",
        "outputId": "fab0297b-e533-40a8-dc0a-095bf0ae0198",
        "colab": {
          "base_uri": "https://localhost:8080/"
        }
      },
      "source": [
        ""
      ],
      "execution_count": 18,
      "outputs": [
        {
          "output_type": "stream",
          "text": [
            "hi . i ' ve been on the phone for an hour trying to get a little discrepancy on my bill fixed . i was charged for two hundred\n"
          ],
          "name": "stdout"
        }
      ]
    },
    {
      "cell_type": "code",
      "metadata": {
        "id": "qm6uguYUj8n_"
      },
      "source": [
        "import pickle\r\n",
        "with open('processed_data.pkl', 'wb') as f:\r\n",
        "  pickle.dump(new_data, f)\r\n",
        "with open('processed_label.pkl', 'wb') as f:\r\n",
        "  pickle.dump(new_label, f)"
      ],
      "execution_count": 14,
      "outputs": []
    }
  ]
}